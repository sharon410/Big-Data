{
  "nbformat": 4,
  "nbformat_minor": 0,
  "metadata": {
    "colab": {
      "name": "Exercise_1PyTorch",
      "provenance": [],
      "collapsed_sections": []
    },
    "kernelspec": {
      "name": "python3",
      "display_name": "Python 3"
    },
    "language_info": {
      "name": "python"
    },
    "gpuClass": "standard",
    "accelerator": "GPU",
    "widgets": {
      "application/vnd.jupyter.widget-state+json": {
        "d5e70154caf4486393205e0ca9115812": {
          "model_module": "@jupyter-widgets/controls",
          "model_name": "HBoxModel",
          "model_module_version": "1.5.0",
          "state": {
            "_dom_classes": [],
            "_model_module": "@jupyter-widgets/controls",
            "_model_module_version": "1.5.0",
            "_model_name": "HBoxModel",
            "_view_count": null,
            "_view_module": "@jupyter-widgets/controls",
            "_view_module_version": "1.5.0",
            "_view_name": "HBoxView",
            "box_style": "",
            "children": [
              "IPY_MODEL_a1cc2cf91d4a46ba8217e43ca1f0ba2d",
              "IPY_MODEL_809ff4b0c71f439aa88acdb103324c63",
              "IPY_MODEL_bc1737c005264c48b41f5a4f84f8427e"
            ],
            "layout": "IPY_MODEL_c19d0f6920df41749f809f72463d66ee"
          }
        },
        "a1cc2cf91d4a46ba8217e43ca1f0ba2d": {
          "model_module": "@jupyter-widgets/controls",
          "model_name": "HTMLModel",
          "model_module_version": "1.5.0",
          "state": {
            "_dom_classes": [],
            "_model_module": "@jupyter-widgets/controls",
            "_model_module_version": "1.5.0",
            "_model_name": "HTMLModel",
            "_view_count": null,
            "_view_module": "@jupyter-widgets/controls",
            "_view_module_version": "1.5.0",
            "_view_name": "HTMLView",
            "description": "",
            "description_tooltip": null,
            "layout": "IPY_MODEL_9b80fa6eb85943f9a97ba4f334f48dbf",
            "placeholder": "​",
            "style": "IPY_MODEL_c6483dfba7e24cbfa5e657e1dd5a7793",
            "value": ""
          }
        },
        "809ff4b0c71f439aa88acdb103324c63": {
          "model_module": "@jupyter-widgets/controls",
          "model_name": "FloatProgressModel",
          "model_module_version": "1.5.0",
          "state": {
            "_dom_classes": [],
            "_model_module": "@jupyter-widgets/controls",
            "_model_module_version": "1.5.0",
            "_model_name": "FloatProgressModel",
            "_view_count": null,
            "_view_module": "@jupyter-widgets/controls",
            "_view_module_version": "1.5.0",
            "_view_name": "ProgressView",
            "bar_style": "success",
            "description": "",
            "description_tooltip": null,
            "layout": "IPY_MODEL_89d5108058834db6a7ea1cc63f6e6a87",
            "max": 9912422,
            "min": 0,
            "orientation": "horizontal",
            "style": "IPY_MODEL_4c73a074e06740669fd57e58d9f3fccc",
            "value": 9912422
          }
        },
        "bc1737c005264c48b41f5a4f84f8427e": {
          "model_module": "@jupyter-widgets/controls",
          "model_name": "HTMLModel",
          "model_module_version": "1.5.0",
          "state": {
            "_dom_classes": [],
            "_model_module": "@jupyter-widgets/controls",
            "_model_module_version": "1.5.0",
            "_model_name": "HTMLModel",
            "_view_count": null,
            "_view_module": "@jupyter-widgets/controls",
            "_view_module_version": "1.5.0",
            "_view_name": "HTMLView",
            "description": "",
            "description_tooltip": null,
            "layout": "IPY_MODEL_9b23c3e7f754417aa0dc8d4fe878e06a",
            "placeholder": "​",
            "style": "IPY_MODEL_0eb19f4642f648a0a8d0d3671ae8103f",
            "value": " 9913344/? [00:00&lt;00:00, 63579462.71it/s]"
          }
        },
        "c19d0f6920df41749f809f72463d66ee": {
          "model_module": "@jupyter-widgets/base",
          "model_name": "LayoutModel",
          "model_module_version": "1.2.0",
          "state": {
            "_model_module": "@jupyter-widgets/base",
            "_model_module_version": "1.2.0",
            "_model_name": "LayoutModel",
            "_view_count": null,
            "_view_module": "@jupyter-widgets/base",
            "_view_module_version": "1.2.0",
            "_view_name": "LayoutView",
            "align_content": null,
            "align_items": null,
            "align_self": null,
            "border": null,
            "bottom": null,
            "display": null,
            "flex": null,
            "flex_flow": null,
            "grid_area": null,
            "grid_auto_columns": null,
            "grid_auto_flow": null,
            "grid_auto_rows": null,
            "grid_column": null,
            "grid_gap": null,
            "grid_row": null,
            "grid_template_areas": null,
            "grid_template_columns": null,
            "grid_template_rows": null,
            "height": null,
            "justify_content": null,
            "justify_items": null,
            "left": null,
            "margin": null,
            "max_height": null,
            "max_width": null,
            "min_height": null,
            "min_width": null,
            "object_fit": null,
            "object_position": null,
            "order": null,
            "overflow": null,
            "overflow_x": null,
            "overflow_y": null,
            "padding": null,
            "right": null,
            "top": null,
            "visibility": null,
            "width": null
          }
        },
        "9b80fa6eb85943f9a97ba4f334f48dbf": {
          "model_module": "@jupyter-widgets/base",
          "model_name": "LayoutModel",
          "model_module_version": "1.2.0",
          "state": {
            "_model_module": "@jupyter-widgets/base",
            "_model_module_version": "1.2.0",
            "_model_name": "LayoutModel",
            "_view_count": null,
            "_view_module": "@jupyter-widgets/base",
            "_view_module_version": "1.2.0",
            "_view_name": "LayoutView",
            "align_content": null,
            "align_items": null,
            "align_self": null,
            "border": null,
            "bottom": null,
            "display": null,
            "flex": null,
            "flex_flow": null,
            "grid_area": null,
            "grid_auto_columns": null,
            "grid_auto_flow": null,
            "grid_auto_rows": null,
            "grid_column": null,
            "grid_gap": null,
            "grid_row": null,
            "grid_template_areas": null,
            "grid_template_columns": null,
            "grid_template_rows": null,
            "height": null,
            "justify_content": null,
            "justify_items": null,
            "left": null,
            "margin": null,
            "max_height": null,
            "max_width": null,
            "min_height": null,
            "min_width": null,
            "object_fit": null,
            "object_position": null,
            "order": null,
            "overflow": null,
            "overflow_x": null,
            "overflow_y": null,
            "padding": null,
            "right": null,
            "top": null,
            "visibility": null,
            "width": null
          }
        },
        "c6483dfba7e24cbfa5e657e1dd5a7793": {
          "model_module": "@jupyter-widgets/controls",
          "model_name": "DescriptionStyleModel",
          "model_module_version": "1.5.0",
          "state": {
            "_model_module": "@jupyter-widgets/controls",
            "_model_module_version": "1.5.0",
            "_model_name": "DescriptionStyleModel",
            "_view_count": null,
            "_view_module": "@jupyter-widgets/base",
            "_view_module_version": "1.2.0",
            "_view_name": "StyleView",
            "description_width": ""
          }
        },
        "89d5108058834db6a7ea1cc63f6e6a87": {
          "model_module": "@jupyter-widgets/base",
          "model_name": "LayoutModel",
          "model_module_version": "1.2.0",
          "state": {
            "_model_module": "@jupyter-widgets/base",
            "_model_module_version": "1.2.0",
            "_model_name": "LayoutModel",
            "_view_count": null,
            "_view_module": "@jupyter-widgets/base",
            "_view_module_version": "1.2.0",
            "_view_name": "LayoutView",
            "align_content": null,
            "align_items": null,
            "align_self": null,
            "border": null,
            "bottom": null,
            "display": null,
            "flex": null,
            "flex_flow": null,
            "grid_area": null,
            "grid_auto_columns": null,
            "grid_auto_flow": null,
            "grid_auto_rows": null,
            "grid_column": null,
            "grid_gap": null,
            "grid_row": null,
            "grid_template_areas": null,
            "grid_template_columns": null,
            "grid_template_rows": null,
            "height": null,
            "justify_content": null,
            "justify_items": null,
            "left": null,
            "margin": null,
            "max_height": null,
            "max_width": null,
            "min_height": null,
            "min_width": null,
            "object_fit": null,
            "object_position": null,
            "order": null,
            "overflow": null,
            "overflow_x": null,
            "overflow_y": null,
            "padding": null,
            "right": null,
            "top": null,
            "visibility": null,
            "width": null
          }
        },
        "4c73a074e06740669fd57e58d9f3fccc": {
          "model_module": "@jupyter-widgets/controls",
          "model_name": "ProgressStyleModel",
          "model_module_version": "1.5.0",
          "state": {
            "_model_module": "@jupyter-widgets/controls",
            "_model_module_version": "1.5.0",
            "_model_name": "ProgressStyleModel",
            "_view_count": null,
            "_view_module": "@jupyter-widgets/base",
            "_view_module_version": "1.2.0",
            "_view_name": "StyleView",
            "bar_color": null,
            "description_width": ""
          }
        },
        "9b23c3e7f754417aa0dc8d4fe878e06a": {
          "model_module": "@jupyter-widgets/base",
          "model_name": "LayoutModel",
          "model_module_version": "1.2.0",
          "state": {
            "_model_module": "@jupyter-widgets/base",
            "_model_module_version": "1.2.0",
            "_model_name": "LayoutModel",
            "_view_count": null,
            "_view_module": "@jupyter-widgets/base",
            "_view_module_version": "1.2.0",
            "_view_name": "LayoutView",
            "align_content": null,
            "align_items": null,
            "align_self": null,
            "border": null,
            "bottom": null,
            "display": null,
            "flex": null,
            "flex_flow": null,
            "grid_area": null,
            "grid_auto_columns": null,
            "grid_auto_flow": null,
            "grid_auto_rows": null,
            "grid_column": null,
            "grid_gap": null,
            "grid_row": null,
            "grid_template_areas": null,
            "grid_template_columns": null,
            "grid_template_rows": null,
            "height": null,
            "justify_content": null,
            "justify_items": null,
            "left": null,
            "margin": null,
            "max_height": null,
            "max_width": null,
            "min_height": null,
            "min_width": null,
            "object_fit": null,
            "object_position": null,
            "order": null,
            "overflow": null,
            "overflow_x": null,
            "overflow_y": null,
            "padding": null,
            "right": null,
            "top": null,
            "visibility": null,
            "width": null
          }
        },
        "0eb19f4642f648a0a8d0d3671ae8103f": {
          "model_module": "@jupyter-widgets/controls",
          "model_name": "DescriptionStyleModel",
          "model_module_version": "1.5.0",
          "state": {
            "_model_module": "@jupyter-widgets/controls",
            "_model_module_version": "1.5.0",
            "_model_name": "DescriptionStyleModel",
            "_view_count": null,
            "_view_module": "@jupyter-widgets/base",
            "_view_module_version": "1.2.0",
            "_view_name": "StyleView",
            "description_width": ""
          }
        },
        "2350e5e793564ff2ba8af76dc402a1b5": {
          "model_module": "@jupyter-widgets/controls",
          "model_name": "HBoxModel",
          "model_module_version": "1.5.0",
          "state": {
            "_dom_classes": [],
            "_model_module": "@jupyter-widgets/controls",
            "_model_module_version": "1.5.0",
            "_model_name": "HBoxModel",
            "_view_count": null,
            "_view_module": "@jupyter-widgets/controls",
            "_view_module_version": "1.5.0",
            "_view_name": "HBoxView",
            "box_style": "",
            "children": [
              "IPY_MODEL_49c9372f7c9f40d98a5cf230dcd33533",
              "IPY_MODEL_60c5ac28684c4295ba3625f98ad5c9c9",
              "IPY_MODEL_a993408e1b9745aaaf94204cf8bf6a05"
            ],
            "layout": "IPY_MODEL_f19958c6d0584858998e727cb2f7a7de"
          }
        },
        "49c9372f7c9f40d98a5cf230dcd33533": {
          "model_module": "@jupyter-widgets/controls",
          "model_name": "HTMLModel",
          "model_module_version": "1.5.0",
          "state": {
            "_dom_classes": [],
            "_model_module": "@jupyter-widgets/controls",
            "_model_module_version": "1.5.0",
            "_model_name": "HTMLModel",
            "_view_count": null,
            "_view_module": "@jupyter-widgets/controls",
            "_view_module_version": "1.5.0",
            "_view_name": "HTMLView",
            "description": "",
            "description_tooltip": null,
            "layout": "IPY_MODEL_0efcac67275246f0a624d840946258ba",
            "placeholder": "​",
            "style": "IPY_MODEL_fd36a2f6fad34dc58c18653b03862d9b",
            "value": ""
          }
        },
        "60c5ac28684c4295ba3625f98ad5c9c9": {
          "model_module": "@jupyter-widgets/controls",
          "model_name": "FloatProgressModel",
          "model_module_version": "1.5.0",
          "state": {
            "_dom_classes": [],
            "_model_module": "@jupyter-widgets/controls",
            "_model_module_version": "1.5.0",
            "_model_name": "FloatProgressModel",
            "_view_count": null,
            "_view_module": "@jupyter-widgets/controls",
            "_view_module_version": "1.5.0",
            "_view_name": "ProgressView",
            "bar_style": "success",
            "description": "",
            "description_tooltip": null,
            "layout": "IPY_MODEL_5957fe4db8b24cdb8b205ea3d32e2796",
            "max": 28881,
            "min": 0,
            "orientation": "horizontal",
            "style": "IPY_MODEL_34ce26e64b30499f8bcec5ddc5e947a1",
            "value": 28881
          }
        },
        "a993408e1b9745aaaf94204cf8bf6a05": {
          "model_module": "@jupyter-widgets/controls",
          "model_name": "HTMLModel",
          "model_module_version": "1.5.0",
          "state": {
            "_dom_classes": [],
            "_model_module": "@jupyter-widgets/controls",
            "_model_module_version": "1.5.0",
            "_model_name": "HTMLModel",
            "_view_count": null,
            "_view_module": "@jupyter-widgets/controls",
            "_view_module_version": "1.5.0",
            "_view_name": "HTMLView",
            "description": "",
            "description_tooltip": null,
            "layout": "IPY_MODEL_ef47d8ba59f3433aa4ce5c7ddce285bc",
            "placeholder": "​",
            "style": "IPY_MODEL_5aa0f9673e744a7588b7a30ed2a5fecd",
            "value": " 29696/? [00:00&lt;00:00, 665221.36it/s]"
          }
        },
        "f19958c6d0584858998e727cb2f7a7de": {
          "model_module": "@jupyter-widgets/base",
          "model_name": "LayoutModel",
          "model_module_version": "1.2.0",
          "state": {
            "_model_module": "@jupyter-widgets/base",
            "_model_module_version": "1.2.0",
            "_model_name": "LayoutModel",
            "_view_count": null,
            "_view_module": "@jupyter-widgets/base",
            "_view_module_version": "1.2.0",
            "_view_name": "LayoutView",
            "align_content": null,
            "align_items": null,
            "align_self": null,
            "border": null,
            "bottom": null,
            "display": null,
            "flex": null,
            "flex_flow": null,
            "grid_area": null,
            "grid_auto_columns": null,
            "grid_auto_flow": null,
            "grid_auto_rows": null,
            "grid_column": null,
            "grid_gap": null,
            "grid_row": null,
            "grid_template_areas": null,
            "grid_template_columns": null,
            "grid_template_rows": null,
            "height": null,
            "justify_content": null,
            "justify_items": null,
            "left": null,
            "margin": null,
            "max_height": null,
            "max_width": null,
            "min_height": null,
            "min_width": null,
            "object_fit": null,
            "object_position": null,
            "order": null,
            "overflow": null,
            "overflow_x": null,
            "overflow_y": null,
            "padding": null,
            "right": null,
            "top": null,
            "visibility": null,
            "width": null
          }
        },
        "0efcac67275246f0a624d840946258ba": {
          "model_module": "@jupyter-widgets/base",
          "model_name": "LayoutModel",
          "model_module_version": "1.2.0",
          "state": {
            "_model_module": "@jupyter-widgets/base",
            "_model_module_version": "1.2.0",
            "_model_name": "LayoutModel",
            "_view_count": null,
            "_view_module": "@jupyter-widgets/base",
            "_view_module_version": "1.2.0",
            "_view_name": "LayoutView",
            "align_content": null,
            "align_items": null,
            "align_self": null,
            "border": null,
            "bottom": null,
            "display": null,
            "flex": null,
            "flex_flow": null,
            "grid_area": null,
            "grid_auto_columns": null,
            "grid_auto_flow": null,
            "grid_auto_rows": null,
            "grid_column": null,
            "grid_gap": null,
            "grid_row": null,
            "grid_template_areas": null,
            "grid_template_columns": null,
            "grid_template_rows": null,
            "height": null,
            "justify_content": null,
            "justify_items": null,
            "left": null,
            "margin": null,
            "max_height": null,
            "max_width": null,
            "min_height": null,
            "min_width": null,
            "object_fit": null,
            "object_position": null,
            "order": null,
            "overflow": null,
            "overflow_x": null,
            "overflow_y": null,
            "padding": null,
            "right": null,
            "top": null,
            "visibility": null,
            "width": null
          }
        },
        "fd36a2f6fad34dc58c18653b03862d9b": {
          "model_module": "@jupyter-widgets/controls",
          "model_name": "DescriptionStyleModel",
          "model_module_version": "1.5.0",
          "state": {
            "_model_module": "@jupyter-widgets/controls",
            "_model_module_version": "1.5.0",
            "_model_name": "DescriptionStyleModel",
            "_view_count": null,
            "_view_module": "@jupyter-widgets/base",
            "_view_module_version": "1.2.0",
            "_view_name": "StyleView",
            "description_width": ""
          }
        },
        "5957fe4db8b24cdb8b205ea3d32e2796": {
          "model_module": "@jupyter-widgets/base",
          "model_name": "LayoutModel",
          "model_module_version": "1.2.0",
          "state": {
            "_model_module": "@jupyter-widgets/base",
            "_model_module_version": "1.2.0",
            "_model_name": "LayoutModel",
            "_view_count": null,
            "_view_module": "@jupyter-widgets/base",
            "_view_module_version": "1.2.0",
            "_view_name": "LayoutView",
            "align_content": null,
            "align_items": null,
            "align_self": null,
            "border": null,
            "bottom": null,
            "display": null,
            "flex": null,
            "flex_flow": null,
            "grid_area": null,
            "grid_auto_columns": null,
            "grid_auto_flow": null,
            "grid_auto_rows": null,
            "grid_column": null,
            "grid_gap": null,
            "grid_row": null,
            "grid_template_areas": null,
            "grid_template_columns": null,
            "grid_template_rows": null,
            "height": null,
            "justify_content": null,
            "justify_items": null,
            "left": null,
            "margin": null,
            "max_height": null,
            "max_width": null,
            "min_height": null,
            "min_width": null,
            "object_fit": null,
            "object_position": null,
            "order": null,
            "overflow": null,
            "overflow_x": null,
            "overflow_y": null,
            "padding": null,
            "right": null,
            "top": null,
            "visibility": null,
            "width": null
          }
        },
        "34ce26e64b30499f8bcec5ddc5e947a1": {
          "model_module": "@jupyter-widgets/controls",
          "model_name": "ProgressStyleModel",
          "model_module_version": "1.5.0",
          "state": {
            "_model_module": "@jupyter-widgets/controls",
            "_model_module_version": "1.5.0",
            "_model_name": "ProgressStyleModel",
            "_view_count": null,
            "_view_module": "@jupyter-widgets/base",
            "_view_module_version": "1.2.0",
            "_view_name": "StyleView",
            "bar_color": null,
            "description_width": ""
          }
        },
        "ef47d8ba59f3433aa4ce5c7ddce285bc": {
          "model_module": "@jupyter-widgets/base",
          "model_name": "LayoutModel",
          "model_module_version": "1.2.0",
          "state": {
            "_model_module": "@jupyter-widgets/base",
            "_model_module_version": "1.2.0",
            "_model_name": "LayoutModel",
            "_view_count": null,
            "_view_module": "@jupyter-widgets/base",
            "_view_module_version": "1.2.0",
            "_view_name": "LayoutView",
            "align_content": null,
            "align_items": null,
            "align_self": null,
            "border": null,
            "bottom": null,
            "display": null,
            "flex": null,
            "flex_flow": null,
            "grid_area": null,
            "grid_auto_columns": null,
            "grid_auto_flow": null,
            "grid_auto_rows": null,
            "grid_column": null,
            "grid_gap": null,
            "grid_row": null,
            "grid_template_areas": null,
            "grid_template_columns": null,
            "grid_template_rows": null,
            "height": null,
            "justify_content": null,
            "justify_items": null,
            "left": null,
            "margin": null,
            "max_height": null,
            "max_width": null,
            "min_height": null,
            "min_width": null,
            "object_fit": null,
            "object_position": null,
            "order": null,
            "overflow": null,
            "overflow_x": null,
            "overflow_y": null,
            "padding": null,
            "right": null,
            "top": null,
            "visibility": null,
            "width": null
          }
        },
        "5aa0f9673e744a7588b7a30ed2a5fecd": {
          "model_module": "@jupyter-widgets/controls",
          "model_name": "DescriptionStyleModel",
          "model_module_version": "1.5.0",
          "state": {
            "_model_module": "@jupyter-widgets/controls",
            "_model_module_version": "1.5.0",
            "_model_name": "DescriptionStyleModel",
            "_view_count": null,
            "_view_module": "@jupyter-widgets/base",
            "_view_module_version": "1.2.0",
            "_view_name": "StyleView",
            "description_width": ""
          }
        },
        "ec9fd4d8626f49658e757cf0844ebd57": {
          "model_module": "@jupyter-widgets/controls",
          "model_name": "HBoxModel",
          "model_module_version": "1.5.0",
          "state": {
            "_dom_classes": [],
            "_model_module": "@jupyter-widgets/controls",
            "_model_module_version": "1.5.0",
            "_model_name": "HBoxModel",
            "_view_count": null,
            "_view_module": "@jupyter-widgets/controls",
            "_view_module_version": "1.5.0",
            "_view_name": "HBoxView",
            "box_style": "",
            "children": [
              "IPY_MODEL_f7a869ed3ce14d2394fce92b92308c2d",
              "IPY_MODEL_909bbd083ac249d2b103e3edc133dfb9",
              "IPY_MODEL_df9496205acb45f6a6e9485ff9e54c92"
            ],
            "layout": "IPY_MODEL_045cdacc90014116a192ce957b877262"
          }
        },
        "f7a869ed3ce14d2394fce92b92308c2d": {
          "model_module": "@jupyter-widgets/controls",
          "model_name": "HTMLModel",
          "model_module_version": "1.5.0",
          "state": {
            "_dom_classes": [],
            "_model_module": "@jupyter-widgets/controls",
            "_model_module_version": "1.5.0",
            "_model_name": "HTMLModel",
            "_view_count": null,
            "_view_module": "@jupyter-widgets/controls",
            "_view_module_version": "1.5.0",
            "_view_name": "HTMLView",
            "description": "",
            "description_tooltip": null,
            "layout": "IPY_MODEL_e89aa38015de4950aa7cdd4b6bf19627",
            "placeholder": "​",
            "style": "IPY_MODEL_33a3de815d094c27a32e5b7f98c8df63",
            "value": ""
          }
        },
        "909bbd083ac249d2b103e3edc133dfb9": {
          "model_module": "@jupyter-widgets/controls",
          "model_name": "FloatProgressModel",
          "model_module_version": "1.5.0",
          "state": {
            "_dom_classes": [],
            "_model_module": "@jupyter-widgets/controls",
            "_model_module_version": "1.5.0",
            "_model_name": "FloatProgressModel",
            "_view_count": null,
            "_view_module": "@jupyter-widgets/controls",
            "_view_module_version": "1.5.0",
            "_view_name": "ProgressView",
            "bar_style": "success",
            "description": "",
            "description_tooltip": null,
            "layout": "IPY_MODEL_08fdd8c8bbcc406f801f6715127a61ba",
            "max": 1648877,
            "min": 0,
            "orientation": "horizontal",
            "style": "IPY_MODEL_e4dc37def9c342ed8209d3d34e207907",
            "value": 1648877
          }
        },
        "df9496205acb45f6a6e9485ff9e54c92": {
          "model_module": "@jupyter-widgets/controls",
          "model_name": "HTMLModel",
          "model_module_version": "1.5.0",
          "state": {
            "_dom_classes": [],
            "_model_module": "@jupyter-widgets/controls",
            "_model_module_version": "1.5.0",
            "_model_name": "HTMLModel",
            "_view_count": null,
            "_view_module": "@jupyter-widgets/controls",
            "_view_module_version": "1.5.0",
            "_view_name": "HTMLView",
            "description": "",
            "description_tooltip": null,
            "layout": "IPY_MODEL_635dc0e7012b4decb5ed384171e7bf33",
            "placeholder": "​",
            "style": "IPY_MODEL_75614ef5b81449afb85d8566f1c5feb7",
            "value": " 1649664/? [00:00&lt;00:00, 25557726.99it/s]"
          }
        },
        "045cdacc90014116a192ce957b877262": {
          "model_module": "@jupyter-widgets/base",
          "model_name": "LayoutModel",
          "model_module_version": "1.2.0",
          "state": {
            "_model_module": "@jupyter-widgets/base",
            "_model_module_version": "1.2.0",
            "_model_name": "LayoutModel",
            "_view_count": null,
            "_view_module": "@jupyter-widgets/base",
            "_view_module_version": "1.2.0",
            "_view_name": "LayoutView",
            "align_content": null,
            "align_items": null,
            "align_self": null,
            "border": null,
            "bottom": null,
            "display": null,
            "flex": null,
            "flex_flow": null,
            "grid_area": null,
            "grid_auto_columns": null,
            "grid_auto_flow": null,
            "grid_auto_rows": null,
            "grid_column": null,
            "grid_gap": null,
            "grid_row": null,
            "grid_template_areas": null,
            "grid_template_columns": null,
            "grid_template_rows": null,
            "height": null,
            "justify_content": null,
            "justify_items": null,
            "left": null,
            "margin": null,
            "max_height": null,
            "max_width": null,
            "min_height": null,
            "min_width": null,
            "object_fit": null,
            "object_position": null,
            "order": null,
            "overflow": null,
            "overflow_x": null,
            "overflow_y": null,
            "padding": null,
            "right": null,
            "top": null,
            "visibility": null,
            "width": null
          }
        },
        "e89aa38015de4950aa7cdd4b6bf19627": {
          "model_module": "@jupyter-widgets/base",
          "model_name": "LayoutModel",
          "model_module_version": "1.2.0",
          "state": {
            "_model_module": "@jupyter-widgets/base",
            "_model_module_version": "1.2.0",
            "_model_name": "LayoutModel",
            "_view_count": null,
            "_view_module": "@jupyter-widgets/base",
            "_view_module_version": "1.2.0",
            "_view_name": "LayoutView",
            "align_content": null,
            "align_items": null,
            "align_self": null,
            "border": null,
            "bottom": null,
            "display": null,
            "flex": null,
            "flex_flow": null,
            "grid_area": null,
            "grid_auto_columns": null,
            "grid_auto_flow": null,
            "grid_auto_rows": null,
            "grid_column": null,
            "grid_gap": null,
            "grid_row": null,
            "grid_template_areas": null,
            "grid_template_columns": null,
            "grid_template_rows": null,
            "height": null,
            "justify_content": null,
            "justify_items": null,
            "left": null,
            "margin": null,
            "max_height": null,
            "max_width": null,
            "min_height": null,
            "min_width": null,
            "object_fit": null,
            "object_position": null,
            "order": null,
            "overflow": null,
            "overflow_x": null,
            "overflow_y": null,
            "padding": null,
            "right": null,
            "top": null,
            "visibility": null,
            "width": null
          }
        },
        "33a3de815d094c27a32e5b7f98c8df63": {
          "model_module": "@jupyter-widgets/controls",
          "model_name": "DescriptionStyleModel",
          "model_module_version": "1.5.0",
          "state": {
            "_model_module": "@jupyter-widgets/controls",
            "_model_module_version": "1.5.0",
            "_model_name": "DescriptionStyleModel",
            "_view_count": null,
            "_view_module": "@jupyter-widgets/base",
            "_view_module_version": "1.2.0",
            "_view_name": "StyleView",
            "description_width": ""
          }
        },
        "08fdd8c8bbcc406f801f6715127a61ba": {
          "model_module": "@jupyter-widgets/base",
          "model_name": "LayoutModel",
          "model_module_version": "1.2.0",
          "state": {
            "_model_module": "@jupyter-widgets/base",
            "_model_module_version": "1.2.0",
            "_model_name": "LayoutModel",
            "_view_count": null,
            "_view_module": "@jupyter-widgets/base",
            "_view_module_version": "1.2.0",
            "_view_name": "LayoutView",
            "align_content": null,
            "align_items": null,
            "align_self": null,
            "border": null,
            "bottom": null,
            "display": null,
            "flex": null,
            "flex_flow": null,
            "grid_area": null,
            "grid_auto_columns": null,
            "grid_auto_flow": null,
            "grid_auto_rows": null,
            "grid_column": null,
            "grid_gap": null,
            "grid_row": null,
            "grid_template_areas": null,
            "grid_template_columns": null,
            "grid_template_rows": null,
            "height": null,
            "justify_content": null,
            "justify_items": null,
            "left": null,
            "margin": null,
            "max_height": null,
            "max_width": null,
            "min_height": null,
            "min_width": null,
            "object_fit": null,
            "object_position": null,
            "order": null,
            "overflow": null,
            "overflow_x": null,
            "overflow_y": null,
            "padding": null,
            "right": null,
            "top": null,
            "visibility": null,
            "width": null
          }
        },
        "e4dc37def9c342ed8209d3d34e207907": {
          "model_module": "@jupyter-widgets/controls",
          "model_name": "ProgressStyleModel",
          "model_module_version": "1.5.0",
          "state": {
            "_model_module": "@jupyter-widgets/controls",
            "_model_module_version": "1.5.0",
            "_model_name": "ProgressStyleModel",
            "_view_count": null,
            "_view_module": "@jupyter-widgets/base",
            "_view_module_version": "1.2.0",
            "_view_name": "StyleView",
            "bar_color": null,
            "description_width": ""
          }
        },
        "635dc0e7012b4decb5ed384171e7bf33": {
          "model_module": "@jupyter-widgets/base",
          "model_name": "LayoutModel",
          "model_module_version": "1.2.0",
          "state": {
            "_model_module": "@jupyter-widgets/base",
            "_model_module_version": "1.2.0",
            "_model_name": "LayoutModel",
            "_view_count": null,
            "_view_module": "@jupyter-widgets/base",
            "_view_module_version": "1.2.0",
            "_view_name": "LayoutView",
            "align_content": null,
            "align_items": null,
            "align_self": null,
            "border": null,
            "bottom": null,
            "display": null,
            "flex": null,
            "flex_flow": null,
            "grid_area": null,
            "grid_auto_columns": null,
            "grid_auto_flow": null,
            "grid_auto_rows": null,
            "grid_column": null,
            "grid_gap": null,
            "grid_row": null,
            "grid_template_areas": null,
            "grid_template_columns": null,
            "grid_template_rows": null,
            "height": null,
            "justify_content": null,
            "justify_items": null,
            "left": null,
            "margin": null,
            "max_height": null,
            "max_width": null,
            "min_height": null,
            "min_width": null,
            "object_fit": null,
            "object_position": null,
            "order": null,
            "overflow": null,
            "overflow_x": null,
            "overflow_y": null,
            "padding": null,
            "right": null,
            "top": null,
            "visibility": null,
            "width": null
          }
        },
        "75614ef5b81449afb85d8566f1c5feb7": {
          "model_module": "@jupyter-widgets/controls",
          "model_name": "DescriptionStyleModel",
          "model_module_version": "1.5.0",
          "state": {
            "_model_module": "@jupyter-widgets/controls",
            "_model_module_version": "1.5.0",
            "_model_name": "DescriptionStyleModel",
            "_view_count": null,
            "_view_module": "@jupyter-widgets/base",
            "_view_module_version": "1.2.0",
            "_view_name": "StyleView",
            "description_width": ""
          }
        },
        "c19b261375124dd49fe5129c525c66bb": {
          "model_module": "@jupyter-widgets/controls",
          "model_name": "HBoxModel",
          "model_module_version": "1.5.0",
          "state": {
            "_dom_classes": [],
            "_model_module": "@jupyter-widgets/controls",
            "_model_module_version": "1.5.0",
            "_model_name": "HBoxModel",
            "_view_count": null,
            "_view_module": "@jupyter-widgets/controls",
            "_view_module_version": "1.5.0",
            "_view_name": "HBoxView",
            "box_style": "",
            "children": [
              "IPY_MODEL_0c04047008e74606a95b2cefe244303f",
              "IPY_MODEL_218c0a1356f04b748a41dbc5b6880d21",
              "IPY_MODEL_00e408a0bfef48ecbf5e5afb85a86c17"
            ],
            "layout": "IPY_MODEL_165e8eb722df4b08879d2f775a5a994e"
          }
        },
        "0c04047008e74606a95b2cefe244303f": {
          "model_module": "@jupyter-widgets/controls",
          "model_name": "HTMLModel",
          "model_module_version": "1.5.0",
          "state": {
            "_dom_classes": [],
            "_model_module": "@jupyter-widgets/controls",
            "_model_module_version": "1.5.0",
            "_model_name": "HTMLModel",
            "_view_count": null,
            "_view_module": "@jupyter-widgets/controls",
            "_view_module_version": "1.5.0",
            "_view_name": "HTMLView",
            "description": "",
            "description_tooltip": null,
            "layout": "IPY_MODEL_11f4e70608bb4dab8e8599b21ef2c2f3",
            "placeholder": "​",
            "style": "IPY_MODEL_d0484885814f4073b49276ff422fd7e7",
            "value": ""
          }
        },
        "218c0a1356f04b748a41dbc5b6880d21": {
          "model_module": "@jupyter-widgets/controls",
          "model_name": "FloatProgressModel",
          "model_module_version": "1.5.0",
          "state": {
            "_dom_classes": [],
            "_model_module": "@jupyter-widgets/controls",
            "_model_module_version": "1.5.0",
            "_model_name": "FloatProgressModel",
            "_view_count": null,
            "_view_module": "@jupyter-widgets/controls",
            "_view_module_version": "1.5.0",
            "_view_name": "ProgressView",
            "bar_style": "success",
            "description": "",
            "description_tooltip": null,
            "layout": "IPY_MODEL_b6b34cad08c34cb2a57d3aa884ece8e7",
            "max": 4542,
            "min": 0,
            "orientation": "horizontal",
            "style": "IPY_MODEL_ac4fafb0ccee4b298f6f937dd8652c1a",
            "value": 4542
          }
        },
        "00e408a0bfef48ecbf5e5afb85a86c17": {
          "model_module": "@jupyter-widgets/controls",
          "model_name": "HTMLModel",
          "model_module_version": "1.5.0",
          "state": {
            "_dom_classes": [],
            "_model_module": "@jupyter-widgets/controls",
            "_model_module_version": "1.5.0",
            "_model_name": "HTMLModel",
            "_view_count": null,
            "_view_module": "@jupyter-widgets/controls",
            "_view_module_version": "1.5.0",
            "_view_name": "HTMLView",
            "description": "",
            "description_tooltip": null,
            "layout": "IPY_MODEL_48f0fe21c1e740f4972673dac3e22bf4",
            "placeholder": "​",
            "style": "IPY_MODEL_e568ede1913f40aa822c4b3c36c88c15",
            "value": " 5120/? [00:00&lt;00:00, 161490.43it/s]"
          }
        },
        "165e8eb722df4b08879d2f775a5a994e": {
          "model_module": "@jupyter-widgets/base",
          "model_name": "LayoutModel",
          "model_module_version": "1.2.0",
          "state": {
            "_model_module": "@jupyter-widgets/base",
            "_model_module_version": "1.2.0",
            "_model_name": "LayoutModel",
            "_view_count": null,
            "_view_module": "@jupyter-widgets/base",
            "_view_module_version": "1.2.0",
            "_view_name": "LayoutView",
            "align_content": null,
            "align_items": null,
            "align_self": null,
            "border": null,
            "bottom": null,
            "display": null,
            "flex": null,
            "flex_flow": null,
            "grid_area": null,
            "grid_auto_columns": null,
            "grid_auto_flow": null,
            "grid_auto_rows": null,
            "grid_column": null,
            "grid_gap": null,
            "grid_row": null,
            "grid_template_areas": null,
            "grid_template_columns": null,
            "grid_template_rows": null,
            "height": null,
            "justify_content": null,
            "justify_items": null,
            "left": null,
            "margin": null,
            "max_height": null,
            "max_width": null,
            "min_height": null,
            "min_width": null,
            "object_fit": null,
            "object_position": null,
            "order": null,
            "overflow": null,
            "overflow_x": null,
            "overflow_y": null,
            "padding": null,
            "right": null,
            "top": null,
            "visibility": null,
            "width": null
          }
        },
        "11f4e70608bb4dab8e8599b21ef2c2f3": {
          "model_module": "@jupyter-widgets/base",
          "model_name": "LayoutModel",
          "model_module_version": "1.2.0",
          "state": {
            "_model_module": "@jupyter-widgets/base",
            "_model_module_version": "1.2.0",
            "_model_name": "LayoutModel",
            "_view_count": null,
            "_view_module": "@jupyter-widgets/base",
            "_view_module_version": "1.2.0",
            "_view_name": "LayoutView",
            "align_content": null,
            "align_items": null,
            "align_self": null,
            "border": null,
            "bottom": null,
            "display": null,
            "flex": null,
            "flex_flow": null,
            "grid_area": null,
            "grid_auto_columns": null,
            "grid_auto_flow": null,
            "grid_auto_rows": null,
            "grid_column": null,
            "grid_gap": null,
            "grid_row": null,
            "grid_template_areas": null,
            "grid_template_columns": null,
            "grid_template_rows": null,
            "height": null,
            "justify_content": null,
            "justify_items": null,
            "left": null,
            "margin": null,
            "max_height": null,
            "max_width": null,
            "min_height": null,
            "min_width": null,
            "object_fit": null,
            "object_position": null,
            "order": null,
            "overflow": null,
            "overflow_x": null,
            "overflow_y": null,
            "padding": null,
            "right": null,
            "top": null,
            "visibility": null,
            "width": null
          }
        },
        "d0484885814f4073b49276ff422fd7e7": {
          "model_module": "@jupyter-widgets/controls",
          "model_name": "DescriptionStyleModel",
          "model_module_version": "1.5.0",
          "state": {
            "_model_module": "@jupyter-widgets/controls",
            "_model_module_version": "1.5.0",
            "_model_name": "DescriptionStyleModel",
            "_view_count": null,
            "_view_module": "@jupyter-widgets/base",
            "_view_module_version": "1.2.0",
            "_view_name": "StyleView",
            "description_width": ""
          }
        },
        "b6b34cad08c34cb2a57d3aa884ece8e7": {
          "model_module": "@jupyter-widgets/base",
          "model_name": "LayoutModel",
          "model_module_version": "1.2.0",
          "state": {
            "_model_module": "@jupyter-widgets/base",
            "_model_module_version": "1.2.0",
            "_model_name": "LayoutModel",
            "_view_count": null,
            "_view_module": "@jupyter-widgets/base",
            "_view_module_version": "1.2.0",
            "_view_name": "LayoutView",
            "align_content": null,
            "align_items": null,
            "align_self": null,
            "border": null,
            "bottom": null,
            "display": null,
            "flex": null,
            "flex_flow": null,
            "grid_area": null,
            "grid_auto_columns": null,
            "grid_auto_flow": null,
            "grid_auto_rows": null,
            "grid_column": null,
            "grid_gap": null,
            "grid_row": null,
            "grid_template_areas": null,
            "grid_template_columns": null,
            "grid_template_rows": null,
            "height": null,
            "justify_content": null,
            "justify_items": null,
            "left": null,
            "margin": null,
            "max_height": null,
            "max_width": null,
            "min_height": null,
            "min_width": null,
            "object_fit": null,
            "object_position": null,
            "order": null,
            "overflow": null,
            "overflow_x": null,
            "overflow_y": null,
            "padding": null,
            "right": null,
            "top": null,
            "visibility": null,
            "width": null
          }
        },
        "ac4fafb0ccee4b298f6f937dd8652c1a": {
          "model_module": "@jupyter-widgets/controls",
          "model_name": "ProgressStyleModel",
          "model_module_version": "1.5.0",
          "state": {
            "_model_module": "@jupyter-widgets/controls",
            "_model_module_version": "1.5.0",
            "_model_name": "ProgressStyleModel",
            "_view_count": null,
            "_view_module": "@jupyter-widgets/base",
            "_view_module_version": "1.2.0",
            "_view_name": "StyleView",
            "bar_color": null,
            "description_width": ""
          }
        },
        "48f0fe21c1e740f4972673dac3e22bf4": {
          "model_module": "@jupyter-widgets/base",
          "model_name": "LayoutModel",
          "model_module_version": "1.2.0",
          "state": {
            "_model_module": "@jupyter-widgets/base",
            "_model_module_version": "1.2.0",
            "_model_name": "LayoutModel",
            "_view_count": null,
            "_view_module": "@jupyter-widgets/base",
            "_view_module_version": "1.2.0",
            "_view_name": "LayoutView",
            "align_content": null,
            "align_items": null,
            "align_self": null,
            "border": null,
            "bottom": null,
            "display": null,
            "flex": null,
            "flex_flow": null,
            "grid_area": null,
            "grid_auto_columns": null,
            "grid_auto_flow": null,
            "grid_auto_rows": null,
            "grid_column": null,
            "grid_gap": null,
            "grid_row": null,
            "grid_template_areas": null,
            "grid_template_columns": null,
            "grid_template_rows": null,
            "height": null,
            "justify_content": null,
            "justify_items": null,
            "left": null,
            "margin": null,
            "max_height": null,
            "max_width": null,
            "min_height": null,
            "min_width": null,
            "object_fit": null,
            "object_position": null,
            "order": null,
            "overflow": null,
            "overflow_x": null,
            "overflow_y": null,
            "padding": null,
            "right": null,
            "top": null,
            "visibility": null,
            "width": null
          }
        },
        "e568ede1913f40aa822c4b3c36c88c15": {
          "model_module": "@jupyter-widgets/controls",
          "model_name": "DescriptionStyleModel",
          "model_module_version": "1.5.0",
          "state": {
            "_model_module": "@jupyter-widgets/controls",
            "_model_module_version": "1.5.0",
            "_model_name": "DescriptionStyleModel",
            "_view_count": null,
            "_view_module": "@jupyter-widgets/base",
            "_view_module_version": "1.2.0",
            "_view_name": "StyleView",
            "description_width": ""
          }
        },
        "d34db7e228b9462ca597d1fc439a9574": {
          "model_module": "@jupyter-widgets/controls",
          "model_name": "HBoxModel",
          "model_module_version": "1.5.0",
          "state": {
            "_dom_classes": [],
            "_model_module": "@jupyter-widgets/controls",
            "_model_module_version": "1.5.0",
            "_model_name": "HBoxModel",
            "_view_count": null,
            "_view_module": "@jupyter-widgets/controls",
            "_view_module_version": "1.5.0",
            "_view_name": "HBoxView",
            "box_style": "",
            "children": [
              "IPY_MODEL_9c62fca5340f48969e0ba7f0e6fba897",
              "IPY_MODEL_d96e9101ea654a789aa1c16628bedf06",
              "IPY_MODEL_7b1eaa3d996d41f8b6b7f6a240bf2f5c"
            ],
            "layout": "IPY_MODEL_1b097ae4cb2645bf8188986d1d6265ab"
          }
        },
        "9c62fca5340f48969e0ba7f0e6fba897": {
          "model_module": "@jupyter-widgets/controls",
          "model_name": "HTMLModel",
          "model_module_version": "1.5.0",
          "state": {
            "_dom_classes": [],
            "_model_module": "@jupyter-widgets/controls",
            "_model_module_version": "1.5.0",
            "_model_name": "HTMLModel",
            "_view_count": null,
            "_view_module": "@jupyter-widgets/controls",
            "_view_module_version": "1.5.0",
            "_view_name": "HTMLView",
            "description": "",
            "description_tooltip": null,
            "layout": "IPY_MODEL_0510812f10a144549e0e484c2fafcc5d",
            "placeholder": "​",
            "style": "IPY_MODEL_28036d4c87b246e3bde8f9cd60db8024",
            "value": ""
          }
        },
        "d96e9101ea654a789aa1c16628bedf06": {
          "model_module": "@jupyter-widgets/controls",
          "model_name": "FloatProgressModel",
          "model_module_version": "1.5.0",
          "state": {
            "_dom_classes": [],
            "_model_module": "@jupyter-widgets/controls",
            "_model_module_version": "1.5.0",
            "_model_name": "FloatProgressModel",
            "_view_count": null,
            "_view_module": "@jupyter-widgets/controls",
            "_view_module_version": "1.5.0",
            "_view_name": "ProgressView",
            "bar_style": "success",
            "description": "",
            "description_tooltip": null,
            "layout": "IPY_MODEL_40e869cf00c9403fbd4d1a81d1225beb",
            "max": 170498071,
            "min": 0,
            "orientation": "horizontal",
            "style": "IPY_MODEL_0cf28cdf150e47b58056e03c5aa63752",
            "value": 170498071
          }
        },
        "7b1eaa3d996d41f8b6b7f6a240bf2f5c": {
          "model_module": "@jupyter-widgets/controls",
          "model_name": "HTMLModel",
          "model_module_version": "1.5.0",
          "state": {
            "_dom_classes": [],
            "_model_module": "@jupyter-widgets/controls",
            "_model_module_version": "1.5.0",
            "_model_name": "HTMLModel",
            "_view_count": null,
            "_view_module": "@jupyter-widgets/controls",
            "_view_module_version": "1.5.0",
            "_view_name": "HTMLView",
            "description": "",
            "description_tooltip": null,
            "layout": "IPY_MODEL_c10ca854c5c246d4a4fc9d1e5f26bfa2",
            "placeholder": "​",
            "style": "IPY_MODEL_013cf4f4965b4e4ca4c5553c1b0beb70",
            "value": " 170499072/? [00:01&lt;00:00, 96674813.95it/s]"
          }
        },
        "1b097ae4cb2645bf8188986d1d6265ab": {
          "model_module": "@jupyter-widgets/base",
          "model_name": "LayoutModel",
          "model_module_version": "1.2.0",
          "state": {
            "_model_module": "@jupyter-widgets/base",
            "_model_module_version": "1.2.0",
            "_model_name": "LayoutModel",
            "_view_count": null,
            "_view_module": "@jupyter-widgets/base",
            "_view_module_version": "1.2.0",
            "_view_name": "LayoutView",
            "align_content": null,
            "align_items": null,
            "align_self": null,
            "border": null,
            "bottom": null,
            "display": null,
            "flex": null,
            "flex_flow": null,
            "grid_area": null,
            "grid_auto_columns": null,
            "grid_auto_flow": null,
            "grid_auto_rows": null,
            "grid_column": null,
            "grid_gap": null,
            "grid_row": null,
            "grid_template_areas": null,
            "grid_template_columns": null,
            "grid_template_rows": null,
            "height": null,
            "justify_content": null,
            "justify_items": null,
            "left": null,
            "margin": null,
            "max_height": null,
            "max_width": null,
            "min_height": null,
            "min_width": null,
            "object_fit": null,
            "object_position": null,
            "order": null,
            "overflow": null,
            "overflow_x": null,
            "overflow_y": null,
            "padding": null,
            "right": null,
            "top": null,
            "visibility": null,
            "width": null
          }
        },
        "0510812f10a144549e0e484c2fafcc5d": {
          "model_module": "@jupyter-widgets/base",
          "model_name": "LayoutModel",
          "model_module_version": "1.2.0",
          "state": {
            "_model_module": "@jupyter-widgets/base",
            "_model_module_version": "1.2.0",
            "_model_name": "LayoutModel",
            "_view_count": null,
            "_view_module": "@jupyter-widgets/base",
            "_view_module_version": "1.2.0",
            "_view_name": "LayoutView",
            "align_content": null,
            "align_items": null,
            "align_self": null,
            "border": null,
            "bottom": null,
            "display": null,
            "flex": null,
            "flex_flow": null,
            "grid_area": null,
            "grid_auto_columns": null,
            "grid_auto_flow": null,
            "grid_auto_rows": null,
            "grid_column": null,
            "grid_gap": null,
            "grid_row": null,
            "grid_template_areas": null,
            "grid_template_columns": null,
            "grid_template_rows": null,
            "height": null,
            "justify_content": null,
            "justify_items": null,
            "left": null,
            "margin": null,
            "max_height": null,
            "max_width": null,
            "min_height": null,
            "min_width": null,
            "object_fit": null,
            "object_position": null,
            "order": null,
            "overflow": null,
            "overflow_x": null,
            "overflow_y": null,
            "padding": null,
            "right": null,
            "top": null,
            "visibility": null,
            "width": null
          }
        },
        "28036d4c87b246e3bde8f9cd60db8024": {
          "model_module": "@jupyter-widgets/controls",
          "model_name": "DescriptionStyleModel",
          "model_module_version": "1.5.0",
          "state": {
            "_model_module": "@jupyter-widgets/controls",
            "_model_module_version": "1.5.0",
            "_model_name": "DescriptionStyleModel",
            "_view_count": null,
            "_view_module": "@jupyter-widgets/base",
            "_view_module_version": "1.2.0",
            "_view_name": "StyleView",
            "description_width": ""
          }
        },
        "40e869cf00c9403fbd4d1a81d1225beb": {
          "model_module": "@jupyter-widgets/base",
          "model_name": "LayoutModel",
          "model_module_version": "1.2.0",
          "state": {
            "_model_module": "@jupyter-widgets/base",
            "_model_module_version": "1.2.0",
            "_model_name": "LayoutModel",
            "_view_count": null,
            "_view_module": "@jupyter-widgets/base",
            "_view_module_version": "1.2.0",
            "_view_name": "LayoutView",
            "align_content": null,
            "align_items": null,
            "align_self": null,
            "border": null,
            "bottom": null,
            "display": null,
            "flex": null,
            "flex_flow": null,
            "grid_area": null,
            "grid_auto_columns": null,
            "grid_auto_flow": null,
            "grid_auto_rows": null,
            "grid_column": null,
            "grid_gap": null,
            "grid_row": null,
            "grid_template_areas": null,
            "grid_template_columns": null,
            "grid_template_rows": null,
            "height": null,
            "justify_content": null,
            "justify_items": null,
            "left": null,
            "margin": null,
            "max_height": null,
            "max_width": null,
            "min_height": null,
            "min_width": null,
            "object_fit": null,
            "object_position": null,
            "order": null,
            "overflow": null,
            "overflow_x": null,
            "overflow_y": null,
            "padding": null,
            "right": null,
            "top": null,
            "visibility": null,
            "width": null
          }
        },
        "0cf28cdf150e47b58056e03c5aa63752": {
          "model_module": "@jupyter-widgets/controls",
          "model_name": "ProgressStyleModel",
          "model_module_version": "1.5.0",
          "state": {
            "_model_module": "@jupyter-widgets/controls",
            "_model_module_version": "1.5.0",
            "_model_name": "ProgressStyleModel",
            "_view_count": null,
            "_view_module": "@jupyter-widgets/base",
            "_view_module_version": "1.2.0",
            "_view_name": "StyleView",
            "bar_color": null,
            "description_width": ""
          }
        },
        "c10ca854c5c246d4a4fc9d1e5f26bfa2": {
          "model_module": "@jupyter-widgets/base",
          "model_name": "LayoutModel",
          "model_module_version": "1.2.0",
          "state": {
            "_model_module": "@jupyter-widgets/base",
            "_model_module_version": "1.2.0",
            "_model_name": "LayoutModel",
            "_view_count": null,
            "_view_module": "@jupyter-widgets/base",
            "_view_module_version": "1.2.0",
            "_view_name": "LayoutView",
            "align_content": null,
            "align_items": null,
            "align_self": null,
            "border": null,
            "bottom": null,
            "display": null,
            "flex": null,
            "flex_flow": null,
            "grid_area": null,
            "grid_auto_columns": null,
            "grid_auto_flow": null,
            "grid_auto_rows": null,
            "grid_column": null,
            "grid_gap": null,
            "grid_row": null,
            "grid_template_areas": null,
            "grid_template_columns": null,
            "grid_template_rows": null,
            "height": null,
            "justify_content": null,
            "justify_items": null,
            "left": null,
            "margin": null,
            "max_height": null,
            "max_width": null,
            "min_height": null,
            "min_width": null,
            "object_fit": null,
            "object_position": null,
            "order": null,
            "overflow": null,
            "overflow_x": null,
            "overflow_y": null,
            "padding": null,
            "right": null,
            "top": null,
            "visibility": null,
            "width": null
          }
        },
        "013cf4f4965b4e4ca4c5553c1b0beb70": {
          "model_module": "@jupyter-widgets/controls",
          "model_name": "DescriptionStyleModel",
          "model_module_version": "1.5.0",
          "state": {
            "_model_module": "@jupyter-widgets/controls",
            "_model_module_version": "1.5.0",
            "_model_name": "DescriptionStyleModel",
            "_view_count": null,
            "_view_module": "@jupyter-widgets/base",
            "_view_module_version": "1.2.0",
            "_view_name": "StyleView",
            "description_width": ""
          }
        }
      }
    }
  },
  "cells": [
    {
      "cell_type": "markdown",
      "source": [
        "### **Sharon Laurance Muthipeedika**\n",
        "### 312486"
      ],
      "metadata": {
        "id": "znlEWhw6QzO9"
      }
    },
    {
      "cell_type": "markdown",
      "source": [
        "### **LeNet MNIST Tensorboard**"
      ],
      "metadata": {
        "id": "4aZ9UM0flie5"
      }
    },
    {
      "cell_type": "code",
      "execution_count": 1,
      "metadata": {
        "id": "T1DUBW-slgAC"
      },
      "outputs": [],
      "source": [
        "#Load the Libraries\n",
        "import numpy as np\n",
        "from datetime import datetime \n",
        "import torch\n",
        "import torch.nn as nn\n",
        "import torch.nn.functional as F\n",
        "from torch.utils.data import DataLoader\n",
        "from torchvision import datasets, transforms\n",
        "import matplotlib.pyplot as plt\n",
        "import gc\n",
        "# check device\n",
        "DEVICE = 'cuda' if torch.cuda.is_available() else 'cpu'"
      ]
    },
    {
      "cell_type": "code",
      "source": [
        "## Print Device being used\n",
        "DEVICE"
      ],
      "metadata": {
        "colab": {
          "base_uri": "https://localhost:8080/",
          "height": 35
        },
        "id": "V_Kd9oyAmO2c",
        "outputId": "1e536018-dfd7-4913-c198-73665be89f47"
      },
      "execution_count": null,
      "outputs": [
        {
          "output_type": "execute_result",
          "data": {
            "text/plain": [
              "'cuda'"
            ],
            "application/vnd.google.colaboratory.intrinsic+json": {
              "type": "string"
            }
          },
          "metadata": {},
          "execution_count": 3
        }
      ]
    },
    {
      "cell_type": "code",
      "source": [
        "# parameters\n",
        "RANDOM_SEED = 42\n",
        "BATCH_SIZE = 32\n",
        "N_EPOCHS = 15\n",
        "IMG_SIZE = 32\n",
        "N_CLASSES = 10"
      ],
      "metadata": {
        "id": "eSOsKFWnmToV"
      },
      "execution_count": null,
      "outputs": []
    },
    {
      "cell_type": "code",
      "source": [
        "# define transforms\n",
        "transforms = transforms.Compose([transforms.Resize((32, 32)),\n",
        "                                 transforms.ToTensor()])\n",
        "\n",
        "# download and create datasets\n",
        "train_dataset = datasets.MNIST(root='mnist_data', \n",
        "                               train=True, \n",
        "                               transform=transforms,\n",
        "                               download=True)\n",
        "\n",
        "test_dataset = datasets.MNIST(root='mnist_data', \n",
        "                               train=False, \n",
        "                               transform=transforms)\n",
        "\n",
        "# define the data loaders\n",
        "train_loader = DataLoader(dataset=train_dataset, \n",
        "                          batch_size=BATCH_SIZE, \n",
        "                          shuffle=True)\n",
        "\n",
        "test_loader = DataLoader(dataset=test_dataset, \n",
        "                          batch_size=BATCH_SIZE, \n",
        "                          shuffle=False)"
      ],
      "metadata": {
        "id": "nDGNH41ymYL0",
        "colab": {
          "base_uri": "https://localhost:8080/",
          "height": 423,
          "referenced_widgets": [
            "d5e70154caf4486393205e0ca9115812",
            "a1cc2cf91d4a46ba8217e43ca1f0ba2d",
            "809ff4b0c71f439aa88acdb103324c63",
            "bc1737c005264c48b41f5a4f84f8427e",
            "c19d0f6920df41749f809f72463d66ee",
            "9b80fa6eb85943f9a97ba4f334f48dbf",
            "c6483dfba7e24cbfa5e657e1dd5a7793",
            "89d5108058834db6a7ea1cc63f6e6a87",
            "4c73a074e06740669fd57e58d9f3fccc",
            "9b23c3e7f754417aa0dc8d4fe878e06a",
            "0eb19f4642f648a0a8d0d3671ae8103f",
            "2350e5e793564ff2ba8af76dc402a1b5",
            "49c9372f7c9f40d98a5cf230dcd33533",
            "60c5ac28684c4295ba3625f98ad5c9c9",
            "a993408e1b9745aaaf94204cf8bf6a05",
            "f19958c6d0584858998e727cb2f7a7de",
            "0efcac67275246f0a624d840946258ba",
            "fd36a2f6fad34dc58c18653b03862d9b",
            "5957fe4db8b24cdb8b205ea3d32e2796",
            "34ce26e64b30499f8bcec5ddc5e947a1",
            "ef47d8ba59f3433aa4ce5c7ddce285bc",
            "5aa0f9673e744a7588b7a30ed2a5fecd",
            "ec9fd4d8626f49658e757cf0844ebd57",
            "f7a869ed3ce14d2394fce92b92308c2d",
            "909bbd083ac249d2b103e3edc133dfb9",
            "df9496205acb45f6a6e9485ff9e54c92",
            "045cdacc90014116a192ce957b877262",
            "e89aa38015de4950aa7cdd4b6bf19627",
            "33a3de815d094c27a32e5b7f98c8df63",
            "08fdd8c8bbcc406f801f6715127a61ba",
            "e4dc37def9c342ed8209d3d34e207907",
            "635dc0e7012b4decb5ed384171e7bf33",
            "75614ef5b81449afb85d8566f1c5feb7",
            "c19b261375124dd49fe5129c525c66bb",
            "0c04047008e74606a95b2cefe244303f",
            "218c0a1356f04b748a41dbc5b6880d21",
            "00e408a0bfef48ecbf5e5afb85a86c17",
            "165e8eb722df4b08879d2f775a5a994e",
            "11f4e70608bb4dab8e8599b21ef2c2f3",
            "d0484885814f4073b49276ff422fd7e7",
            "b6b34cad08c34cb2a57d3aa884ece8e7",
            "ac4fafb0ccee4b298f6f937dd8652c1a",
            "48f0fe21c1e740f4972673dac3e22bf4",
            "e568ede1913f40aa822c4b3c36c88c15"
          ]
        },
        "outputId": "43721fcb-9285-436d-d7df-7bf2b2dc21c3"
      },
      "execution_count": null,
      "outputs": [
        {
          "output_type": "stream",
          "name": "stdout",
          "text": [
            "Downloading http://yann.lecun.com/exdb/mnist/train-images-idx3-ubyte.gz\n",
            "Downloading http://yann.lecun.com/exdb/mnist/train-images-idx3-ubyte.gz to mnist_data/MNIST/raw/train-images-idx3-ubyte.gz\n"
          ]
        },
        {
          "output_type": "display_data",
          "data": {
            "text/plain": [
              "  0%|          | 0/9912422 [00:00<?, ?it/s]"
            ],
            "application/vnd.jupyter.widget-view+json": {
              "version_major": 2,
              "version_minor": 0,
              "model_id": "d5e70154caf4486393205e0ca9115812"
            }
          },
          "metadata": {}
        },
        {
          "output_type": "stream",
          "name": "stdout",
          "text": [
            "Extracting mnist_data/MNIST/raw/train-images-idx3-ubyte.gz to mnist_data/MNIST/raw\n",
            "\n",
            "Downloading http://yann.lecun.com/exdb/mnist/train-labels-idx1-ubyte.gz\n",
            "Downloading http://yann.lecun.com/exdb/mnist/train-labels-idx1-ubyte.gz to mnist_data/MNIST/raw/train-labels-idx1-ubyte.gz\n"
          ]
        },
        {
          "output_type": "display_data",
          "data": {
            "text/plain": [
              "  0%|          | 0/28881 [00:00<?, ?it/s]"
            ],
            "application/vnd.jupyter.widget-view+json": {
              "version_major": 2,
              "version_minor": 0,
              "model_id": "2350e5e793564ff2ba8af76dc402a1b5"
            }
          },
          "metadata": {}
        },
        {
          "output_type": "stream",
          "name": "stdout",
          "text": [
            "Extracting mnist_data/MNIST/raw/train-labels-idx1-ubyte.gz to mnist_data/MNIST/raw\n",
            "\n",
            "Downloading http://yann.lecun.com/exdb/mnist/t10k-images-idx3-ubyte.gz\n",
            "Downloading http://yann.lecun.com/exdb/mnist/t10k-images-idx3-ubyte.gz to mnist_data/MNIST/raw/t10k-images-idx3-ubyte.gz\n"
          ]
        },
        {
          "output_type": "display_data",
          "data": {
            "text/plain": [
              "  0%|          | 0/1648877 [00:00<?, ?it/s]"
            ],
            "application/vnd.jupyter.widget-view+json": {
              "version_major": 2,
              "version_minor": 0,
              "model_id": "ec9fd4d8626f49658e757cf0844ebd57"
            }
          },
          "metadata": {}
        },
        {
          "output_type": "stream",
          "name": "stdout",
          "text": [
            "Extracting mnist_data/MNIST/raw/t10k-images-idx3-ubyte.gz to mnist_data/MNIST/raw\n",
            "\n",
            "Downloading http://yann.lecun.com/exdb/mnist/t10k-labels-idx1-ubyte.gz\n",
            "Downloading http://yann.lecun.com/exdb/mnist/t10k-labels-idx1-ubyte.gz to mnist_data/MNIST/raw/t10k-labels-idx1-ubyte.gz\n"
          ]
        },
        {
          "output_type": "display_data",
          "data": {
            "text/plain": [
              "  0%|          | 0/4542 [00:00<?, ?it/s]"
            ],
            "application/vnd.jupyter.widget-view+json": {
              "version_major": 2,
              "version_minor": 0,
              "model_id": "c19b261375124dd49fe5129c525c66bb"
            }
          },
          "metadata": {}
        },
        {
          "output_type": "stream",
          "name": "stdout",
          "text": [
            "Extracting mnist_data/MNIST/raw/t10k-labels-idx1-ubyte.gz to mnist_data/MNIST/raw\n",
            "\n"
          ]
        }
      ]
    },
    {
      "cell_type": "code",
      "source": [
        "# Class LeNet which contains layers and forward pass- Convolution Block, Linear Block and Forward Pass\n",
        "class LeNet5(nn.Module):\n",
        "\n",
        "    def __init__(self, n_classes):\n",
        "        super(LeNet5, self).__init__()       \n",
        "        self.feature_extractor = nn.Sequential(            \n",
        "            nn.Conv2d(in_channels=1, out_channels=6, kernel_size=5, stride=1),\n",
        "            nn.Tanh(),\n",
        "            nn.AvgPool2d(kernel_size=2),\n",
        "            nn.Conv2d(in_channels=6, out_channels=16, kernel_size=5, stride=1),\n",
        "            nn.Tanh(),\n",
        "            nn.AvgPool2d(kernel_size=2),\n",
        "            nn.Conv2d(in_channels=16, out_channels=120, kernel_size=5, stride=1),\n",
        "            nn.Tanh()\n",
        "        )\n",
        "        self.classifier = nn.Sequential(\n",
        "            nn.Linear(in_features=120, out_features=84),\n",
        "            nn.Tanh(),\n",
        "            nn.Linear(in_features=84, out_features=n_classes),\n",
        "        )\n",
        "    def forward(self, x):\n",
        "        x = self.feature_extractor(x)\n",
        "        x = torch.flatten(x, 1)\n",
        "        logits = self.classifier(x)\n",
        "        probs = F.softmax(logits, dim=1)\n",
        "        return logits, probs\n"
      ],
      "metadata": {
        "id": "m3G4cN9cmbkK"
      },
      "execution_count": null,
      "outputs": []
    },
    {
      "cell_type": "code",
      "source": [
        "def train(train_loader, model, criterion, optimizer, device):\n",
        "    '''\n",
        "    Function for the training step of the training loop\n",
        "    '''\n",
        "    model.train()\n",
        "    running_loss = 0\n",
        "    for X, y_true in train_loader:\n",
        "        optimizer.zero_grad()\n",
        "        X = X.to(device)\n",
        "        y_true = y_true.to(device)\n",
        "        # Forward pass\n",
        "        y_hat, _ = model(X) \n",
        "        loss = criterion(y_hat, y_true) \n",
        "        running_loss += loss.item() * X.size(0)\n",
        "        # Backward pass\n",
        "        loss.backward()\n",
        "        optimizer.step()   \n",
        "    epoch_loss = running_loss / len(train_loader.dataset)\n",
        "    return model, optimizer, epoch_loss\n"
      ],
      "metadata": {
        "id": "fGZxEIbWmfQo"
      },
      "execution_count": null,
      "outputs": []
    },
    {
      "cell_type": "code",
      "source": [
        "def validate(test_loader, model, criterion, device):\n",
        "    '''\n",
        "    Function for the testing step of the training loop\n",
        "    '''\n",
        "   \n",
        "    model.eval()\n",
        "    running_loss = 0\n",
        "    \n",
        "    for X, y_true in test_loader:\n",
        "    \n",
        "        X = X.to(device)\n",
        "        y_true = y_true.to(device)\n",
        "\n",
        "        # Forward pass and record loss\n",
        "        y_hat, _ = model(X) \n",
        "        loss = criterion(y_hat, y_true) \n",
        "        running_loss += loss.item() * X.size(0)\n",
        "\n",
        "    epoch_loss = running_loss / len(test_loader.dataset)\n",
        "        \n",
        "    return model, epoch_loss"
      ],
      "metadata": {
        "id": "G93YRGHymmf0"
      },
      "execution_count": null,
      "outputs": []
    },
    {
      "cell_type": "code",
      "source": [
        "def training_loop(model, criterion, optimizer, train_loader, test_loader, epochs, device,lr, print_every=1):\n",
        "    '''\n",
        "    Function defining the entire training loop\n",
        "    '''\n",
        "    # set objects for storing metrics\n",
        "    best_loss = 1e10\n",
        "    train_losses = []\n",
        "    test_losses = []\n",
        "    lr=str(lr)\n",
        "    # Train model\n",
        "    for epoch in range(0, epochs):\n",
        "        # training\n",
        "        model, optimizer, train_loss = train(train_loader, model, criterion, optimizer, device)\n",
        "        writer.add_scalar(\"Epoch/Training_Loss for Learning Rate \"+lr, train_loss, epoch)      \n",
        "        train_losses.append(train_loss)\n",
        "        # Testing\n",
        "        with torch.no_grad():\n",
        "            model, test_loss = validate(test_loader, model, criterion, device)\n",
        "            test_losses.append(test_loss)\n",
        "            writer.add_scalar(\"Epoch/Testing_Loss for Learning Rate \"+lr, test_loss, epoch)\n",
        "        if epoch % print_every == (print_every - 1):           \n",
        "            train_acc = get_accuracy(model, train_loader, device=device)\n",
        "            valid_acc = get_accuracy(model, test_loader, device=device)\n",
        "            writer.add_scalar(\"Epoch/Accuracy_Training for Learning Rate \"+lr, train_acc, epoch)\n",
        "            writer.add_scalar(\"Epoch/Accuracy_Testing for Learning Rate \"+lr, valid_acc, epoch)              \n",
        "            print(f'{datetime.now().time().replace(microsecond=0)} --- '\n",
        "                  f'Epoch: {epoch}\\t'\n",
        "                  f'Train loss: {train_loss:.4f}\\t'\n",
        "                  f'Test loss: {test_loss:.4f}\\t'\n",
        "                  f'Train accuracy: {100 * train_acc:.2f}\\t'\n",
        "                  f'Test accuracy: {100 * valid_acc:.2f}')\n",
        "    writer.flush()\n",
        "    return model, optimizer, (train_losses, test_losses)"
      ],
      "metadata": {
        "id": "dqKADqAlmoRx"
      },
      "execution_count": null,
      "outputs": []
    },
    {
      "cell_type": "code",
      "source": [
        "def get_accuracy(model, data_loader, device):\n",
        "    '''\n",
        "    Function for computing the accuracy of the predictions over the entire data_loader\n",
        "    '''\n",
        "    \n",
        "    correct_pred = 0 \n",
        "    n = 0\n",
        "    \n",
        "    with torch.no_grad():\n",
        "        model.eval()\n",
        "        for X, y_true in data_loader:\n",
        "\n",
        "            X = X.to(device)\n",
        "            y_true = y_true.to(device)\n",
        "\n",
        "            _, y_prob = model(X)\n",
        "            _, predicted_labels = torch.max(y_prob, 1)\n",
        "\n",
        "            n += y_true.size(0)\n",
        "            correct_pred += (predicted_labels == y_true).sum()\n",
        "\n",
        "    return correct_pred.float() / n"
      ],
      "metadata": {
        "id": "3b-M4BbVmsBa"
      },
      "execution_count": null,
      "outputs": []
    },
    {
      "cell_type": "code",
      "source": [
        "# Adam Optimizer is used and learning rate will be varied as [0.1, 0.01, 0.001]\n",
        "torch.manual_seed(RANDOM_SEED)\n",
        "model = LeNet5(N_CLASSES).to(DEVICE)\n",
        "\n",
        "LEARNING_RATE_arr = [0.1, 0.01, 0.001]\n",
        "optimizer_arr=[]\n",
        "for i in LEARNING_RATE_arr:\n",
        "  optimizer = torch.optim.Adam(model.parameters(), lr=i)\n",
        "  optimizer_arr.append(optimizer)\n",
        "criterion = nn.CrossEntropyLoss()"
      ],
      "metadata": {
        "id": "OIRtCEo-mujr"
      },
      "execution_count": null,
      "outputs": []
    },
    {
      "cell_type": "code",
      "source": [
        "import torch\n",
        "from torch.utils.tensorboard import SummaryWriter\n",
        "writer = SummaryWriter()"
      ],
      "metadata": {
        "id": "RMFZg7penzE1"
      },
      "execution_count": null,
      "outputs": []
    },
    {
      "cell_type": "code",
      "source": [
        "model, optimizer, _ = training_loop(model, criterion, optimizer_arr[0], train_loader, test_loader, N_EPOCHS, DEVICE,LEARNING_RATE_arr[0])"
      ],
      "metadata": {
        "id": "kUcxc8VFmxEh",
        "colab": {
          "base_uri": "https://localhost:8080/"
        },
        "outputId": "21ba7a2a-021c-497e-97d3-5167bb6ec79c"
      },
      "execution_count": null,
      "outputs": [
        {
          "output_type": "stream",
          "name": "stdout",
          "text": [
            "11:25:43 --- Epoch: 0\tTrain loss: 2.5654\tTest loss: 2.6472\tTrain accuracy: 9.31\tTest accuracy: 9.17\n",
            "11:26:06 --- Epoch: 1\tTrain loss: 3.1026\tTest loss: 2.6099\tTrain accuracy: 9.87\tTest accuracy: 9.80\n",
            "11:26:29 --- Epoch: 2\tTrain loss: 3.1021\tTest loss: 3.1693\tTrain accuracy: 9.86\tTest accuracy: 9.58\n",
            "11:26:52 --- Epoch: 3\tTrain loss: 2.9800\tTest loss: 3.0832\tTrain accuracy: 9.03\tTest accuracy: 8.92\n",
            "11:27:15 --- Epoch: 4\tTrain loss: 3.0549\tTest loss: 2.8349\tTrain accuracy: 9.91\tTest accuracy: 10.09\n",
            "11:27:40 --- Epoch: 5\tTrain loss: 3.0473\tTest loss: 3.3575\tTrain accuracy: 9.74\tTest accuracy: 9.82\n",
            "11:28:02 --- Epoch: 6\tTrain loss: 3.0872\tTest loss: 3.4742\tTrain accuracy: 9.93\tTest accuracy: 10.32\n",
            "11:28:26 --- Epoch: 7\tTrain loss: 3.0571\tTest loss: 3.1494\tTrain accuracy: 11.24\tTest accuracy: 11.35\n",
            "11:28:50 --- Epoch: 8\tTrain loss: 3.0403\tTest loss: 3.0363\tTrain accuracy: 9.75\tTest accuracy: 9.74\n",
            "11:29:13 --- Epoch: 9\tTrain loss: 3.0514\tTest loss: 2.9437\tTrain accuracy: 9.87\tTest accuracy: 9.80\n",
            "11:29:36 --- Epoch: 10\tTrain loss: 3.0684\tTest loss: 3.1719\tTrain accuracy: 9.87\tTest accuracy: 9.80\n",
            "11:29:59 --- Epoch: 11\tTrain loss: 3.0913\tTest loss: 3.0541\tTrain accuracy: 11.24\tTest accuracy: 11.35\n",
            "11:30:22 --- Epoch: 12\tTrain loss: 3.0169\tTest loss: 3.4635\tTrain accuracy: 10.22\tTest accuracy: 10.10\n",
            "11:30:45 --- Epoch: 13\tTrain loss: 3.0383\tTest loss: 2.9888\tTrain accuracy: 9.91\tTest accuracy: 10.09\n",
            "11:31:08 --- Epoch: 14\tTrain loss: 3.0414\tTest loss: 3.1388\tTrain accuracy: 10.22\tTest accuracy: 10.10\n"
          ]
        }
      ]
    },
    {
      "cell_type": "code",
      "source": [
        "model, optimizer, _ = training_loop(model, criterion, optimizer_arr[1], train_loader, test_loader, N_EPOCHS, DEVICE,LEARNING_RATE_arr[1])"
      ],
      "metadata": {
        "colab": {
          "base_uri": "https://localhost:8080/"
        },
        "id": "Idd4RTVlnxO3",
        "outputId": "2a81e8ad-215b-4004-efd0-a3801b943311"
      },
      "execution_count": null,
      "outputs": [
        {
          "output_type": "stream",
          "name": "stdout",
          "text": [
            "11:17:27 --- Epoch: 0\tTrain loss: 0.2770\tTest loss: 0.2105\tTrain accuracy: 93.32\tTest accuracy: 93.74\n",
            "11:17:51 --- Epoch: 1\tTrain loss: 0.2065\tTest loss: 0.1776\tTrain accuracy: 94.38\tTest accuracy: 94.39\n",
            "11:18:14 --- Epoch: 2\tTrain loss: 0.1909\tTest loss: 0.2186\tTrain accuracy: 93.93\tTest accuracy: 93.71\n",
            "11:18:37 --- Epoch: 3\tTrain loss: 0.1986\tTest loss: 0.1739\tTrain accuracy: 94.79\tTest accuracy: 94.89\n",
            "11:19:00 --- Epoch: 4\tTrain loss: 0.1820\tTest loss: 0.1598\tTrain accuracy: 95.13\tTest accuracy: 95.48\n",
            "11:19:22 --- Epoch: 5\tTrain loss: 0.1792\tTest loss: 0.1721\tTrain accuracy: 94.75\tTest accuracy: 95.36\n",
            "11:19:45 --- Epoch: 6\tTrain loss: 0.1848\tTest loss: 0.1831\tTrain accuracy: 94.75\tTest accuracy: 94.67\n",
            "11:20:08 --- Epoch: 7\tTrain loss: 0.1895\tTest loss: 0.1683\tTrain accuracy: 95.32\tTest accuracy: 95.34\n",
            "11:20:31 --- Epoch: 8\tTrain loss: 0.1663\tTest loss: 0.1897\tTrain accuracy: 94.78\tTest accuracy: 94.91\n",
            "11:20:54 --- Epoch: 9\tTrain loss: 0.1818\tTest loss: 0.1790\tTrain accuracy: 94.49\tTest accuracy: 95.04\n",
            "11:21:17 --- Epoch: 10\tTrain loss: 0.1781\tTest loss: 0.1576\tTrain accuracy: 94.82\tTest accuracy: 95.17\n",
            "11:21:41 --- Epoch: 11\tTrain loss: 0.1660\tTest loss: 0.1533\tTrain accuracy: 96.00\tTest accuracy: 95.77\n",
            "11:22:04 --- Epoch: 12\tTrain loss: 0.1926\tTest loss: 0.1487\tTrain accuracy: 95.71\tTest accuracy: 95.75\n",
            "11:22:27 --- Epoch: 13\tTrain loss: 0.1705\tTest loss: 0.1427\tTrain accuracy: 95.25\tTest accuracy: 95.78\n",
            "11:22:50 --- Epoch: 14\tTrain loss: 0.1843\tTest loss: 0.1413\tTrain accuracy: 95.41\tTest accuracy: 95.86\n"
          ]
        }
      ]
    },
    {
      "cell_type": "code",
      "source": [
        "model, optimizer, _ = training_loop(model, criterion, optimizer_arr[2], train_loader, test_loader, N_EPOCHS, DEVICE,LEARNING_RATE_arr[2])"
      ],
      "metadata": {
        "colab": {
          "base_uri": "https://localhost:8080/"
        },
        "id": "zHPaV78MplSQ",
        "outputId": "416283d4-426e-4ea1-eff0-930212d89898"
      },
      "execution_count": null,
      "outputs": [
        {
          "output_type": "stream",
          "name": "stdout",
          "text": [
            "15:28:01 --- Epoch: 0\tTrain loss: 0.2290\tValid loss: 0.1020\tTrain accuracy: 96.84\tValid accuracy: 96.81\n",
            "15:28:25 --- Epoch: 1\tTrain loss: 0.0762\tValid loss: 0.0619\tTrain accuracy: 98.39\tValid accuracy: 98.19\n",
            "15:28:48 --- Epoch: 2\tTrain loss: 0.0550\tValid loss: 0.0542\tTrain accuracy: 98.59\tValid accuracy: 98.45\n",
            "15:29:12 --- Epoch: 3\tTrain loss: 0.0438\tValid loss: 0.0486\tTrain accuracy: 99.07\tValid accuracy: 98.41\n",
            "15:29:35 --- Epoch: 4\tTrain loss: 0.0343\tValid loss: 0.0416\tTrain accuracy: 99.24\tValid accuracy: 98.76\n",
            "15:29:58 --- Epoch: 5\tTrain loss: 0.0300\tValid loss: 0.0442\tTrain accuracy: 99.43\tValid accuracy: 98.58\n",
            "15:30:21 --- Epoch: 6\tTrain loss: 0.0249\tValid loss: 0.0427\tTrain accuracy: 99.49\tValid accuracy: 98.70\n",
            "15:30:44 --- Epoch: 7\tTrain loss: 0.0213\tValid loss: 0.0436\tTrain accuracy: 99.53\tValid accuracy: 98.64\n",
            "15:31:07 --- Epoch: 8\tTrain loss: 0.0181\tValid loss: 0.0462\tTrain accuracy: 99.51\tValid accuracy: 98.72\n",
            "15:31:31 --- Epoch: 9\tTrain loss: 0.0176\tValid loss: 0.0491\tTrain accuracy: 99.39\tValid accuracy: 98.54\n",
            "15:31:54 --- Epoch: 10\tTrain loss: 0.0153\tValid loss: 0.0507\tTrain accuracy: 99.52\tValid accuracy: 98.55\n",
            "15:32:18 --- Epoch: 11\tTrain loss: 0.0139\tValid loss: 0.0416\tTrain accuracy: 99.69\tValid accuracy: 98.78\n",
            "15:32:41 --- Epoch: 12\tTrain loss: 0.0129\tValid loss: 0.0439\tTrain accuracy: 99.72\tValid accuracy: 98.81\n",
            "15:33:05 --- Epoch: 13\tTrain loss: 0.0114\tValid loss: 0.0575\tTrain accuracy: 99.57\tValid accuracy: 98.46\n",
            "15:33:28 --- Epoch: 14\tTrain loss: 0.0117\tValid loss: 0.0468\tTrain accuracy: 99.71\tValid accuracy: 98.78\n"
          ]
        }
      ]
    },
    {
      "cell_type": "code",
      "source": [
        "!tensorboard dev upload --logdir 'runs' --name \"MNIST\" --description \"LeNet MNIST for K=3 and N=10\""
      ],
      "metadata": {
        "colab": {
          "base_uri": "https://localhost:8080/"
        },
        "id": "jIJeOwvKqQs5",
        "outputId": "6c0f6332-4736-4b1b-e3a5-ddd5f6f14d89"
      },
      "execution_count": null,
      "outputs": [
        {
          "output_type": "stream",
          "name": "stdout",
          "text": [
            "Upload started and will continue reading any new data as it's added to the logdir.\n",
            "\n",
            "To stop uploading, press Ctrl-C.\n",
            "\n",
            "New experiment created. View your TensorBoard at: https://tensorboard.dev/experiment/InDPc00zQ4KtNqwcm26WFg/\n",
            "\n",
            "\u001b[1m[2022-06-19T11:31:44]\u001b[0m Started scanning logdir.\n",
            "\u001b[1m[2022-06-19T11:31:44]\u001b[0m Total uploaded: 120 scalars, 0 tensors, 0 binary objects\n",
            "\n",
            "\n",
            "Done. View your TensorBoard at https://tensorboard.dev/experiment/InDPc00zQ4KtNqwcm26WFg/\n",
            "Traceback (most recent call last):\n",
            "  File \"/usr/local/lib/python3.7/dist-packages/tensorboard/uploader/uploader_subcommand.py\", line 482, in execute\n",
            "    uploader.start_uploading()\n",
            "  File \"/usr/local/lib/python3.7/dist-packages/tensorboard/uploader/uploader.py\", line 212, in start_uploading\n",
            "    self._logdir_poll_rate_limiter.tick()\n",
            "  File \"/usr/local/lib/python3.7/dist-packages/tensorboard/uploader/util.py\", line 42, in tick\n",
            "    self._time.sleep(wait_secs)\n",
            "KeyboardInterrupt\n",
            "\n",
            "During handling of the above exception, another exception occurred:\n",
            "\n",
            "Traceback (most recent call last):\n",
            "  File \"/usr/local/bin/tensorboard\", line 8, in <module>\n",
            "    sys.exit(run_main())\n",
            "  File \"/usr/local/lib/python3.7/dist-packages/tensorboard/main.py\", line 46, in run_main\n",
            "    app.run(tensorboard.main, flags_parser=tensorboard.configure)\n",
            "  File \"/usr/local/lib/python3.7/dist-packages/absl/app.py\", line 312, in run\n",
            "    _run_main(main, args)\n",
            "  File \"/usr/local/lib/python3.7/dist-packages/absl/app.py\", line 258, in _run_main\n",
            "    sys.exit(main(argv))\n",
            "  File \"/usr/local/lib/python3.7/dist-packages/tensorboard/program.py\", line 276, in main\n",
            "    return runner(self.flags) or 0\n",
            "  File \"/usr/local/lib/python3.7/dist-packages/tensorboard/uploader/uploader_subcommand.py\", line 692, in run\n",
            "    return _run(flags, self._experiment_url_callback)\n",
            "  File \"/usr/local/lib/python3.7/dist-packages/tensorboard/uploader/uploader_subcommand.py\", line 125, in _run\n",
            "    intent.execute(server_info, channel)\n",
            "  File \"/usr/local/lib/python3.7/dist-packages/tensorboard/uploader/uploader_subcommand.py\", line 483, in execute\n",
            "    except uploader_lib.ExperimentNotFoundError:\n",
            "KeyboardInterrupt\n"
          ]
        }
      ]
    },
    {
      "cell_type": "markdown",
      "source": [
        "### **LeNET CIFAR10 Dataset**"
      ],
      "metadata": {
        "id": "0skg2JGZwBqq"
      }
    },
    {
      "cell_type": "code",
      "source": [
        "train_augmentations = transforms.Compose([transforms.RandomGrayscale(0.2),\n",
        "                                          transforms.RandomHorizontalFlip(0.5),\n",
        "                                          transforms.RandomVerticalFlip(0.2),\n",
        "                                          transforms.RandomRotation(30),\n",
        "                                          transforms.RandomAdjustSharpness(0.4),\n",
        "                                          transforms.ToTensor(),\n",
        "                                          transforms.Normalize((0.4914, 0.4822, 0.4465), (0.2023, 0.1994, 0.2010))\n",
        "                                         ])\n",
        "\n",
        "test_augmentations = transforms.Compose([transforms.ToTensor(), \n",
        "                                         transforms.Normalize((0.4914, 0.4822, 0.4465), (0.2023, 0.1994, 0.2010))]\n",
        "                                       )"
      ],
      "metadata": {
        "id": "4QZPuTSCtaCL"
      },
      "execution_count": 2,
      "outputs": []
    },
    {
      "cell_type": "code",
      "source": [
        "path = '/tmp'\n",
        "\n",
        "train_ds = datasets.CIFAR10(root=path,\n",
        "                            train=True,\n",
        "                            transform=train_augmentations,\n",
        "                            download=True\n",
        "                           )\n",
        "\n",
        "test_ds = datasets.CIFAR10(root=path,\n",
        "                           train=False,\n",
        "                           transform=test_augmentations\n",
        "                           )\n",
        "\n",
        "labels = 'airplane automobile bird cat deer dog frog horse ship truck'.split()"
      ],
      "metadata": {
        "colab": {
          "base_uri": "https://localhost:8080/",
          "height": 84,
          "referenced_widgets": [
            "d34db7e228b9462ca597d1fc439a9574",
            "9c62fca5340f48969e0ba7f0e6fba897",
            "d96e9101ea654a789aa1c16628bedf06",
            "7b1eaa3d996d41f8b6b7f6a240bf2f5c",
            "1b097ae4cb2645bf8188986d1d6265ab",
            "0510812f10a144549e0e484c2fafcc5d",
            "28036d4c87b246e3bde8f9cd60db8024",
            "40e869cf00c9403fbd4d1a81d1225beb",
            "0cf28cdf150e47b58056e03c5aa63752",
            "c10ca854c5c246d4a4fc9d1e5f26bfa2",
            "013cf4f4965b4e4ca4c5553c1b0beb70"
          ]
        },
        "id": "Ud-24iKowcxp",
        "outputId": "ec54d93d-c0b0-4662-b5d2-3596c0472b75"
      },
      "execution_count": 3,
      "outputs": [
        {
          "output_type": "stream",
          "name": "stdout",
          "text": [
            "Downloading https://www.cs.toronto.edu/~kriz/cifar-10-python.tar.gz to /tmp/cifar-10-python.tar.gz\n"
          ]
        },
        {
          "output_type": "display_data",
          "data": {
            "text/plain": [
              "  0%|          | 0/170498071 [00:00<?, ?it/s]"
            ],
            "application/vnd.jupyter.widget-view+json": {
              "version_major": 2,
              "version_minor": 0,
              "model_id": "d34db7e228b9462ca597d1fc439a9574"
            }
          },
          "metadata": {}
        },
        {
          "output_type": "stream",
          "name": "stdout",
          "text": [
            "Extracting /tmp/cifar-10-python.tar.gz to /tmp\n"
          ]
        }
      ]
    },
    {
      "cell_type": "code",
      "source": [
        "len(train_ds), len(test_ds)"
      ],
      "metadata": {
        "colab": {
          "base_uri": "https://localhost:8080/"
        },
        "id": "Bl1bUZBewgA7",
        "outputId": "445621b9-ee3d-4c27-9b37-6ab422ba181f"
      },
      "execution_count": 4,
      "outputs": [
        {
          "output_type": "execute_result",
          "data": {
            "text/plain": [
              "(50000, 10000)"
            ]
          },
          "metadata": {},
          "execution_count": 4
        }
      ]
    },
    {
      "cell_type": "code",
      "source": [
        "train_dataloader = torch.utils.data.DataLoader(train_ds, batch_size=256, shuffle=True, num_workers=2)\n",
        "test_dataloader = torch.utils.data.DataLoader(test_ds, batch_size=256, shuffle=True, num_workers=2)"
      ],
      "metadata": {
        "id": "ilexAWrnwix0"
      },
      "execution_count": 5,
      "outputs": []
    },
    {
      "cell_type": "code",
      "source": [
        "class LeNet(nn.Module):\n",
        "    \n",
        "    def __init__(self, in_features=3, num_classes=10):\n",
        "        super(LeNet, self).__init__()\n",
        "        \n",
        "        self.conv_block = nn.Sequential( nn.Conv2d(in_channels=in_features,\n",
        "                                                   out_channels=6,\n",
        "                                                   kernel_size=5,\n",
        "                                                   stride=1),\n",
        "                                         nn.Tanh(),\n",
        "                                         nn.MaxPool2d(2,2),\n",
        "                                         \n",
        "                                         nn.Conv2d(in_channels=6,\n",
        "                                                   out_channels=16,\n",
        "                                                   kernel_size=5,\n",
        "                                                   stride=1),\n",
        "                                         nn.Tanh(),\n",
        "                                         nn.MaxPool2d(2,2)\n",
        "                                        )\n",
        "        \n",
        "        self.linear_block = nn.Sequential( nn.Linear(16*5*5, 120),\n",
        "                                           nn.Tanh(),\n",
        "                                           nn.Linear(120,84),\n",
        "                                           nn.Tanh(),\n",
        "                                           nn.Linear(84,10)\n",
        "                                         )\n",
        "        \n",
        "    def forward(self, x):\n",
        "        x = self.conv_block(x)\n",
        "        x = torch.flatten(x,1)\n",
        "        x = self.linear_block(x)\n",
        "        return x"
      ],
      "metadata": {
        "id": "CUHZWrZawuv5"
      },
      "execution_count": 6,
      "outputs": []
    },
    {
      "cell_type": "code",
      "source": [
        "# CUDA\n",
        "device = 'cuda' if torch.cuda.is_available() else 'cpu'\n",
        "device"
      ],
      "metadata": {
        "colab": {
          "base_uri": "https://localhost:8080/",
          "height": 35
        },
        "id": "-d70RngbwycV",
        "outputId": "521b2f1c-06b8-45ed-b097-b06e644a1d24"
      },
      "execution_count": 7,
      "outputs": [
        {
          "output_type": "execute_result",
          "data": {
            "text/plain": [
              "'cuda'"
            ],
            "application/vnd.google.colaboratory.intrinsic+json": {
              "type": "string"
            }
          },
          "metadata": {},
          "execution_count": 7
        }
      ]
    },
    {
      "cell_type": "code",
      "source": [
        "model = LeNet().to(device)\n",
        "print(model)"
      ],
      "metadata": {
        "colab": {
          "base_uri": "https://localhost:8080/"
        },
        "id": "N-rFmyihw1JY",
        "outputId": "00fbf195-3a5e-472b-c502-3111c8cbc22c"
      },
      "execution_count": 8,
      "outputs": [
        {
          "output_type": "stream",
          "name": "stdout",
          "text": [
            "LeNet(\n",
            "  (conv_block): Sequential(\n",
            "    (0): Conv2d(3, 6, kernel_size=(5, 5), stride=(1, 1))\n",
            "    (1): Tanh()\n",
            "    (2): MaxPool2d(kernel_size=2, stride=2, padding=0, dilation=1, ceil_mode=False)\n",
            "    (3): Conv2d(6, 16, kernel_size=(5, 5), stride=(1, 1))\n",
            "    (4): Tanh()\n",
            "    (5): MaxPool2d(kernel_size=2, stride=2, padding=0, dilation=1, ceil_mode=False)\n",
            "  )\n",
            "  (linear_block): Sequential(\n",
            "    (0): Linear(in_features=400, out_features=120, bias=True)\n",
            "    (1): Tanh()\n",
            "    (2): Linear(in_features=120, out_features=84, bias=True)\n",
            "    (3): Tanh()\n",
            "    (4): Linear(in_features=84, out_features=10, bias=True)\n",
            "  )\n",
            ")\n"
          ]
        }
      ]
    },
    {
      "cell_type": "code",
      "source": [
        "class Trainer:\n",
        "    def __init__(self, model, dataloaders, device,lr): \n",
        "        self.config = {\n",
        "            'lr':lr,\n",
        "            'epochs': 10\n",
        "        }     \n",
        "        self.model = model\n",
        "        self.train_loader, self.test_loader = dataloaders\n",
        "        self.loss_fn = nn.CrossEntropyLoss()\n",
        "        self.optim = torch.optim.Adam(self.model.parameters(), lr = self.config['lr'])\n",
        "        self.device = device      \n",
        "    def accuracy(self, output, y):\n",
        "        pred_labels = torch.argmax(output, dim=1)\n",
        "        return (pred_labels == y).sum().item() / len(y)     \n",
        "    def train_one_epoch(self):\n",
        "        running_loss = 0\n",
        "        running_acc = 0 \n",
        "        for x,y in self.train_loader:\n",
        "            self.optim.zero_grad()\n",
        "            x = x.to(self.device, dtype=torch.float)\n",
        "            y = y.to(self.device, dtype=torch.long)\n",
        "            output = self.model(x)\n",
        "            loss = self.loss_fn(output, y)\n",
        "            loss.backward()\n",
        "            self.optim.step()\n",
        "            running_loss += loss.item()\n",
        "            running_acc += self.accuracy(output,y)\n",
        "            del x,y,output\n",
        "        train_loss = running_loss/len(self.train_loader)\n",
        "        train_acc = running_acc/len(self.train_loader)\n",
        "        return train_loss, train_acc\n",
        "    \n",
        "    @torch.no_grad()\n",
        "    def valid_one_epoch(self):      \n",
        "        running_loss = 0\n",
        "        running_acc = 0       \n",
        "        for x,y in self.test_loader:           \n",
        "            x = x.to(self.device, dtype=torch.float)\n",
        "            y = y.to(self.device, dtype=torch.long)          \n",
        "            output = self.model(x)          \n",
        "            loss = self.loss_fn(output, y)          \n",
        "            running_loss += loss.item()\n",
        "            running_acc += self.accuracy(output,y)           \n",
        "            del x,y,output           \n",
        "        test_loss = running_loss/len(self.test_loader)\n",
        "        test_acc = running_acc/len(self.test_loader)     \n",
        "        return test_loss, test_acc\n",
        "    \n",
        "    \n",
        "    def fit(self,lr):\n",
        "        \n",
        "        train_losses,train_accs = [], []\n",
        "        test_losses, test_accs = [], []     \n",
        "        for epoch in range(self.config['epochs']):        \n",
        "            print(f\"Model is using {'cuda' if next(self.model.parameters()).is_cuda else 'cpu'}\")            \n",
        "            self.model.train()            \n",
        "            train_loss, train_acc = self.train_one_epoch()\n",
        "            tb.add_scalar(\"Loss/Training_Loss\", train_loss, epoch)\n",
        "            tb.add_scalar(\"Loss/Training_Accuracy\", train_acc, epoch)\n",
        "            train_losses.append(train_loss)\n",
        "            train_accs.append(train_acc)           \n",
        "            self.model.eval()           \n",
        "            test_loss, test_acc = self.valid_one_epoch()\n",
        "            tb.add_scalar(\"Loss/Testing_Loss\", test_loss, epoch)\n",
        "            tb.add_scalar(\"Loss/Testing_Accuracy\", test_acc, epoch)\n",
        "            test_losses.append(test_loss)\n",
        "            test_accs.append(test_acc)           \n",
        "            print(f\"------EPOCH {epoch+1}/{self.config['epochs']}------\")\n",
        "            print(f\"Training: LOSS: {train_loss} | ACCURACY: {train_acc} | for Learning Rate: {lr} \")\n",
        "            print(f\"Testing: LOSS: {test_loss} | ACCURACY: {test_acc} | for Learning Rate: {lr} \\n\\n\")            \n",
        "            # CLEANUP\n",
        "            gc.collect()\n",
        "            torch.cuda.empty_cache()\n",
        "            tb.flush()       \n",
        "        return (train_losses, train_accs), (test_losses, test_accs)"
      ],
      "metadata": {
        "id": "EGtYDHgUw2gh"
      },
      "execution_count": 13,
      "outputs": []
    },
    {
      "cell_type": "code",
      "source": [
        "lr_arr=[0.1,0.001,0.0001]\n",
        "trainer = Trainer(model, (train_dataloader, test_dataloader), device,lr_arr[0])\n",
        "(train_losses, train_accs), (test_losses, test_accs) = trainer.fit(lr_arr[0])"
      ],
      "metadata": {
        "colab": {
          "base_uri": "https://localhost:8080/"
        },
        "id": "8VQcv8gkw47g",
        "outputId": "73f188f8-b062-447f-a66e-13b4ec688353"
      },
      "execution_count": 18,
      "outputs": [
        {
          "output_type": "stream",
          "name": "stdout",
          "text": [
            "Model is using cuda\n",
            "------EPOCH 1/10------\n",
            "Training: LOSS: 2.4089305784021104 | ACCURACY: 0.1766621492346939 | for Learning Rate: 0.1 \n",
            "Testing: LOSS: 2.2927896857261656 | ACCURACY: 0.18447265625 | for Learning Rate: 0.1 \n",
            "\n",
            "\n",
            "Model is using cuda\n",
            "------EPOCH 2/10------\n",
            "Training: LOSS: 2.330635433294335 | ACCURACY: 0.18291214923469387 | for Learning Rate: 0.1 \n",
            "Testing: LOSS: 2.3063986241817473 | ACCURACY: 0.2056640625 | for Learning Rate: 0.1 \n",
            "\n",
            "\n",
            "Model is using cuda\n",
            "------EPOCH 3/10------\n",
            "Training: LOSS: 2.332407368689167 | ACCURACY: 0.18478954081632654 | for Learning Rate: 0.1 \n",
            "Testing: LOSS: 2.389987474679947 | ACCURACY: 0.186328125 | for Learning Rate: 0.1 \n",
            "\n",
            "\n",
            "Model is using cuda\n",
            "------EPOCH 4/10------\n",
            "Training: LOSS: 2.3427180976283792 | ACCURACY: 0.184375 | for Learning Rate: 0.1 \n",
            "Testing: LOSS: 2.2863138735294344 | ACCURACY: 0.19091796875 | for Learning Rate: 0.1 \n",
            "\n",
            "\n",
            "Model is using cuda\n",
            "------EPOCH 5/10------\n",
            "Training: LOSS: 2.3808154646231205 | ACCURACY: 0.18144929846938776 | for Learning Rate: 0.1 \n",
            "Testing: LOSS: 2.323462337255478 | ACCURACY: 0.21318359375 | for Learning Rate: 0.1 \n",
            "\n",
            "\n",
            "Model is using cuda\n",
            "------EPOCH 6/10------\n",
            "Training: LOSS: 2.353143024201296 | ACCURACY: 0.18504065688775512 | for Learning Rate: 0.1 \n",
            "Testing: LOSS: 2.3275982439517975 | ACCURACY: 0.19130859375 | for Learning Rate: 0.1 \n",
            "\n",
            "\n",
            "Model is using cuda\n",
            "------EPOCH 7/10------\n",
            "Training: LOSS: 2.3412808556945954 | ACCURACY: 0.1807437818877551 | for Learning Rate: 0.1 \n",
            "Testing: LOSS: 2.3204108655452726 | ACCURACY: 0.18173828125 | for Learning Rate: 0.1 \n",
            "\n",
            "\n",
            "Model is using cuda\n",
            "------EPOCH 8/10------\n",
            "Training: LOSS: 2.358147669811638 | ACCURACY: 0.1861248405612245 | for Learning Rate: 0.1 \n",
            "Testing: LOSS: 2.240021938085556 | ACCURACY: 0.21025390625 | for Learning Rate: 0.1 \n",
            "\n",
            "\n",
            "Model is using cuda\n",
            "------EPOCH 9/10------\n",
            "Training: LOSS: 2.356002408630994 | ACCURACY: 0.18315529336734693 | for Learning Rate: 0.1 \n",
            "Testing: LOSS: 2.212583088874817 | ACCURACY: 0.19736328125 | for Learning Rate: 0.1 \n",
            "\n",
            "\n",
            "Model is using cuda\n",
            "------EPOCH 10/10------\n",
            "Training: LOSS: 2.3178324589923935 | ACCURACY: 0.189859693877551 | for Learning Rate: 0.1 \n",
            "Testing: LOSS: 2.2594000339508056 | ACCURACY: 0.193359375 | for Learning Rate: 0.1 \n",
            "\n",
            "\n"
          ]
        }
      ]
    },
    {
      "cell_type": "code",
      "source": [
        "trainer = Trainer(model, (train_dataloader, test_dataloader), device,lr_arr[1])\n",
        "(train_losses, train_accs), (test_losses, test_accs) = trainer.fit(lr_arr[1])"
      ],
      "metadata": {
        "colab": {
          "base_uri": "https://localhost:8080/"
        },
        "id": "4fQPSC3dzVGO",
        "outputId": "7e38ecbb-03b3-447c-d78e-0e9f2d80b585"
      },
      "execution_count": 16,
      "outputs": [
        {
          "output_type": "stream",
          "name": "stdout",
          "text": [
            "Model is using cuda\n",
            "------EPOCH 1/10------\n",
            "Training: LOSS: 1.6064394919239744 | ACCURACY: 0.41929607780612244 | for Learning Rate: 0.001 \n",
            "Testing: LOSS: 1.4127353042364121 | ACCURACY: 0.49033203125 | for Learning Rate: 0.001 \n",
            "\n",
            "\n",
            "Model is using cuda\n",
            "------EPOCH 2/10------\n",
            "Training: LOSS: 1.557299638281063 | ACCURACY: 0.440593112244898 | for Learning Rate: 0.001 \n",
            "Testing: LOSS: 1.3649799168109893 | ACCURACY: 0.50703125 | for Learning Rate: 0.001 \n",
            "\n",
            "\n",
            "Model is using cuda\n",
            "------EPOCH 3/10------\n",
            "Training: LOSS: 1.510778386373909 | ACCURACY: 0.455110012755102 | for Learning Rate: 0.001 \n",
            "Testing: LOSS: 1.3390962719917296 | ACCURACY: 0.5234375 | for Learning Rate: 0.001 \n",
            "\n",
            "\n",
            "Model is using cuda\n",
            "------EPOCH 4/10------\n",
            "Training: LOSS: 1.4826122418958314 | ACCURACY: 0.46646205357142856 | for Learning Rate: 0.001 \n",
            "Testing: LOSS: 1.3303478956222534 | ACCURACY: 0.5240234375 | for Learning Rate: 0.001 \n",
            "\n",
            "\n",
            "Model is using cuda\n",
            "------EPOCH 5/10------\n",
            "Training: LOSS: 1.4538150685174125 | ACCURACY: 0.47817681760204084 | for Learning Rate: 0.001 \n",
            "Testing: LOSS: 1.2575891673564912 | ACCURACY: 0.55458984375 | for Learning Rate: 0.001 \n",
            "\n",
            "\n",
            "Model is using cuda\n",
            "------EPOCH 6/10------\n",
            "Training: LOSS: 1.4297442813308872 | ACCURACY: 0.48723692602040813 | for Learning Rate: 0.001 \n",
            "Testing: LOSS: 1.262964102625847 | ACCURACY: 0.56083984375 | for Learning Rate: 0.001 \n",
            "\n",
            "\n",
            "Model is using cuda\n",
            "------EPOCH 7/10------\n",
            "Training: LOSS: 1.4113020258290427 | ACCURACY: 0.49485012755102037 | for Learning Rate: 0.001 \n",
            "Testing: LOSS: 1.2258432343602181 | ACCURACY: 0.56748046875 | for Learning Rate: 0.001 \n",
            "\n",
            "\n",
            "Model is using cuda\n",
            "------EPOCH 8/10------\n",
            "Training: LOSS: 1.3832788589049358 | ACCURACY: 0.5049744897959183 | for Learning Rate: 0.001 \n",
            "Testing: LOSS: 1.2388049244880677 | ACCURACY: 0.561328125 | for Learning Rate: 0.001 \n",
            "\n",
            "\n",
            "Model is using cuda\n",
            "------EPOCH 9/10------\n",
            "Training: LOSS: 1.3697617510143592 | ACCURACY: 0.5086535395408164 | for Learning Rate: 0.001 \n",
            "Testing: LOSS: 1.1944452494382858 | ACCURACY: 0.57490234375 | for Learning Rate: 0.001 \n",
            "\n",
            "\n",
            "Model is using cuda\n",
            "------EPOCH 10/10------\n",
            "Training: LOSS: 1.3534853586128779 | ACCURACY: 0.5169084821428571 | for Learning Rate: 0.001 \n",
            "Testing: LOSS: 1.1620533913373947 | ACCURACY: 0.587109375 | for Learning Rate: 0.001 \n",
            "\n",
            "\n"
          ]
        }
      ]
    },
    {
      "cell_type": "code",
      "source": [
        "lr_arr=[0.1,0.001,0.0001]\n",
        "trainer = Trainer(model, (train_dataloader, test_dataloader), device,lr_arr[2])\n",
        "(train_losses, train_accs), (test_losses, test_accs) = trainer.fit(lr_arr[2])"
      ],
      "metadata": {
        "id": "bdMSlZD-zVwZ",
        "colab": {
          "base_uri": "https://localhost:8080/"
        },
        "outputId": "f051ed46-f410-453a-be78-6a386a032f23"
      },
      "execution_count": 14,
      "outputs": [
        {
          "output_type": "stream",
          "name": "stdout",
          "text": [
            "Model is using cuda\n",
            "------EPOCH 1/10------\n",
            "Training: LOSS: 1.9163538758852043 | ACCURACY: 0.3180763711734694 | for Learning Rate: 0.0001 \n",
            "Testing: LOSS: 1.7766589254140854 | ACCURACY: 0.37578125 | for Learning Rate: 0.0001 \n",
            "\n",
            "\n",
            "Model is using cuda\n",
            "------EPOCH 2/10------\n",
            "Training: LOSS: 1.8468560837969488 | ACCURACY: 0.3402582908163265 | for Learning Rate: 0.0001 \n",
            "Testing: LOSS: 1.706892666220665 | ACCURACY: 0.403125 | for Learning Rate: 0.0001 \n",
            "\n",
            "\n",
            "Model is using cuda\n",
            "------EPOCH 3/10------\n",
            "Training: LOSS: 1.7898331333179862 | ACCURACY: 0.35825892857142855 | for Learning Rate: 0.0001 \n",
            "Testing: LOSS: 1.6427015662193298 | ACCURACY: 0.41826171875 | for Learning Rate: 0.0001 \n",
            "\n",
            "\n",
            "Model is using cuda\n",
            "------EPOCH 4/10------\n",
            "Training: LOSS: 1.7464979941747627 | ACCURACY: 0.372444993622449 | for Learning Rate: 0.0001 \n",
            "Testing: LOSS: 1.5878644108772277 | ACCURACY: 0.434375 | for Learning Rate: 0.0001 \n",
            "\n",
            "\n",
            "Model is using cuda\n",
            "------EPOCH 5/10------\n",
            "Training: LOSS: 1.7103755103082072 | ACCURACY: 0.38343829719387756 | for Learning Rate: 0.0001 \n",
            "Testing: LOSS: 1.562886905670166 | ACCURACY: 0.44130859375 | for Learning Rate: 0.0001 \n",
            "\n",
            "\n",
            "Model is using cuda\n",
            "------EPOCH 6/10------\n",
            "Training: LOSS: 1.676748202163346 | ACCURACY: 0.39584263392857144 | for Learning Rate: 0.0001 \n",
            "Testing: LOSS: 1.5248022764921187 | ACCURACY: 0.4544921875 | for Learning Rate: 0.0001 \n",
            "\n",
            "\n",
            "Model is using cuda\n",
            "------EPOCH 7/10------\n",
            "Training: LOSS: 1.6509581007519547 | ACCURACY: 0.4054408482142857 | for Learning Rate: 0.0001 \n",
            "Testing: LOSS: 1.4925002872943878 | ACCURACY: 0.45966796875 | for Learning Rate: 0.0001 \n",
            "\n",
            "\n",
            "Model is using cuda\n",
            "------EPOCH 8/10------\n",
            "Training: LOSS: 1.63436936115732 | ACCURACY: 0.4094387755102041 | for Learning Rate: 0.0001 \n",
            "Testing: LOSS: 1.459789615869522 | ACCURACY: 0.475 | for Learning Rate: 0.0001 \n",
            "\n",
            "\n",
            "Model is using cuda\n",
            "------EPOCH 9/10------\n",
            "Training: LOSS: 1.6179346624685793 | ACCURACY: 0.4148716517857143 | for Learning Rate: 0.0001 \n",
            "Testing: LOSS: 1.4587987273931504 | ACCURACY: 0.46884765625 | for Learning Rate: 0.0001 \n",
            "\n",
            "\n",
            "Model is using cuda\n",
            "------EPOCH 10/10------\n",
            "Training: LOSS: 1.6066178636891502 | ACCURACY: 0.4190728635204082 | for Learning Rate: 0.0001 \n",
            "Testing: LOSS: 1.4419375389814377 | ACCURACY: 0.477734375 | for Learning Rate: 0.0001 \n",
            "\n",
            "\n"
          ]
        }
      ]
    },
    {
      "cell_type": "code",
      "source": [
        "from torch.utils.tensorboard import SummaryWriter\n",
        "import torchvision\n",
        "# load data from loader\n",
        "images, labels = next(iter(train_dataloader))\n",
        "images, labels = images.cuda(), labels.cuda()\n",
        "grid = torchvision.utils.make_grid(images)\n",
        "\n",
        "tb = SummaryWriter()\n",
        "tb.add_image('images', grid)\n",
        "tb.add_graph(model, images)\n",
        "tb.close()"
      ],
      "metadata": {
        "id": "QdFlG5H9w8m2"
      },
      "execution_count": 11,
      "outputs": []
    },
    {
      "cell_type": "code",
      "source": [
        "!tensorboard dev upload --logdir 'runs' --name \"CIFAR 10 Data \" --description \"LeNet CIFAR10 Graph\""
      ],
      "metadata": {
        "colab": {
          "base_uri": "https://localhost:8080/"
        },
        "id": "a4sryA7Zw_nb",
        "outputId": "8f72ea94-c076-4230-cf0f-ba6768c697c0"
      },
      "execution_count": 19,
      "outputs": [
        {
          "output_type": "stream",
          "name": "stdout",
          "text": [
            "Upload started and will continue reading any new data as it's added to the logdir.\n",
            "\n",
            "To stop uploading, press Ctrl-C.\n",
            "\n",
            "New experiment created. View your TensorBoard at: https://tensorboard.dev/experiment/wvqriaZPQtetA4jvpwOXyA/\n",
            "\n",
            "\u001b[1m[2022-06-19T12:32:37]\u001b[0m Started scanning logdir.\n",
            "\u001b[1m[2022-06-19T12:32:38]\u001b[0m Total uploaded: 124 scalars, 0 tensors, 1 binary objects (8.6 kB)\n",
            "\n",
            "\n",
            "Interrupted. View your TensorBoard at https://tensorboard.dev/experiment/wvqriaZPQtetA4jvpwOXyA/\n",
            "Exception ignored in: <function Channel.__del__ at 0x7f9790d117a0>\n",
            "Traceback (most recent call last):\n",
            "  File \"/usr/local/lib/python3.7/dist-packages/grpc/_channel.py\", line 1570, in __del__\n",
            "    def __del__(self):\n",
            "KeyboardInterrupt\n"
          ]
        }
      ]
    },
    {
      "cell_type": "code",
      "source": [
        ""
      ],
      "metadata": {
        "id": "5GVAF-kOzuuz"
      },
      "execution_count": null,
      "outputs": []
    }
  ]
}