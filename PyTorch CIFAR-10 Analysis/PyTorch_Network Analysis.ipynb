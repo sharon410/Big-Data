{
  "cells": [
    {
      "cell_type": "code",
      "execution_count": 1,
      "metadata": {
        "id": "Rf0RGfgqvjno"
      },
      "outputs": [],
      "source": [
        "# imports the required libraries\n",
        "\n",
        "import torch\n",
        "import torch.nn as nn\n",
        "import torchvision.transforms as transforms\n",
        "import torchvision.datasets as datasets\n",
        "import matplotlib.pyplot as plt\n",
        "import gc"
      ]
    },
    {
      "cell_type": "code",
      "execution_count": 2,
      "metadata": {
        "id": "o_m_NXWVvyQT"
      },
      "outputs": [],
      "source": [
        "#Only transformation carried out is converting to tensor. No other transformations are done\n",
        "train_augmentations = transforms.Compose([transforms.ToTensor()])\n",
        "\n",
        "test_augmentations = transforms.Compose([transforms.ToTensor()])"
      ]
    },
    {
      "cell_type": "code",
      "execution_count": 3,
      "metadata": {
        "colab": {
          "base_uri": "https://localhost:8080/",
          "height": 84,
          "referenced_widgets": [
            "8503a16ee9d74a32b7c52c4f4640704d",
            "ad689cc9dfba440c83d0be88982acbee",
            "b4fb1721f08b4887a136ae00b002da39",
            "0fda1defed064f6b8ec94810bd2ccdf5",
            "1fd5f11689bd45b8a88e5de0f734832a",
            "c17eee3f3a924f0aa36b8fd1122118d9",
            "8b5977f981f4435390eca87b52693209",
            "659eec8ace694adea9c119a6f3e42ff4",
            "46c5f060e3874976baea54bb63ec50ab",
            "4f5e5bc3cfd24aba9fcebd9c50bccf62",
            "e67897736fcf41afa5588a04ce83c827"
          ]
        },
        "id": "a5kzHVQPv8Vr",
        "outputId": "4c0dd4d6-f369-48f1-b721-32cdeb29451f"
      },
      "outputs": [
        {
          "output_type": "stream",
          "name": "stdout",
          "text": [
            "Downloading https://www.cs.toronto.edu/~kriz/cifar-10-python.tar.gz to /tmp/cifar-10-python.tar.gz\n"
          ]
        },
        {
          "output_type": "display_data",
          "data": {
            "text/plain": [
              "  0%|          | 0/170498071 [00:00<?, ?it/s]"
            ],
            "application/vnd.jupyter.widget-view+json": {
              "version_major": 2,
              "version_minor": 0,
              "model_id": "8503a16ee9d74a32b7c52c4f4640704d"
            }
          },
          "metadata": {}
        },
        {
          "output_type": "stream",
          "name": "stdout",
          "text": [
            "Extracting /tmp/cifar-10-python.tar.gz to /tmp\n"
          ]
        }
      ],
      "source": [
        "path = '/tmp'\n",
        "\n",
        "train_ds = datasets.CIFAR10(root=path,\n",
        "                            train=True,\n",
        "                            transform=train_augmentations,\n",
        "                            download=True\n",
        "                           )\n",
        "\n",
        "test_ds = datasets.CIFAR10(root=path,\n",
        "                           train=False,\n",
        "                           transform=test_augmentations\n",
        "                           )\n",
        "\n",
        "labels = 'airplane automobile bird cat deer dog frog horse ship truck'.split()\n",
        "\n",
        "train_dataset = torch.utils.data.Subset(train_ds, [i for i in range(25000)])"
      ]
    },
    {
      "cell_type": "code",
      "execution_count": 4,
      "metadata": {
        "colab": {
          "base_uri": "https://localhost:8080/"
        },
        "id": "BcihJT-ZwNd2",
        "outputId": "5c437a89-f65c-4a77-f5a7-214b4f34ce30"
      },
      "outputs": [
        {
          "output_type": "execute_result",
          "data": {
            "text/plain": [
              "(25000, 10000)"
            ]
          },
          "metadata": {},
          "execution_count": 4
        }
      ],
      "source": [
        "len(train_dataset), len(test_ds)"
      ]
    },
    {
      "cell_type": "code",
      "execution_count": 5,
      "metadata": {
        "id": "IJnbHcZrwW3E"
      },
      "outputs": [],
      "source": [
        "train_dataloader = torch.utils.data.DataLoader(train_dataset, batch_size=256, shuffle=True, num_workers=2)\n",
        "test_dataloader = torch.utils.data.DataLoader(test_ds, batch_size=256, shuffle=True, num_workers=2)"
      ]
    },
    {
      "cell_type": "code",
      "execution_count": 6,
      "metadata": {
        "id": "bzHctavgwZmY"
      },
      "outputs": [],
      "source": [
        "class Custom_Network(nn.Module):\n",
        "    \n",
        "    def __init__(self, in_features=3, num_classes=10):\n",
        "        super(Custom_Network, self).__init__()\n",
        "        \n",
        "        self.conv_block = nn.Sequential( nn.Conv2d(in_channels=in_features,out_channels=6,kernel_size=3,stride=1),\n",
        "                                         nn.ReLU(),\n",
        "                                         nn.MaxPool2d(2,2),\n",
        "                                         nn.Conv2d(in_channels=6,out_channels=12,kernel_size=3,stride=1),\n",
        "                                         nn.ReLU(),\n",
        "                                         nn.Conv2d(in_channels=12,out_channels=16,kernel_size=3,stride=1),\n",
        "                                         nn.ReLU(),\n",
        "                                         nn.MaxPool2d(2,2)\n",
        "                                        )\n",
        "        \n",
        "        self.linear_block = nn.Sequential( nn.Linear(16*5*5, 120),\n",
        "                                           nn.ReLU(),\n",
        "                                           nn.Linear(120,84),\n",
        "                                           nn.ReLU(),\n",
        "                                           nn.Linear(84,10),\n",
        "                                           nn.ReLU()\n",
        "                                         )\n",
        "        \n",
        "    def forward(self, x):\n",
        "        x = self.conv_block(x)\n",
        "        x = torch.flatten(x,1)\n",
        "        x = self.linear_block(x)\n",
        "        return x\n"
      ]
    },
    {
      "cell_type": "code",
      "execution_count": 7,
      "metadata": {
        "colab": {
          "base_uri": "https://localhost:8080/",
          "height": 35
        },
        "id": "1AafPeYgzTou",
        "outputId": "bba324bb-7159-418a-a16f-77bc15d5a0b4"
      },
      "outputs": [
        {
          "output_type": "execute_result",
          "data": {
            "text/plain": [
              "'cuda'"
            ],
            "application/vnd.google.colaboratory.intrinsic+json": {
              "type": "string"
            }
          },
          "metadata": {},
          "execution_count": 7
        }
      ],
      "source": [
        "# CUDA\n",
        "device = 'cuda' if torch.cuda.is_available() else 'cpu'\n",
        "device"
      ]
    },
    {
      "cell_type": "code",
      "execution_count": 8,
      "metadata": {
        "colab": {
          "base_uri": "https://localhost:8080/"
        },
        "id": "o73vH1Re0hD4",
        "outputId": "f93ca5b2-0cb2-4ddd-c3b1-b30392c5c1bc"
      },
      "outputs": [
        {
          "output_type": "stream",
          "name": "stdout",
          "text": [
            "Custom_Network(\n",
            "  (conv_block): Sequential(\n",
            "    (0): Conv2d(3, 6, kernel_size=(3, 3), stride=(1, 1))\n",
            "    (1): ReLU()\n",
            "    (2): MaxPool2d(kernel_size=2, stride=2, padding=0, dilation=1, ceil_mode=False)\n",
            "    (3): Conv2d(6, 12, kernel_size=(3, 3), stride=(1, 1))\n",
            "    (4): ReLU()\n",
            "    (5): Conv2d(12, 16, kernel_size=(3, 3), stride=(1, 1))\n",
            "    (6): ReLU()\n",
            "    (7): MaxPool2d(kernel_size=2, stride=2, padding=0, dilation=1, ceil_mode=False)\n",
            "  )\n",
            "  (linear_block): Sequential(\n",
            "    (0): Linear(in_features=400, out_features=120, bias=True)\n",
            "    (1): ReLU()\n",
            "    (2): Linear(in_features=120, out_features=84, bias=True)\n",
            "    (3): ReLU()\n",
            "    (4): Linear(in_features=84, out_features=10, bias=True)\n",
            "    (5): ReLU()\n",
            "  )\n",
            ")\n"
          ]
        }
      ],
      "source": [
        "model = Custom_Network().to(device)\n",
        "print(model)"
      ]
    },
    {
      "cell_type": "code",
      "execution_count": 41,
      "metadata": {
        "id": "at86lyE60i0L"
      },
      "outputs": [],
      "source": [
        "class Trainer:\n",
        "    def __init__(self, model, dataloaders, device):\n",
        "        \n",
        "        self.config = {\n",
        "            'lr':1e-3,\n",
        "            'epochs': 10\n",
        "        }\n",
        "        \n",
        "        self.model = model\n",
        "        self.train_loader, self.test_loader = dataloaders\n",
        "        self.loss_fn = nn.CrossEntropyLoss()\n",
        "        self.optim = torch.optim.Adam(self.model.parameters(), lr = self.config['lr'])\n",
        "        self.device = device\n",
        "        \n",
        "    def accuracy(self, output, y):\n",
        "        pred_labels = torch.argmax(output, dim=1)\n",
        "        return (pred_labels == y).sum().item() / len(y)\n",
        "        \n",
        "    def train_one_epoch(self,regulariser):\n",
        "        running_loss = 0\n",
        "        running_acc = 0\n",
        "        lambda_l1=0.001\n",
        "        lambda_l2=0.001\n",
        "        reg_loss=0\n",
        "        for x,y in self.train_loader:\n",
        "            self.optim.zero_grad()\n",
        "            x = x.to(self.device, dtype=torch.float)\n",
        "            y = y.to(self.device, dtype=torch.long)\n",
        "            output = self.model(x)\n",
        "            loss = self.loss_fn(output, y)\n",
        "            if regulariser=='L1':\n",
        "              reg_loss = sum(p.abs().sum()for p in model.parameters())\n",
        "              loss +=lambda_l1*reg_loss\n",
        "            elif regulariser=='L2':\n",
        "              reg_loss = sum(p.pow(2.0).sum()for p in model.parameters())\n",
        "              loss +=lambda_l2*reg_loss\n",
        "            else:\n",
        "              loss = self.loss_fn(output, y)\n",
        "            loss.backward()\n",
        "            self.optim.step()\n",
        "            running_loss += loss.item()\n",
        "            running_acc += self.accuracy(output,y)       \n",
        "            del x,y,output   \n",
        "        train_loss = running_loss/len(self.train_loader)\n",
        "        train_acc = running_acc/len(self.train_loader) \n",
        "        return train_loss, train_acc\n",
        "    \n",
        "    @torch.no_grad()\n",
        "    def valid_one_epoch(self):\n",
        "        \n",
        "        running_loss = 0\n",
        "        running_acc = 0\n",
        "        \n",
        "        for x,y in self.test_loader:\n",
        "            \n",
        "            x = x.to(self.device, dtype=torch.float)\n",
        "            y = y.to(self.device, dtype=torch.long)\n",
        "            \n",
        "            output = self.model(x)\n",
        "            \n",
        "            loss = self.loss_fn(output, y)\n",
        "            \n",
        "            running_loss += loss.item()\n",
        "            running_acc += self.accuracy(output,y)\n",
        "            \n",
        "            del x,y,output\n",
        "            \n",
        "        test_loss = running_loss/len(self.test_loader)\n",
        "        test_acc = running_acc/len(self.test_loader)\n",
        "        \n",
        "        return test_loss, test_acc\n",
        "    \n",
        "    \n",
        "    def fit(self,regulariser):        \n",
        "        train_losses,train_accs = [], []\n",
        "        test_losses, test_accs = [], []       \n",
        "        for epoch in range(self.config['epochs']):\n",
        "            print(f\"Model is using {'cuda' if next(self.model.parameters()).is_cuda else 'cpu'}\")\n",
        "            '''\n",
        "            This is a very important step while using dropout. This tells the model that it is in training model. For network regularization,\n",
        "            dropout is only used while training and not while evaluation.\n",
        "            '''\n",
        "            self.model.train() \n",
        "            train_loss, train_acc = self.train_one_epoch(regulariser)\n",
        "            tb.add_scalars(\"Loss With Regularization/Training_Loss\", {'train_loss_L2_Reg':train_loss}, epoch)\n",
        "            tb.add_scalars(\"Accuracy With Regularization/Training_Accuracy\", {'train_acc_L2_Reg':train_acc}, epoch)\n",
        "            train_losses.append(train_loss)\n",
        "            train_accs.append(train_acc)     \n",
        "            self.model.eval()            \n",
        "            test_loss, test_acc = self.valid_one_epoch()\n",
        "            tb.add_scalars(\"Loss With Regularization/Testing_Loss\", {'test_loss_L2_Reg':test_loss}, epoch)\n",
        "            tb.add_scalars(\"Accuracy With Regularization/Testing_Accuracy\", {'test_acc_L2_Reg':test_acc}, epoch)\n",
        "            test_losses.append(test_loss)\n",
        "            test_accs.append(test_acc)            \n",
        "            print(f\"------EPOCH {epoch+1}/{self.config['epochs']}------\")\n",
        "            print(f\"Training: LOSS: {train_loss} | ACCURACY: {train_acc}\")\n",
        "            print(f\"Testing: LOSS: {test_loss} | ACCURACY: {test_acc}\\n\\n\")           \n",
        "            # CLEANUP\n",
        "            gc.collect()\n",
        "            torch.cuda.empty_cache()\n",
        "            tb.flush()       \n",
        "        return (train_losses, train_accs), (test_losses, test_accs)"
      ]
    },
    {
      "cell_type": "code",
      "execution_count": 13,
      "metadata": {
        "id": "ZQWyMiH-0svs"
      },
      "outputs": [],
      "source": [
        "from torch.utils.tensorboard import SummaryWriter\n",
        "import torchvision\n",
        "\n",
        "tb = SummaryWriter()\n",
        "tb.close()"
      ]
    },
    {
      "cell_type": "code",
      "execution_count": 16,
      "metadata": {
        "colab": {
          "base_uri": "https://localhost:8080/"
        },
        "id": "Vftu6z_q0qx0",
        "outputId": "de33eaa0-f8c2-4945-c680-cd8cdf209b0e"
      },
      "outputs": [
        {
          "output_type": "stream",
          "name": "stdout",
          "text": [
            "Model is using cuda\n",
            "------EPOCH 1/10------\n",
            "Training: LOSS: 1.9995747670835378 | ACCURACY: 0.27994032434402333\n",
            "Testing: LOSS: 1.952812922000885 | ACCURACY: 0.2912109375\n",
            "\n",
            "\n",
            "Model is using cuda\n",
            "------EPOCH 2/10------\n",
            "Training: LOSS: 1.9201509538961916 | ACCURACY: 0.3136844023323615\n",
            "Testing: LOSS: 1.8711986392736435 | ACCURACY: 0.33046875\n",
            "\n",
            "\n",
            "Model is using cuda\n",
            "------EPOCH 3/10------\n",
            "Training: LOSS: 1.8336867094039917 | ACCURACY: 0.34865843658892126\n",
            "Testing: LOSS: 1.801555296778679 | ACCURACY: 0.3626953125\n",
            "\n",
            "\n",
            "Model is using cuda\n",
            "------EPOCH 4/10------\n",
            "Training: LOSS: 1.7706426564528017 | ACCURACY: 0.3712949465500486\n",
            "Testing: LOSS: 1.731589612364769 | ACCURACY: 0.3912109375\n",
            "\n",
            "\n",
            "Model is using cuda\n",
            "------EPOCH 5/10------\n",
            "Training: LOSS: 1.7277364511879123 | ACCURACY: 0.38897177174441205\n",
            "Testing: LOSS: 1.7114948153495788 | ACCURACY: 0.39873046875\n",
            "\n",
            "\n",
            "Model is using cuda\n",
            "------EPOCH 6/10------\n",
            "Training: LOSS: 1.713646022640929 | ACCURACY: 0.3972303206997085\n",
            "Testing: LOSS: 1.6839230090379715 | ACCURACY: 0.4041015625\n",
            "\n",
            "\n",
            "Model is using cuda\n",
            "------EPOCH 7/10------\n",
            "Training: LOSS: 1.666121784521609 | ACCURACY: 0.4160782616618076\n",
            "Testing: LOSS: 1.685863384604454 | ACCURACY: 0.4111328125\n",
            "\n",
            "\n",
            "Model is using cuda\n",
            "------EPOCH 8/10------\n",
            "Training: LOSS: 1.6528864381264667 | ACCURACY: 0.4232549046404276\n",
            "Testing: LOSS: 1.6475031703710556 | ACCURACY: 0.4232421875\n",
            "\n",
            "\n",
            "Model is using cuda\n",
            "------EPOCH 9/10------\n",
            "Training: LOSS: 1.6276245336143338 | ACCURACY: 0.4322499088921283\n",
            "Testing: LOSS: 1.6275478065013886 | ACCURACY: 0.434375\n",
            "\n",
            "\n",
            "Model is using cuda\n",
            "------EPOCH 10/10------\n",
            "Training: LOSS: 1.612727868313692 | ACCURACY: 0.4362700437317784\n",
            "Testing: LOSS: 1.620774692296982 | ACCURACY: 0.4302734375\n",
            "\n",
            "\n"
          ]
        }
      ],
      "source": [
        "trainer = Trainer(model, (train_dataloader, test_dataloader), device)\n",
        "regulariser=\"None\"\n",
        "(train_losses, train_accs), (test_losses, test_accs) = trainer.fit(regulariser)"
      ]
    },
    {
      "cell_type": "code",
      "execution_count": 17,
      "metadata": {
        "colab": {
          "base_uri": "https://localhost:8080/"
        },
        "id": "clVfS64n02Wb",
        "outputId": "d8d799d9-1d6f-4e0e-c0ec-808889a0b309"
      },
      "outputs": [
        {
          "output_type": "stream",
          "name": "stdout",
          "text": [
            "\n",
            "***** TensorBoard Uploader *****\n",
            "\n",
            "This will upload your TensorBoard logs to https://tensorboard.dev/ from\n",
            "the following directory:\n",
            "\n",
            "runs\n",
            "\n",
            "This TensorBoard will be visible to everyone. Do not upload sensitive\n",
            "data.\n",
            "\n",
            "Your use of this service is subject to Google's Terms of Service\n",
            "<https://policies.google.com/terms> and Privacy Policy\n",
            "<https://policies.google.com/privacy>, and TensorBoard.dev's Terms of Service\n",
            "<https://tensorboard.dev/policy/terms/>.\n",
            "\n",
            "This notice will not be shown again while you are logged into the uploader.\n",
            "To log out, run `tensorboard dev auth revoke`.\n",
            "\n",
            "Continue? (yes/NO) yes\n",
            "\n",
            "Please visit this URL to authorize this application: https://accounts.google.com/o/oauth2/auth?response_type=code&client_id=373649185512-8v619h5kft38l4456nm2dj4ubeqsrvh6.apps.googleusercontent.com&redirect_uri=urn%3Aietf%3Awg%3Aoauth%3A2.0%3Aoob&scope=openid+https%3A%2F%2Fwww.googleapis.com%2Fauth%2Fuserinfo.email&state=Woy2Kz3QPZW4NbsmiBdS9QWjyHowQd&prompt=consent&access_type=offline\n",
            "Enter the authorization code: 4/1AX4XfWgXxOB2ZrdGDaCK01RbUT1O34rpRjKit-wglW_6Jg-u2JBQbywZr9A\n",
            "\n",
            "Upload started and will continue reading any new data as it's added to the logdir.\n",
            "\n",
            "To stop uploading, press Ctrl-C.\n",
            "\n",
            "New experiment created. View your TensorBoard at: https://tensorboard.dev/experiment/S1g10RXeS9WG49NSGEOqnw/\n",
            "\n",
            "\u001b[1m[2022-06-26T07:45:35]\u001b[0m Started scanning logdir.\n",
            "\u001b[1m[2022-06-26T07:45:35]\u001b[0m Total uploaded: 40 scalars, 0 tensors, 0 binary objects\n",
            "\n",
            "\n",
            "Interrupted. View your TensorBoard at https://tensorboard.dev/experiment/S1g10RXeS9WG49NSGEOqnw/\n",
            "Traceback (most recent call last):\n",
            "  File \"/usr/local/bin/tensorboard\", line 8, in <module>\n",
            "    sys.exit(run_main())\n",
            "  File \"/usr/local/lib/python3.7/dist-packages/tensorboard/main.py\", line 46, in run_main\n",
            "    app.run(tensorboard.main, flags_parser=tensorboard.configure)\n",
            "  File \"/usr/local/lib/python3.7/dist-packages/absl/app.py\", line 312, in run\n",
            "    _run_main(main, args)\n",
            "  File \"/usr/local/lib/python3.7/dist-packages/absl/app.py\", line 258, in _run_main\n",
            "    sys.exit(main(argv))\n",
            "  File \"/usr/local/lib/python3.7/dist-packages/tensorboard/program.py\", line 276, in main\n",
            "    return runner(self.flags) or 0\n",
            "  File \"/usr/local/lib/python3.7/dist-packages/tensorboard/uploader/uploader_subcommand.py\", line 692, in run\n",
            "    return _run(flags, self._experiment_url_callback)\n",
            "  File \"/usr/local/lib/python3.7/dist-packages/tensorboard/uploader/uploader_subcommand.py\", line 125, in _run\n",
            "    intent.execute(server_info, channel)\n",
            "  File \"/usr/local/lib/python3.7/dist-packages/grpc/_channel.py\", line 1564, in __exit__\n",
            "    self._close()\n",
            "  File \"/usr/local/lib/python3.7/dist-packages/grpc/_channel.py\", line 1550, in _close\n",
            "    self._channel.close(cygrpc.StatusCode.cancelled, 'Channel closed!')\n",
            "  File \"src/python/grpcio/grpc/_cython/_cygrpc/channel.pyx.pxi\", line 513, in grpc._cython.cygrpc.Channel.close\n",
            "  File \"src/python/grpcio/grpc/_cython/_cygrpc/channel.pyx.pxi\", line 399, in grpc._cython.cygrpc._close\n",
            "  File \"src/python/grpcio/grpc/_cython/_cygrpc/channel.pyx.pxi\", line 429, in grpc._cython.cygrpc._close\n",
            "  File \"/usr/lib/python3.7/threading.py\", line 358, in notify_all\n",
            "    def notify_all(self):\n",
            "KeyboardInterrupt\n"
          ]
        }
      ],
      "source": [
        "!tensorboard dev upload --logdir 'runs' --name \"Baseline CIFAR 10 Data \" --description \"Baseline CIFAR10 Model\""
      ]
    },
    {
      "cell_type": "markdown",
      "metadata": {
        "id": "DNZa9QCo9VKx"
      },
      "source": [
        "**Exercise 1: Normalization Effect (CNN)**\n",
        "\n",
        "1. Data Augmentation: the process of artificially ’increasing’ our dataset by adding translation, scaling and flipping to the images to fabricate examples for training.\n",
        "2. Normalization: Normalizing the input data helps remove the dataset artifacts that can cause poor model performance.\n",
        "\n",
        "\n",
        "\n"
      ]
    },
    {
      "cell_type": "code",
      "execution_count": 18,
      "metadata": {
        "id": "B5qfqqoS3C2e"
      },
      "outputs": [],
      "source": [
        "#Training Network with only Data Augmentations\n",
        "train_augmentations1 = transforms.Compose([transforms.RandomGrayscale(0.2),\n",
        "                                          transforms.RandomHorizontalFlip(0.5),\n",
        "                                          transforms.RandomVerticalFlip(0.2),\n",
        "                                          transforms.RandomRotation(30),\n",
        "                                          transforms.RandomAdjustSharpness(0.4),\n",
        "                                          transforms.ToTensor(),\n",
        "                                         ])\n",
        "\n",
        "test_augmentations1 = transforms.Compose([transforms.ToTensor()]\n",
        "                                       )"
      ]
    },
    {
      "cell_type": "code",
      "execution_count": 19,
      "metadata": {
        "colab": {
          "base_uri": "https://localhost:8080/"
        },
        "id": "lc7o9olU_n2c",
        "outputId": "ee082f99-4b7f-4b53-ae65-f59a9e69d914"
      },
      "outputs": [
        {
          "output_type": "stream",
          "name": "stdout",
          "text": [
            "Files already downloaded and verified\n"
          ]
        }
      ],
      "source": [
        "path = '/tmp'\n",
        "\n",
        "train_ds1 = datasets.CIFAR10(root=path,\n",
        "                            train=True,\n",
        "                            transform=train_augmentations1,\n",
        "                            download=True\n",
        "                           )\n",
        "\n",
        "test_ds1 = datasets.CIFAR10(root=path,\n",
        "                           train=False,\n",
        "                           transform=test_augmentations1\n",
        "                           )\n",
        "\n",
        "labels = 'airplane automobile bird cat deer dog frog horse ship truck'.split()"
      ]
    },
    {
      "cell_type": "code",
      "execution_count": 20,
      "metadata": {
        "id": "tEWjPa7B_nsQ"
      },
      "outputs": [],
      "source": [
        "train_dataloader_with_aug = torch.utils.data.DataLoader(train_ds1, batch_size=256, shuffle=True, num_workers=2)\n",
        "test_dataloader_with_aug = torch.utils.data.DataLoader(test_ds1, batch_size=256, shuffle=True, num_workers=2)"
      ]
    },
    {
      "cell_type": "code",
      "execution_count": 22,
      "metadata": {
        "colab": {
          "base_uri": "https://localhost:8080/"
        },
        "id": "gCXISepy__no",
        "outputId": "e60511f2-92c0-4cd1-d34c-3e51da1f2ec8"
      },
      "outputs": [
        {
          "output_type": "stream",
          "name": "stdout",
          "text": [
            "Model is using cuda\n",
            "------EPOCH 1/10------\n",
            "Training: LOSS: 1.8310919641232004 | ACCURACY: 0.35395806760204085\n",
            "Testing: LOSS: 1.6377997934818267 | ACCURACY: 0.4353515625\n",
            "\n",
            "\n",
            "Model is using cuda\n",
            "------EPOCH 2/10------\n",
            "Training: LOSS: 1.8014435062603074 | ACCURACY: 0.36695631377551025\n",
            "Testing: LOSS: 1.6327746242284775 | ACCURACY: 0.43759765625\n",
            "\n",
            "\n",
            "Model is using cuda\n",
            "------EPOCH 3/10------\n",
            "Training: LOSS: 1.78185010078002 | ACCURACY: 0.3734135841836735\n",
            "Testing: LOSS: 1.6189169466495514 | ACCURACY: 0.43681640625\n",
            "\n",
            "\n",
            "Model is using cuda\n",
            "------EPOCH 4/10------\n",
            "Training: LOSS: 1.7656347471840528 | ACCURACY: 0.3810267857142857\n",
            "Testing: LOSS: 1.6025858342647552 | ACCURACY: 0.44697265625\n",
            "\n",
            "\n",
            "Model is using cuda\n",
            "------EPOCH 5/10------\n",
            "Training: LOSS: 1.752226401956714 | ACCURACY: 0.38722496811224494\n",
            "Testing: LOSS: 1.5914525032043456 | ACCURACY: 0.451953125\n",
            "\n",
            "\n",
            "Model is using cuda\n",
            "------EPOCH 6/10------\n",
            "Training: LOSS: 1.7391123418905297 | ACCURACY: 0.3897201849489796\n",
            "Testing: LOSS: 1.5939214408397675 | ACCURACY: 0.44755859375\n",
            "\n",
            "\n",
            "Model is using cuda\n",
            "------EPOCH 7/10------\n",
            "Training: LOSS: 1.7288630629072383 | ACCURACY: 0.3976363201530612\n",
            "Testing: LOSS: 1.5703924477100373 | ACCURACY: 0.46015625\n",
            "\n",
            "\n",
            "Model is using cuda\n",
            "------EPOCH 8/10------\n",
            "Training: LOSS: 1.7169098537795398 | ACCURACY: 0.4020448022959184\n",
            "Testing: LOSS: 1.5772757440805436 | ACCURACY: 0.46162109375\n",
            "\n",
            "\n",
            "Model is using cuda\n",
            "------EPOCH 9/10------\n",
            "Training: LOSS: 1.7072115285055978 | ACCURACY: 0.40499441964285715\n",
            "Testing: LOSS: 1.5774895042181014 | ACCURACY: 0.44794921875\n",
            "\n",
            "\n",
            "Model is using cuda\n",
            "------EPOCH 10/10------\n",
            "Training: LOSS: 1.7019947359756546 | ACCURACY: 0.4106544961734694\n",
            "Testing: LOSS: 1.5421484529972076 | ACCURACY: 0.46533203125\n",
            "\n",
            "\n"
          ]
        }
      ],
      "source": [
        "trainer_aug = Trainer(model, (train_dataloader_with_aug, test_dataloader_with_aug), device)\n",
        "\n",
        "(train_losses, train_accs), (test_losses, test_accs) = trainer_aug.fit(regulariser)"
      ]
    },
    {
      "cell_type": "code",
      "execution_count": 23,
      "metadata": {
        "colab": {
          "base_uri": "https://localhost:8080/"
        },
        "id": "twsMF06QBsyK",
        "outputId": "83fe8d1e-079e-4e4f-bb75-9e54d08c8d80"
      },
      "outputs": [
        {
          "output_type": "stream",
          "name": "stdout",
          "text": [
            "Upload started and will continue reading any new data as it's added to the logdir.\n",
            "\n",
            "To stop uploading, press Ctrl-C.\n",
            "\n",
            "New experiment created. View your TensorBoard at: https://tensorboard.dev/experiment/LPc4GeSbRhqVGEoQv8kuQQ/\n",
            "\n",
            "\u001b[1m[2022-06-26T08:17:31]\u001b[0m Started scanning logdir.\n",
            "\u001b[1m[2022-06-26T08:17:32]\u001b[0m Total uploaded: 80 scalars, 0 tensors, 0 binary objects\n",
            "Traceback (most recent call last):\n",
            "  File \"/usr/local/bin/tensorboard\", line 8, in <module>\n",
            "    sys.exit(run_main())\n",
            "  File \"/usr/local/lib/python3.7/dist-packages/tensorboard/main.py\", line 46, in run_main\n",
            "    app.run(tensorboard.main, flags_parser=tensorboard.configure)\n",
            "  File \"/usr/local/lib/python3.7/dist-packages/absl/app.py\", line 312, in run\n",
            "    _run_main(main, args)\n",
            "  File \"/usr/local/lib/python3.7/dist-packages/absl/app.py\", line 258, in _run_main\n",
            "    sys.exit(main(argv))\n",
            "  File \"/usr/local/lib/python3.7/dist-packages/tensorboard/program.py\", line 276, in main\n",
            "    return runner(self.flags) or 0\n",
            "  File \"/usr/local/lib/python3.7/dist-packages/tensorboard/uploader/uploader_subcommand.py\", line 692, in run\n",
            "    return _run(flags, self._experiment_url_callback)\n",
            "  File \"/usr/local/lib/python3.7/dist-packages/tensorboard/uploader/uploader_subcommand.py\", line 125, in _run\n",
            "    intent.execute(server_info, channel)\n",
            "  File \"/usr/local/lib/python3.7/dist-packages/tensorboard/uploader/uploader_subcommand.py\", line 506, in execute\n",
            "    if not self.dry_run and uploader.has_data():\n",
            "  File \"/usr/local/lib/python3.7/dist-packages/tensorboard/uploader/uploader.py\", line 162, in has_data\n",
            "    return self._tracker.has_data()\n",
            "KeyboardInterrupt\n"
          ]
        }
      ],
      "source": [
        "!tensorboard dev upload --logdir 'runs' --name \"Augmentation CIFAR 10 Data \" --description \"Augmentation CIFAR10 Model\""
      ]
    },
    {
      "cell_type": "code",
      "execution_count": 24,
      "metadata": {
        "id": "ZT7cM7IY-u5C"
      },
      "outputs": [],
      "source": [
        "#Training Network with Only Normalization\n",
        "train_augmentations2 = transforms.Compose([transforms.ToTensor(),\n",
        "                                          transforms.Normalize((0.4914, 0.4822, 0.4465), (0.2023, 0.1994, 0.2010))\n",
        "                                         ])\n",
        "\n",
        "test_augmentations2 = transforms.Compose([transforms.ToTensor(), \n",
        "                                         transforms.Normalize((0.4914, 0.4822, 0.4465), (0.2023, 0.1994, 0.2010))]\n",
        "                                       )"
      ]
    },
    {
      "cell_type": "code",
      "execution_count": 25,
      "metadata": {
        "colab": {
          "base_uri": "https://localhost:8080/"
        },
        "id": "YJPeoqbl_z8I",
        "outputId": "298af287-90eb-4a78-e0fe-6e1925005b21"
      },
      "outputs": [
        {
          "output_type": "stream",
          "name": "stdout",
          "text": [
            "Files already downloaded and verified\n"
          ]
        }
      ],
      "source": [
        "path = '/tmp'\n",
        "\n",
        "train_ds2 = datasets.CIFAR10(root=path,\n",
        "                            train=True,\n",
        "                            transform=train_augmentations2,\n",
        "                            download=True\n",
        "                           )\n",
        "\n",
        "test_ds2 = datasets.CIFAR10(root=path,\n",
        "                           train=False,\n",
        "                           transform=test_augmentations2\n",
        "                           )\n",
        "\n",
        "labels = 'airplane automobile bird cat deer dog frog horse ship truck'.split()"
      ]
    },
    {
      "cell_type": "code",
      "execution_count": 26,
      "metadata": {
        "id": "OkGfJhJ9_zxr"
      },
      "outputs": [],
      "source": [
        "train_dataloader_with_normalization = torch.utils.data.DataLoader(train_ds2, batch_size=256, shuffle=True, num_workers=2)\n",
        "test_dataloader_with_normalization = torch.utils.data.DataLoader(test_ds2, batch_size=256, shuffle=True, num_workers=2)"
      ]
    },
    {
      "cell_type": "code",
      "execution_count": 28,
      "metadata": {
        "colab": {
          "base_uri": "https://localhost:8080/"
        },
        "id": "vKMxQHUo_-Nz",
        "outputId": "2753ab78-2a7b-4970-d348-1ffd9f5cf8f1"
      },
      "outputs": [
        {
          "output_type": "stream",
          "name": "stdout",
          "text": [
            "Model is using cuda\n",
            "------EPOCH 1/10------\n",
            "Training: LOSS: 1.6999912109910225 | ACCURACY: 0.42553411989795914\n",
            "Testing: LOSS: 1.5642434805631638 | ACCURACY: 0.456640625\n",
            "\n",
            "\n",
            "Model is using cuda\n",
            "------EPOCH 2/10------\n",
            "Training: LOSS: 1.5235653726422056 | ACCURACY: 0.47338568239795914\n",
            "Testing: LOSS: 1.5277952343225478 | ACCURACY: 0.471484375\n",
            "\n",
            "\n",
            "Model is using cuda\n",
            "------EPOCH 3/10------\n",
            "Training: LOSS: 1.4815078018879404 | ACCURACY: 0.48635204081632655\n",
            "Testing: LOSS: 1.5237304091453552 | ACCURACY: 0.46884765625\n",
            "\n",
            "\n",
            "Model is using cuda\n",
            "------EPOCH 4/10------\n",
            "Training: LOSS: 1.4513276347092219 | ACCURACY: 0.4980030293367347\n",
            "Testing: LOSS: 1.478224778175354 | ACCURACY: 0.48701171875\n",
            "\n",
            "\n",
            "Model is using cuda\n",
            "------EPOCH 5/10------\n",
            "Training: LOSS: 1.4243237534347846 | ACCURACY: 0.5080875318877551\n",
            "Testing: LOSS: 1.4724803656339644 | ACCURACY: 0.48623046875\n",
            "\n",
            "\n",
            "Model is using cuda\n",
            "------EPOCH 6/10------\n",
            "Training: LOSS: 1.4002425530735327 | ACCURACY: 0.5145727040816327\n",
            "Testing: LOSS: 1.4577158719301224 | ACCURACY: 0.4958984375\n",
            "\n",
            "\n",
            "Model is using cuda\n",
            "------EPOCH 7/10------\n",
            "Training: LOSS: 1.3773506885888624 | ACCURACY: 0.5233498086734694\n",
            "Testing: LOSS: 1.4529060542583465 | ACCURACY: 0.50048828125\n",
            "\n",
            "\n",
            "Model is using cuda\n",
            "------EPOCH 8/10------\n",
            "Training: LOSS: 1.3588723637619797 | ACCURACY: 0.5290377869897959\n",
            "Testing: LOSS: 1.4170507073402405 | ACCURACY: 0.50458984375\n",
            "\n",
            "\n",
            "Model is using cuda\n",
            "------EPOCH 9/10------\n",
            "Training: LOSS: 1.3380122853785146 | ACCURACY: 0.5370017538265306\n",
            "Testing: LOSS: 1.3997265070676803 | ACCURACY: 0.514453125\n",
            "\n",
            "\n",
            "Model is using cuda\n",
            "------EPOCH 10/10------\n",
            "Training: LOSS: 1.3210015157047583 | ACCURACY: 0.5413544323979592\n",
            "Testing: LOSS: 1.405000665783882 | ACCURACY: 0.51298828125\n",
            "\n",
            "\n"
          ]
        }
      ],
      "source": [
        "# model_norm = Custom_Network().to(device)\n",
        "trainer_with_normalization= Trainer(model, (train_dataloader_with_normalization, test_dataloader_with_normalization), device)\n",
        "\n",
        "(train_losses, train_accs), (test_losses, test_accs) = trainer_with_normalization.fit(regulariser)"
      ]
    },
    {
      "cell_type": "code",
      "execution_count": 29,
      "metadata": {
        "colab": {
          "base_uri": "https://localhost:8080/"
        },
        "id": "6ZwvuPOxADIn",
        "outputId": "aab3f6ec-566f-4912-b4ee-6f580b91644e"
      },
      "outputs": [
        {
          "output_type": "stream",
          "name": "stdout",
          "text": [
            "Upload started and will continue reading any new data as it's added to the logdir.\n",
            "\n",
            "To stop uploading, press Ctrl-C.\n",
            "\n",
            "New experiment created. View your TensorBoard at: https://tensorboard.dev/experiment/o75NKX3ZRieLsvdHLhoLxA/\n",
            "\n",
            "\u001b[1m[2022-06-26T08:26:58]\u001b[0m Started scanning logdir.\n",
            "\u001b[1m[2022-06-26T08:26:58]\u001b[0m Total uploaded: 120 scalars, 0 tensors, 0 binary objects\n",
            "\n",
            "\n",
            "Interrupted. View your TensorBoard at https://tensorboard.dev/experiment/o75NKX3ZRieLsvdHLhoLxA/\n",
            "Traceback (most recent call last):\n",
            "  File \"/usr/local/bin/tensorboard\", line 8, in <module>\n",
            "    sys.exit(run_main())\n",
            "  File \"/usr/local/lib/python3.7/dist-packages/tensorboard/main.py\", line 46, in run_main\n",
            "    app.run(tensorboard.main, flags_parser=tensorboard.configure)\n",
            "  File \"/usr/local/lib/python3.7/dist-packages/absl/app.py\", line 312, in run\n",
            "    _run_main(main, args)\n",
            "  File \"/usr/local/lib/python3.7/dist-packages/absl/app.py\", line 258, in _run_main\n",
            "    sys.exit(main(argv))\n",
            "  File \"/usr/local/lib/python3.7/dist-packages/tensorboard/program.py\", line 276, in main\n",
            "    return runner(self.flags) or 0\n",
            "  File \"/usr/local/lib/python3.7/dist-packages/tensorboard/uploader/uploader_subcommand.py\", line 692, in run\n",
            "    return _run(flags, self._experiment_url_callback)\n",
            "  File \"/usr/local/lib/python3.7/dist-packages/tensorboard/uploader/uploader_subcommand.py\", line 125, in _run\n",
            "    intent.execute(server_info, channel)\n",
            "  File \"/usr/local/lib/python3.7/dist-packages/grpc/_channel.py\", line 1564, in __exit__\n",
            "    self._close()\n",
            "  File \"/usr/local/lib/python3.7/dist-packages/grpc/_channel.py\", line 1550, in _close\n",
            "    self._channel.close(cygrpc.StatusCode.cancelled, 'Channel closed!')\n",
            "  File \"src/python/grpcio/grpc/_cython/_cygrpc/channel.pyx.pxi\", line 513, in grpc._cython.cygrpc.Channel.close\n",
            "  File \"src/python/grpcio/grpc/_cython/_cygrpc/channel.pyx.pxi\", line 399, in grpc._cython.cygrpc._close\n",
            "  File \"src/python/grpcio/grpc/_cython/_cygrpc/channel.pyx.pxi\", line 429, in grpc._cython.cygrpc._close\n",
            "  File \"/usr/lib/python3.7/threading.py\", line 358, in notify_all\n",
            "    def notify_all(self):\n",
            "KeyboardInterrupt\n"
          ]
        }
      ],
      "source": [
        "!tensorboard dev upload --logdir 'runs' --name \"Normalisation CIFAR 10 Data \" --description \"Normalisation CIFAR10 Model\""
      ]
    },
    {
      "cell_type": "markdown",
      "metadata": {
        "id": "NGD2iKBTEk-6"
      },
      "source": [
        "**Exercise 2: Network Regularization (CNN)**"
      ]
    },
    {
      "cell_type": "code",
      "execution_count": 31,
      "metadata": {
        "id": "cQeemsgYOap0"
      },
      "outputs": [],
      "source": [
        "train_augmentations_all = transforms.Compose([transforms.RandomGrayscale(0.2),\n",
        "                                          transforms.RandomHorizontalFlip(0.5),\n",
        "                                          transforms.RandomVerticalFlip(0.2),\n",
        "                                          transforms.RandomRotation(30),\n",
        "                                          transforms.RandomAdjustSharpness(0.4),\n",
        "                                          transforms.ToTensor(),\n",
        "                                          transforms.Normalize((0.4914, 0.4822, 0.4465), (0.2023, 0.1994, 0.2010))\n",
        "                                         ])\n",
        "\n",
        "test_augmentations_all = transforms.Compose([transforms.ToTensor(), \n",
        "                                         transforms.Normalize((0.4914, 0.4822, 0.4465), (0.2023, 0.1994, 0.2010))]\n",
        "                                       )"
      ]
    },
    {
      "cell_type": "code",
      "execution_count": 32,
      "metadata": {
        "colab": {
          "base_uri": "https://localhost:8080/"
        },
        "id": "J3rKoRv3Oe9p",
        "outputId": "a657244a-c78a-45ae-933e-c5d09729fe27"
      },
      "outputs": [
        {
          "output_type": "stream",
          "name": "stdout",
          "text": [
            "Files already downloaded and verified\n"
          ]
        }
      ],
      "source": [
        "path = '/tmp'\n",
        "\n",
        "train_ds_all = datasets.CIFAR10(root=path,\n",
        "                            train=True,\n",
        "                            transform=train_augmentations_all,\n",
        "                            download=True\n",
        "                           )\n",
        "\n",
        "test_ds_all = datasets.CIFAR10(root=path,\n",
        "                           train=False,\n",
        "                           transform=test_augmentations_all\n",
        "                           )\n",
        "\n",
        "labels = 'airplane automobile bird cat deer dog frog horse ship truck'.split()"
      ]
    },
    {
      "cell_type": "code",
      "execution_count": 33,
      "metadata": {
        "id": "SLuyrItvPtzy"
      },
      "outputs": [],
      "source": [
        "train_dataloader_all = torch.utils.data.DataLoader(train_ds_all, batch_size=256, shuffle=True, num_workers=2)\n",
        "test_dataloader_all = torch.utils.data.DataLoader(test_ds_all, batch_size=256, shuffle=True, num_workers=2)"
      ]
    },
    {
      "cell_type": "code",
      "execution_count": 34,
      "metadata": {
        "id": "19wuJEwpC87-"
      },
      "outputs": [],
      "source": [
        "class Net_dropout(nn.Module):\n",
        "    \n",
        "    def __init__(self, in_features=3, num_classes=10):\n",
        "        super(Net_dropout, self).__init__()\n",
        "        \n",
        "        self.conv_block = nn.Sequential( nn.Conv2d(in_channels=in_features,out_channels=6,kernel_size=3,stride=1),\n",
        "                                         nn.ReLU(),\n",
        "                                         nn.MaxPool2d(2,2),\n",
        "                                         nn.Conv2d(in_channels=6,out_channels=12,kernel_size=3,stride=1),\n",
        "                                         nn.ReLU(),\n",
        "                                         nn.Conv2d(in_channels=12,out_channels=16,kernel_size=3,stride=1),\n",
        "                                         nn.ReLU(),\n",
        "                                         nn.MaxPool2d(2,2)\n",
        "                                        )\n",
        "        \n",
        "        self.linear_block = nn.Sequential( nn.Linear(16*5*5, 120),\n",
        "                                           nn.ReLU(),\n",
        "                                           nn.Dropout(0.25),\n",
        "                                           nn.Linear(120,84),\n",
        "                                           nn.ReLU(),\n",
        "                                           nn.Dropout(0.25),\n",
        "                                           nn.Linear(84,10),\n",
        "                                           nn.ReLU()\n",
        "\n",
        "                                         )\n",
        "        # self.dropout = nn.Dropout(0.25)\n",
        "        \n",
        "    def forward(self, x):\n",
        "        x = self.conv_block(x)\n",
        "        x = torch.flatten(x,1)\n",
        "        x = self.linear_block(x)\n",
        "        return x\n"
      ]
    },
    {
      "cell_type": "code",
      "execution_count": 35,
      "metadata": {
        "colab": {
          "base_uri": "https://localhost:8080/"
        },
        "id": "5xr5F0L2H2qK",
        "outputId": "414557d6-66bb-4dcd-d4e4-1f7f455942c3"
      },
      "outputs": [
        {
          "output_type": "stream",
          "name": "stdout",
          "text": [
            "Net_dropout(\n",
            "  (conv_block): Sequential(\n",
            "    (0): Conv2d(3, 6, kernel_size=(3, 3), stride=(1, 1))\n",
            "    (1): ReLU()\n",
            "    (2): MaxPool2d(kernel_size=2, stride=2, padding=0, dilation=1, ceil_mode=False)\n",
            "    (3): Conv2d(6, 12, kernel_size=(3, 3), stride=(1, 1))\n",
            "    (4): ReLU()\n",
            "    (5): Conv2d(12, 16, kernel_size=(3, 3), stride=(1, 1))\n",
            "    (6): ReLU()\n",
            "    (7): MaxPool2d(kernel_size=2, stride=2, padding=0, dilation=1, ceil_mode=False)\n",
            "  )\n",
            "  (linear_block): Sequential(\n",
            "    (0): Linear(in_features=400, out_features=120, bias=True)\n",
            "    (1): ReLU()\n",
            "    (2): Dropout(p=0.25, inplace=False)\n",
            "    (3): Linear(in_features=120, out_features=84, bias=True)\n",
            "    (4): ReLU()\n",
            "    (5): Dropout(p=0.25, inplace=False)\n",
            "    (6): Linear(in_features=84, out_features=10, bias=True)\n",
            "    (7): ReLU()\n",
            "  )\n",
            ")\n"
          ]
        }
      ],
      "source": [
        "model = Net_dropout().to(device)\n",
        "print(model)"
      ]
    },
    {
      "cell_type": "code",
      "execution_count": 36,
      "metadata": {
        "colab": {
          "base_uri": "https://localhost:8080/"
        },
        "id": "OtsZgfyTIBW2",
        "outputId": "c1785e5d-4045-42f7-81f3-2229fb327ce9"
      },
      "outputs": [
        {
          "output_type": "stream",
          "name": "stdout",
          "text": [
            "Model is using cuda\n",
            "------EPOCH 1/10------\n",
            "Training: LOSS: 2.163170884458386 | ACCURACY: 0.22529496173469388\n",
            "Testing: LOSS: 1.9181569248437882 | ACCURACY: 0.3501953125\n",
            "\n",
            "\n",
            "Model is using cuda\n",
            "------EPOCH 2/10------\n",
            "Training: LOSS: 1.9826867598660138 | ACCURACY: 0.31368383290816326\n",
            "Testing: LOSS: 1.7227968364953994 | ACCURACY: 0.40185546875\n",
            "\n",
            "\n",
            "Model is using cuda\n",
            "------EPOCH 3/10------\n",
            "Training: LOSS: 1.8482156140463692 | ACCURACY: 0.34956951530612246\n",
            "Testing: LOSS: 1.6514089226722717 | ACCURACY: 0.4244140625\n",
            "\n",
            "\n",
            "Model is using cuda\n",
            "------EPOCH 4/10------\n",
            "Training: LOSS: 1.7993173690474764 | ACCURACY: 0.3680843431122449\n",
            "Testing: LOSS: 1.5964259207248688 | ACCURACY: 0.44375\n",
            "\n",
            "\n",
            "Model is using cuda\n",
            "------EPOCH 5/10------\n",
            "Training: LOSS: 1.7669338054802952 | ACCURACY: 0.3820232780612245\n",
            "Testing: LOSS: 1.5742644906044005 | ACCURACY: 0.45107421875\n",
            "\n",
            "\n",
            "Model is using cuda\n",
            "------EPOCH 6/10------\n",
            "Training: LOSS: 1.741213980377937 | ACCURACY: 0.3917291135204082\n",
            "Testing: LOSS: 1.5423934876918792 | ACCURACY: 0.45888671875\n",
            "\n",
            "\n",
            "Model is using cuda\n",
            "------EPOCH 7/10------\n",
            "Training: LOSS: 1.7229671149837726 | ACCURACY: 0.3960658482142857\n",
            "Testing: LOSS: 1.5285702735185622 | ACCURACY: 0.46298828125\n",
            "\n",
            "\n",
            "Model is using cuda\n",
            "------EPOCH 8/10------\n",
            "Training: LOSS: 1.7043554278052584 | ACCURACY: 0.41077407525510207\n",
            "Testing: LOSS: 1.5043107450008393 | ACCURACY: 0.47548828125\n",
            "\n",
            "\n",
            "Model is using cuda\n",
            "------EPOCH 9/10------\n",
            "Training: LOSS: 1.687567409203977 | ACCURACY: 0.41250797193877553\n",
            "Testing: LOSS: 1.4748970985412597 | ACCURACY: 0.48564453125\n",
            "\n",
            "\n",
            "Model is using cuda\n",
            "------EPOCH 10/10------\n",
            "Training: LOSS: 1.6718419619968958 | ACCURACY: 0.4192163584183673\n",
            "Testing: LOSS: 1.4402622938156129 | ACCURACY: 0.4998046875\n",
            "\n",
            "\n"
          ]
        }
      ],
      "source": [
        "trainer = Trainer(model, (train_dataloader_all, test_dataloader_all), device)\n",
        "regulariser=\"None\"\n",
        "(train_losses, train_accs), (test_losses, test_accs) = trainer.fit(regulariser)"
      ]
    },
    {
      "cell_type": "code",
      "execution_count": 43,
      "metadata": {
        "colab": {
          "base_uri": "https://localhost:8080/"
        },
        "id": "TGzIsevSIOAc",
        "outputId": "40f549f7-338c-45c1-aa0d-05d4e45cf9de"
      },
      "outputs": [
        {
          "output_type": "stream",
          "name": "stdout",
          "text": [
            "Upload started and will continue reading any new data as it's added to the logdir.\n",
            "\n",
            "To stop uploading, press Ctrl-C.\n",
            "\n",
            "New experiment created. View your TensorBoard at: https://tensorboard.dev/experiment/z87QiQqmTyq7YEFycyDINg/\n",
            "\n",
            "\u001b[1m[2022-06-26T09:04:19]\u001b[0m Started scanning logdir.\n",
            "\u001b[1m[2022-06-26T09:04:19]\u001b[0m Total uploaded: 240 scalars, 0 tensors, 0 binary objects\n",
            "\n",
            "\n",
            "Interrupted. View your TensorBoard at https://tensorboard.dev/experiment/z87QiQqmTyq7YEFycyDINg/\n",
            "Traceback (most recent call last):\n",
            "  File \"/usr/local/bin/tensorboard\", line 8, in <module>\n",
            "    sys.exit(run_main())\n",
            "  File \"/usr/local/lib/python3.7/dist-packages/tensorboard/main.py\", line 46, in run_main\n",
            "    app.run(tensorboard.main, flags_parser=tensorboard.configure)\n",
            "  File \"/usr/local/lib/python3.7/dist-packages/absl/app.py\", line 312, in run\n",
            "    _run_main(main, args)\n",
            "  File \"/usr/local/lib/python3.7/dist-packages/absl/app.py\", line 258, in _run_main\n",
            "    sys.exit(main(argv))\n",
            "  File \"/usr/local/lib/python3.7/dist-packages/tensorboard/program.py\", line 276, in main\n",
            "    return runner(self.flags) or 0\n",
            "  File \"/usr/local/lib/python3.7/dist-packages/tensorboard/uploader/uploader_subcommand.py\", line 692, in run\n",
            "    return _run(flags, self._experiment_url_callback)\n",
            "  File \"/usr/local/lib/python3.7/dist-packages/tensorboard/uploader/uploader_subcommand.py\", line 125, in _run\n",
            "    intent.execute(server_info, channel)\n",
            "  File \"/usr/local/lib/python3.7/dist-packages/grpc/_channel.py\", line 1564, in __exit__\n",
            "    self._close()\n",
            "  File \"/usr/local/lib/python3.7/dist-packages/grpc/_channel.py\", line 1550, in _close\n",
            "    self._channel.close(cygrpc.StatusCode.cancelled, 'Channel closed!')\n",
            "  File \"src/python/grpcio/grpc/_cython/_cygrpc/channel.pyx.pxi\", line 513, in grpc._cython.cygrpc.Channel.close\n",
            "  File \"src/python/grpcio/grpc/_cython/_cygrpc/channel.pyx.pxi\", line 399, in grpc._cython.cygrpc._close\n",
            "  File \"src/python/grpcio/grpc/_cython/_cygrpc/channel.pyx.pxi\", line 429, in grpc._cython.cygrpc._close\n",
            "  File \"/usr/lib/python3.7/threading.py\", line 358, in notify_all\n",
            "    def notify_all(self):\n",
            "KeyboardInterrupt\n"
          ]
        }
      ],
      "source": [
        "!tensorboard dev upload --logdir 'runs' --name \"Dropout CIFAR 10 Data \" --description \"Dropout CIFAR10 Model\""
      ]
    },
    {
      "cell_type": "code",
      "execution_count": 39,
      "metadata": {
        "colab": {
          "base_uri": "https://localhost:8080/"
        },
        "id": "cciHw4xl6VDo",
        "outputId": "c3806164-9f57-4f37-a3e1-29b806a8702a"
      },
      "outputs": [
        {
          "output_type": "stream",
          "name": "stdout",
          "text": [
            "Model is using cuda\n",
            "------EPOCH 1/10------\n",
            "Training: LOSS: 3.162023984656042 | ACCURACY: 0.41946348852040816\n",
            "Testing: LOSS: 1.4132280141115188 | ACCURACY: 0.489453125\n",
            "\n",
            "\n",
            "Model is using cuda\n",
            "------EPOCH 2/10------\n",
            "Training: LOSS: 2.365024064268385 | ACCURACY: 0.40707110969387755\n",
            "Testing: LOSS: 1.444857546687126 | ACCURACY: 0.48564453125\n",
            "\n",
            "\n",
            "Model is using cuda\n",
            "------EPOCH 3/10------\n",
            "Training: LOSS: 2.243377219657509 | ACCURACY: 0.39493781887755103\n",
            "Testing: LOSS: 1.4606525719165802 | ACCURACY: 0.46953125\n",
            "\n",
            "\n",
            "Model is using cuda\n",
            "------EPOCH 4/10------\n",
            "Training: LOSS: 2.1877212767698326 | ACCURACY: 0.3940808354591837\n",
            "Testing: LOSS: 1.4607624381780624 | ACCURACY: 0.47216796875\n",
            "\n",
            "\n",
            "Model is using cuda\n",
            "------EPOCH 5/10------\n",
            "Training: LOSS: 2.152590570401172 | ACCURACY: 0.39530851403061223\n",
            "Testing: LOSS: 1.4677068769931794 | ACCURACY: 0.46318359375\n",
            "\n",
            "\n",
            "Model is using cuda\n",
            "------EPOCH 6/10------\n",
            "Training: LOSS: 2.1228376675625236 | ACCURACY: 0.3992227359693878\n",
            "Testing: LOSS: 1.4296285033226013 | ACCURACY: 0.48603515625\n",
            "\n",
            "\n",
            "Model is using cuda\n",
            "------EPOCH 7/10------\n",
            "Training: LOSS: 2.1034573961277396 | ACCURACY: 0.39754862882653064\n",
            "Testing: LOSS: 1.4535400211811065 | ACCURACY: 0.47587890625\n",
            "\n",
            "\n",
            "Model is using cuda\n",
            "------EPOCH 8/10------\n",
            "Training: LOSS: 2.0897605406994724 | ACCURACY: 0.3979113520408163\n",
            "Testing: LOSS: 1.43934223651886 | ACCURACY: 0.49013671875\n",
            "\n",
            "\n",
            "Model is using cuda\n",
            "------EPOCH 9/10------\n",
            "Training: LOSS: 2.081235093121626 | ACCURACY: 0.39710220025510207\n",
            "Testing: LOSS: 1.518633523583412 | ACCURACY: 0.45458984375\n",
            "\n",
            "\n",
            "Model is using cuda\n",
            "------EPOCH 10/10------\n",
            "Training: LOSS: 2.0630404480866025 | ACCURACY: 0.40044244260204076\n",
            "Testing: LOSS: 1.4079835146665574 | ACCURACY: 0.484375\n",
            "\n",
            "\n"
          ]
        }
      ],
      "source": [
        "# For L1 Regularisation\n",
        "trainer = Trainer(model, (train_dataloader_all, test_dataloader_all), device)\n",
        "regulariser='L1'\n",
        "(train_losses, train_accs), (test_losses, test_accs) = trainer.fit(regulariser)"
      ]
    },
    {
      "cell_type": "code",
      "execution_count": 42,
      "metadata": {
        "colab": {
          "base_uri": "https://localhost:8080/"
        },
        "id": "vmMBWLf86U06",
        "outputId": "2c97bef2-d80e-4f54-a3aa-ec4926ae59d9"
      },
      "outputs": [
        {
          "output_type": "stream",
          "name": "stdout",
          "text": [
            "Model is using cuda\n",
            "------EPOCH 1/10------\n",
            "Training: LOSS: 1.6794119799623684 | ACCURACY: 0.4116828762755102\n",
            "Testing: LOSS: 1.3893619000911712 | ACCURACY: 0.48701171875\n",
            "\n",
            "\n",
            "Model is using cuda\n",
            "------EPOCH 2/10------\n",
            "Training: LOSS: 1.6447452768987538 | ACCURACY: 0.4275749362244898\n",
            "Testing: LOSS: 1.3564866095781327 | ACCURACY: 0.50654296875\n",
            "\n",
            "\n",
            "Model is using cuda\n",
            "------EPOCH 3/10------\n",
            "Training: LOSS: 1.624359213576025 | ACCURACY: 0.4353037308673469\n",
            "Testing: LOSS: 1.3439359962940216 | ACCURACY: 0.51005859375\n",
            "\n",
            "\n",
            "Model is using cuda\n",
            "------EPOCH 4/10------\n",
            "Training: LOSS: 1.6210942615051658 | ACCURACY: 0.4424545599489796\n",
            "Testing: LOSS: 1.3233083873987197 | ACCURACY: 0.5234375\n",
            "\n",
            "\n",
            "Model is using cuda\n",
            "------EPOCH 5/10------\n",
            "Training: LOSS: 1.5972214037058305 | ACCURACY: 0.4529296875\n",
            "Testing: LOSS: 1.2785885602235794 | ACCURACY: 0.540234375\n",
            "\n",
            "\n",
            "Model is using cuda\n",
            "------EPOCH 6/10------\n",
            "Training: LOSS: 1.5954015181989085 | ACCURACY: 0.45361527423469383\n",
            "Testing: LOSS: 1.286544892191887 | ACCURACY: 0.5443359375\n",
            "\n",
            "\n",
            "Model is using cuda\n",
            "------EPOCH 7/10------\n",
            "Training: LOSS: 1.5872124360532176 | ACCURACY: 0.457421875\n",
            "Testing: LOSS: 1.2668860405683517 | ACCURACY: 0.5443359375\n",
            "\n",
            "\n",
            "Model is using cuda\n",
            "------EPOCH 8/10------\n",
            "Training: LOSS: 1.5835749421800887 | ACCURACY: 0.45615832270408163\n",
            "Testing: LOSS: 1.28169085085392 | ACCURACY: 0.5375\n",
            "\n",
            "\n",
            "Model is using cuda\n",
            "------EPOCH 9/10------\n",
            "Training: LOSS: 1.5745240863488645 | ACCURACY: 0.4645448022959184\n",
            "Testing: LOSS: 1.2655940979719162 | ACCURACY: 0.548046875\n",
            "\n",
            "\n",
            "Model is using cuda\n",
            "------EPOCH 10/10------\n",
            "Training: LOSS: 1.575148455342468 | ACCURACY: 0.4644092793367347\n",
            "Testing: LOSS: 1.2669922918081284 | ACCURACY: 0.54892578125\n",
            "\n",
            "\n"
          ]
        }
      ],
      "source": [
        "# For L2 Regularisation\n",
        "trainer = Trainer(model, (train_dataloader_all, test_dataloader_all), device)\n",
        "regulariser='L2'\n",
        "(train_losses, train_accs), (test_losses, test_accs) = trainer.fit(regulariser)"
      ]
    },
    {
      "cell_type": "markdown",
      "metadata": {
        "id": "zSOzouQCo0Sg"
      },
      "source": [
        "### **Exercise 3: Optimizers**"
      ]
    },
    {
      "cell_type": "markdown",
      "metadata": {
        "id": "zNoTCKQso7ey"
      },
      "source": [
        " We test with two different Optimisers SGD and AdamOptimizer"
      ]
    },
    {
      "cell_type": "code",
      "execution_count": 45,
      "metadata": {
        "id": "yJZLapZaKdSq"
      },
      "outputs": [],
      "source": [
        "learning_rate_array=[0.001,0.00001]\n",
        "optimiser_arr=[\"Adam\",\"SGD\"]"
      ]
    },
    {
      "cell_type": "code",
      "source": [
        "class Trainer_op:\n",
        "    def __init__(self, model, dataloaders, device,learning_rate,optimiser):\n",
        "        \n",
        "        self.config = {\n",
        "            'lr':learning_rate,\n",
        "            'epochs': 10\n",
        "        }\n",
        "        \n",
        "        self.model = model\n",
        "        self.train_loader, self.test_loader = dataloaders\n",
        "        self.loss_fn = nn.CrossEntropyLoss()\n",
        "        if optimiser=='Adam':\n",
        "          self.optim = torch.optim.Adam(self.model.parameters(), lr = self.config['lr'])\n",
        "        else:\n",
        "          self.optim = torch.optim.SGD(self.model.parameters(), lr = self.config['lr'])\n",
        "        self.device = device\n",
        "        \n",
        "    def accuracy(self, output, y):\n",
        "        pred_labels = torch.argmax(output, dim=1)\n",
        "        return (pred_labels == y).sum().item() / len(y)\n",
        "        \n",
        "    def train_one_epoch(self,regulariser):\n",
        "        running_loss = 0\n",
        "        running_acc = 0\n",
        "        lambda_l1=0.001\n",
        "        lambda_l2=0.001\n",
        "        reg_loss=0\n",
        "        for x,y in self.train_loader:\n",
        "            self.optim.zero_grad()\n",
        "            x = x.to(self.device, dtype=torch.float)\n",
        "            y = y.to(self.device, dtype=torch.long)\n",
        "            output = self.model(x)\n",
        "            loss = self.loss_fn(output, y)\n",
        "            if regulariser=='L1':\n",
        "              # print(\"Inside L1 Regulariser\")\n",
        "              # for param in model.parameters():\n",
        "              #   reg_loss+=param.abs().sum()\n",
        "              reg_loss = sum(p.abs().sum()for p in model.parameters())\n",
        "              loss +=lambda_l1*reg_loss\n",
        "            elif regulariser=='L2':\n",
        "              # print(\"Inside L2 Regulariser\")\n",
        "              reg_loss = sum(p.pow(2.0).sum()for p in model.parameters())\n",
        "              # for param in model.parameters():\n",
        "              #   reg_loss+=param.pow(2).sum()\n",
        "              loss +=lambda_l2*reg_loss\n",
        "            else:\n",
        "              loss = self.loss_fn(output, y)\n",
        "            \n",
        "\n",
        "            loss.backward()\n",
        "            self.optim.step()\n",
        "            running_loss += loss.item()\n",
        "            running_acc += self.accuracy(output,y)       \n",
        "            del x,y,output   \n",
        "        train_loss = running_loss/len(self.train_loader)\n",
        "        train_acc = running_acc/len(self.train_loader) \n",
        "        return train_loss, train_acc\n",
        "    \n",
        "    @torch.no_grad()\n",
        "    def valid_one_epoch(self):\n",
        "        \n",
        "        running_loss = 0\n",
        "        running_acc = 0\n",
        "        \n",
        "        for x,y in self.test_loader:\n",
        "            \n",
        "            x = x.to(self.device, dtype=torch.float)\n",
        "            y = y.to(self.device, dtype=torch.long)\n",
        "            \n",
        "            output = self.model(x)\n",
        "            \n",
        "            loss = self.loss_fn(output, y)\n",
        "            \n",
        "            running_loss += loss.item()\n",
        "            running_acc += self.accuracy(output,y)\n",
        "            \n",
        "            del x,y,output\n",
        "            \n",
        "        test_loss = running_loss/len(self.test_loader)\n",
        "        test_acc = running_acc/len(self.test_loader)\n",
        "        \n",
        "        return test_loss, test_acc\n",
        "    \n",
        "    \n",
        "    def fit(self,regulariser,lr,op):\n",
        "        \n",
        "        train_losses,train_accs = [], []\n",
        "        test_losses, test_accs = [], []\n",
        "        \n",
        "        for epoch in range(self.config['epochs']):\n",
        "            \n",
        "            print(f\"Model is using {'cuda' if next(self.model.parameters()).is_cuda else 'cpu'}\")\n",
        "            self.model.train() \n",
        "            \n",
        "            train_loss, train_acc = self.train_one_epoch(regulariser)\n",
        "\n",
        "            tb.add_scalars(\"Loss with diff Optimiser and Learning Rate/Training_Loss\", {'train_loss_SGD_0.00001':train_loss}, epoch)\n",
        "            tb.add_scalars(\"Accuracy with diff Optimiser and Learning Rate/Training_Accuracy\", {'train_acc_SGD_0.00001':train_acc}, epoch)\n",
        "\n",
        "            train_losses.append(train_loss)\n",
        "            train_accs.append(train_acc)\n",
        "            \n",
        "            self.model.eval()\n",
        "            \n",
        "            test_loss, test_acc = self.valid_one_epoch()\n",
        "\n",
        "            tb.add_scalars(\"Loss with diff Optimiser and Learning Rate/Testing_Loss\", {'test_loss_SGD_0.00001':test_loss}, epoch)\n",
        "            tb.add_scalars(\"Accuracy with diff Optimiser and Learning Rate/Testing_Accuracy\", {'test_acc_SGD_0.00001':test_acc}, epoch)\n",
        "\n",
        "            test_losses.append(test_loss)\n",
        "            test_accs.append(test_acc)\n",
        "            \n",
        "            print(f\"------EPOCH for {op} Optimiser with Learning Rate {lr} {epoch+1}/{self.config['epochs']}------\")\n",
        "            print(f\"Training: LOSS: {train_loss} | ACCURACY: {train_acc}\")\n",
        "            print(f\"Testing: LOSS: {test_loss} | ACCURACY: {test_acc}\\n\\n\")\n",
        "            \n",
        "            # CLEANUP\n",
        "            gc.collect()\n",
        "            torch.cuda.empty_cache()\n",
        "            tb.flush()\n",
        "        \n",
        "        return (train_losses, train_accs), (test_losses, test_accs)"
      ],
      "metadata": {
        "id": "Fvko_3wNwZ0h"
      },
      "execution_count": 56,
      "outputs": []
    },
    {
      "cell_type": "code",
      "source": [
        "trainer = Trainer_op(model, (train_dataloader_all, test_dataloader_all), device,learning_rate_array[0],optimiser_arr[0])\n",
        "(train_losses, train_accs), (test_losses, test_accs) = trainer.fit(regulariser,learning_rate_array[0],optimiser_arr[0])"
      ],
      "metadata": {
        "colab": {
          "base_uri": "https://localhost:8080/"
        },
        "id": "C4UTlpPdwwRX",
        "outputId": "1353ec46-5ed9-41ab-acf4-f9500ad0086f"
      },
      "execution_count": 47,
      "outputs": [
        {
          "output_type": "stream",
          "name": "stdout",
          "text": [
            "Model is using cuda\n",
            "------EPOCH for Adam Optimiser with Learning Rate 0.001 1/10------\n",
            "Training: LOSS: 1.568271853485886 | ACCURACY: 0.4672632334183674\n",
            "Testing: LOSS: 1.2520844906568527 | ACCURACY: 0.55107421875\n",
            "\n",
            "\n",
            "Model is using cuda\n",
            "------EPOCH for Adam Optimiser with Learning Rate 0.001 2/10------\n",
            "Training: LOSS: 1.5593552267064854 | ACCURACY: 0.47099808673469384\n",
            "Testing: LOSS: 1.2394691467285157 | ACCURACY: 0.5546875\n",
            "\n",
            "\n",
            "Model is using cuda\n",
            "------EPOCH for Adam Optimiser with Learning Rate 0.001 3/10------\n",
            "Training: LOSS: 1.5599221866957995 | ACCURACY: 0.47494818239795916\n",
            "Testing: LOSS: 1.242810446023941 | ACCURACY: 0.54853515625\n",
            "\n",
            "\n",
            "Model is using cuda\n",
            "------EPOCH for Adam Optimiser with Learning Rate 0.001 4/10------\n",
            "Training: LOSS: 1.5608928240075404 | ACCURACY: 0.47167171556122445\n",
            "Testing: LOSS: 1.227433317899704 | ACCURACY: 0.56162109375\n",
            "\n",
            "\n",
            "Model is using cuda\n",
            "------EPOCH for Adam Optimiser with Learning Rate 0.001 5/10------\n",
            "Training: LOSS: 1.5497294627890295 | ACCURACY: 0.4764867665816327\n",
            "Testing: LOSS: 1.206625261902809 | ACCURACY: 0.56552734375\n",
            "\n",
            "\n",
            "Model is using cuda\n",
            "------EPOCH for Adam Optimiser with Learning Rate 0.001 6/10------\n",
            "Training: LOSS: 1.5515006184577942 | ACCURACY: 0.47831632653061223\n",
            "Testing: LOSS: 1.2104094952344895 | ACCURACY: 0.56640625\n",
            "\n",
            "\n",
            "Model is using cuda\n",
            "------EPOCH for Adam Optimiser with Learning Rate 0.001 7/10------\n",
            "Training: LOSS: 1.550370262593639 | ACCURACY: 0.4772640306122449\n",
            "Testing: LOSS: 1.2239610075950622 | ACCURACY: 0.56728515625\n",
            "\n",
            "\n",
            "Model is using cuda\n",
            "------EPOCH for Adam Optimiser with Learning Rate 0.001 8/10------\n",
            "Training: LOSS: 1.547726452958827 | ACCURACY: 0.48026546556122446\n",
            "Testing: LOSS: 1.2020698994398118 | ACCURACY: 0.57109375\n",
            "\n",
            "\n",
            "Model is using cuda\n",
            "------EPOCH for Adam Optimiser with Learning Rate 0.001 9/10------\n",
            "Training: LOSS: 1.539099009669557 | ACCURACY: 0.48105867346938774\n",
            "Testing: LOSS: 1.2074161976575852 | ACCURACY: 0.56337890625\n",
            "\n",
            "\n",
            "Model is using cuda\n",
            "------EPOCH for Adam Optimiser with Learning Rate 0.001 10/10------\n",
            "Training: LOSS: 1.5404109291884365 | ACCURACY: 0.48291214923469383\n",
            "Testing: LOSS: 1.2245412915945053 | ACCURACY: 0.5666015625\n",
            "\n",
            "\n"
          ]
        }
      ]
    },
    {
      "cell_type": "code",
      "source": [
        "trainer = Trainer_op(model, (train_dataloader_all, test_dataloader_all), device,learning_rate_array[0],optimiser_arr[1])\n",
        "(train_losses, train_accs), (test_losses, test_accs) = trainer.fit(regulariser,learning_rate_array[0],optimiser_arr[1])"
      ],
      "metadata": {
        "colab": {
          "base_uri": "https://localhost:8080/"
        },
        "id": "CNAwsOsCxuG6",
        "outputId": "70501926-c9f8-4f38-ef88-1e05012a4a1e"
      },
      "execution_count": 53,
      "outputs": [
        {
          "output_type": "stream",
          "name": "stdout",
          "text": [
            "Model is using cuda\n",
            "------EPOCH for SGD Optimiser with Learning Rate 0.001 1/10------\n",
            "Training: LOSS: 1.5004704764911108 | ACCURACY: 0.4995854591836735\n",
            "Testing: LOSS: 1.1690899759531022 | ACCURACY: 0.57939453125\n",
            "\n",
            "\n",
            "Model is using cuda\n",
            "------EPOCH for SGD Optimiser with Learning Rate 0.001 2/10------\n",
            "Training: LOSS: 1.49948372707075 | ACCURACY: 0.4980508609693878\n",
            "Testing: LOSS: 1.1637003898620606 | ACCURACY: 0.58486328125\n",
            "\n",
            "\n",
            "Model is using cuda\n",
            "------EPOCH for SGD Optimiser with Learning Rate 0.001 3/10------\n",
            "Training: LOSS: 1.5016942261433115 | ACCURACY: 0.4974968112244898\n",
            "Testing: LOSS: 1.1748516321182252 | ACCURACY: 0.57685546875\n",
            "\n",
            "\n",
            "Model is using cuda\n",
            "------EPOCH for SGD Optimiser with Learning Rate 0.001 4/10------\n",
            "Training: LOSS: 1.4945509020163088 | ACCURACY: 0.49851721938775506\n",
            "Testing: LOSS: 1.1736849755048753 | ACCURACY: 0.57734375\n",
            "\n",
            "\n",
            "Model is using cuda\n",
            "------EPOCH for SGD Optimiser with Learning Rate 0.001 5/10------\n",
            "Training: LOSS: 1.4978796420048694 | ACCURACY: 0.5001753826530612\n",
            "Testing: LOSS: 1.1641959249973297 | ACCURACY: 0.58251953125\n",
            "\n",
            "\n",
            "Model is using cuda\n",
            "------EPOCH for SGD Optimiser with Learning Rate 0.001 6/10------\n",
            "Training: LOSS: 1.4962576244558607 | ACCURACY: 0.5002590880102041\n",
            "Testing: LOSS: 1.1571310997009276 | ACCURACY: 0.58857421875\n",
            "\n",
            "\n",
            "Model is using cuda\n",
            "------EPOCH for SGD Optimiser with Learning Rate 0.001 7/10------\n",
            "Training: LOSS: 1.4995882200951478 | ACCURACY: 0.4987045599489796\n",
            "Testing: LOSS: 1.1593220740556718 | ACCURACY: 0.58515625\n",
            "\n",
            "\n",
            "Model is using cuda\n",
            "------EPOCH for SGD Optimiser with Learning Rate 0.001 8/10------\n",
            "Training: LOSS: 1.4967390615112928 | ACCURACY: 0.5000837053571429\n",
            "Testing: LOSS: 1.1641356319189071 | ACCURACY: 0.58251953125\n",
            "\n",
            "\n",
            "Model is using cuda\n",
            "------EPOCH for SGD Optimiser with Learning Rate 0.001 9/10------\n",
            "Training: LOSS: 1.496657547293877 | ACCURACY: 0.49716996173469385\n",
            "Testing: LOSS: 1.159854492545128 | ACCURACY: 0.58076171875\n",
            "\n",
            "\n",
            "Model is using cuda\n",
            "------EPOCH for SGD Optimiser with Learning Rate 0.001 10/10------\n",
            "Training: LOSS: 1.4937046912251686 | ACCURACY: 0.4988360969387755\n",
            "Testing: LOSS: 1.1678314507007599 | ACCURACY: 0.57890625\n",
            "\n",
            "\n"
          ]
        }
      ]
    },
    {
      "cell_type": "code",
      "source": [
        "trainer = Trainer_op(model, (train_dataloader_all, test_dataloader_all), device,learning_rate_array[1],optimiser_arr[0])\n",
        "(train_losses, train_accs), (test_losses, test_accs) = trainer.fit(regulariser,learning_rate_array[1],optimiser_arr[0])"
      ],
      "metadata": {
        "colab": {
          "base_uri": "https://localhost:8080/"
        },
        "id": "50y30IW1xt8T",
        "outputId": "4b378b4f-54e2-4590-80db-273ccdbdaef9"
      },
      "execution_count": 50,
      "outputs": [
        {
          "output_type": "stream",
          "name": "stdout",
          "text": [
            "Model is using cuda\n",
            "------EPOCH for Adam Optimiser with Learning Rate 1e-05 1/10------\n",
            "Training: LOSS: 1.5247197607342078 | ACCURACY: 0.48878348214285716\n",
            "Testing: LOSS: 1.1826829224824906 | ACCURACY: 0.5767578125\n",
            "\n",
            "\n",
            "Model is using cuda\n",
            "------EPOCH for Adam Optimiser with Learning Rate 1e-05 2/10------\n",
            "Training: LOSS: 1.5099038116785946 | ACCURACY: 0.49233896683673467\n",
            "Testing: LOSS: 1.1768426418304443 | ACCURACY: 0.573046875\n",
            "\n",
            "\n",
            "Model is using cuda\n",
            "------EPOCH for Adam Optimiser with Learning Rate 1e-05 3/10------\n",
            "Training: LOSS: 1.5068278209287294 | ACCURACY: 0.4962691326530612\n",
            "Testing: LOSS: 1.1732120990753174 | ACCURACY: 0.5775390625\n",
            "\n",
            "\n",
            "Model is using cuda\n",
            "------EPOCH for Adam Optimiser with Learning Rate 1e-05 4/10------\n",
            "Training: LOSS: 1.5029672256537847 | ACCURACY: 0.49624920280612245\n",
            "Testing: LOSS: 1.1658751621842385 | ACCURACY: 0.58173828125\n",
            "\n",
            "\n",
            "Model is using cuda\n",
            "------EPOCH for Adam Optimiser with Learning Rate 1e-05 5/10------\n",
            "Training: LOSS: 1.5035096358279794 | ACCURACY: 0.49509327168367345\n",
            "Testing: LOSS: 1.1692884773015977 | ACCURACY: 0.580859375\n",
            "\n",
            "\n",
            "Model is using cuda\n",
            "------EPOCH for Adam Optimiser with Learning Rate 1e-05 6/10------\n",
            "Training: LOSS: 1.5021145714789021 | ACCURACY: 0.4951809630102041\n",
            "Testing: LOSS: 1.1563545018434525 | ACCURACY: 0.58720703125\n",
            "\n",
            "\n",
            "Model is using cuda\n",
            "------EPOCH for Adam Optimiser with Learning Rate 1e-05 7/10------\n",
            "Training: LOSS: 1.4990414070839784 | ACCURACY: 0.4984175701530612\n",
            "Testing: LOSS: 1.1616040453314782 | ACCURACY: 0.581640625\n",
            "\n",
            "\n",
            "Model is using cuda\n",
            "------EPOCH for Adam Optimiser with Learning Rate 1e-05 8/10------\n",
            "Training: LOSS: 1.500551060146215 | ACCURACY: 0.49781568877551025\n",
            "Testing: LOSS: 1.1780352503061295 | ACCURACY: 0.57587890625\n",
            "\n",
            "\n",
            "Model is using cuda\n",
            "------EPOCH for Adam Optimiser with Learning Rate 1e-05 9/10------\n",
            "Training: LOSS: 1.5030763015455129 | ACCURACY: 0.49447544642857144\n",
            "Testing: LOSS: 1.167734757065773 | ACCURACY: 0.58427734375\n",
            "\n",
            "\n",
            "Model is using cuda\n",
            "------EPOCH for Adam Optimiser with Learning Rate 1e-05 10/10------\n",
            "Training: LOSS: 1.4960114104407174 | ACCURACY: 0.49938217474489793\n",
            "Testing: LOSS: 1.1726034998893737 | ACCURACY: 0.57646484375\n",
            "\n",
            "\n"
          ]
        }
      ]
    },
    {
      "cell_type": "code",
      "source": [
        "trainer = Trainer_op(model, (train_dataloader_all, test_dataloader_all), device,learning_rate_array[1],optimiser_arr[1])\n",
        "(train_losses, train_accs), (test_losses, test_accs) = trainer.fit(regulariser,learning_rate_array[1],optimiser_arr[1])"
      ],
      "metadata": {
        "colab": {
          "base_uri": "https://localhost:8080/"
        },
        "id": "-6IRaF2txtxT",
        "outputId": "2fa369c6-718d-466f-cf0b-7860b361784c"
      },
      "execution_count": 57,
      "outputs": [
        {
          "output_type": "stream",
          "name": "stdout",
          "text": [
            "Model is using cuda\n",
            "------EPOCH for SGD Optimiser with Learning Rate 1e-05 1/10------\n",
            "Training: LOSS: 1.4917641634843788 | ACCURACY: 0.5016342474489796\n",
            "Testing: LOSS: 1.1782564312219619 | ACCURACY: 0.57685546875\n",
            "\n",
            "\n",
            "Model is using cuda\n",
            "------EPOCH for SGD Optimiser with Learning Rate 1e-05 2/10------\n",
            "Training: LOSS: 1.497227593344085 | ACCURACY: 0.4993064413265306\n",
            "Testing: LOSS: 1.1678504675626755 | ACCURACY: 0.58115234375\n",
            "\n",
            "\n",
            "Model is using cuda\n",
            "------EPOCH for SGD Optimiser with Learning Rate 1e-05 3/10------\n",
            "Training: LOSS: 1.4960670471191406 | ACCURACY: 0.4994419642857143\n",
            "Testing: LOSS: 1.165156352519989 | ACCURACY: 0.5828125\n",
            "\n",
            "\n",
            "Model is using cuda\n",
            "------EPOCH for SGD Optimiser with Learning Rate 1e-05 4/10------\n",
            "Training: LOSS: 1.4958208799362183 | ACCURACY: 0.4989078443877551\n",
            "Testing: LOSS: 1.1712672680616378 | ACCURACY: 0.5794921875\n",
            "\n",
            "\n",
            "Model is using cuda\n",
            "------EPOCH for SGD Optimiser with Learning Rate 1e-05 5/10------\n",
            "Training: LOSS: 1.4966949340032072 | ACCURACY: 0.5010841836734694\n",
            "Testing: LOSS: 1.1694296061992646 | ACCURACY: 0.57822265625\n",
            "\n",
            "\n",
            "Model is using cuda\n",
            "------EPOCH for SGD Optimiser with Learning Rate 1e-05 6/10------\n",
            "Training: LOSS: 1.4947708030136264 | ACCURACY: 0.49882413903061223\n",
            "Testing: LOSS: 1.168664875626564 | ACCURACY: 0.5798828125\n",
            "\n",
            "\n",
            "Model is using cuda\n",
            "------EPOCH for SGD Optimiser with Learning Rate 1e-05 7/10------\n",
            "Training: LOSS: 1.4969852262613725 | ACCURACY: 0.4996173469387755\n",
            "Testing: LOSS: 1.1656266182661057 | ACCURACY: 0.5826171875\n",
            "\n",
            "\n",
            "Model is using cuda\n",
            "------EPOCH for SGD Optimiser with Learning Rate 1e-05 8/10------\n",
            "Training: LOSS: 1.50042538740197 | ACCURACY: 0.4976163903061225\n",
            "Testing: LOSS: 1.156057371199131 | ACCURACY: 0.58720703125\n",
            "\n",
            "\n",
            "Model is using cuda\n",
            "------EPOCH for SGD Optimiser with Learning Rate 1e-05 9/10------\n",
            "Training: LOSS: 1.4969611021937157 | ACCURACY: 0.4990513392857143\n",
            "Testing: LOSS: 1.1639508873224258 | ACCURACY: 0.58115234375\n",
            "\n",
            "\n",
            "Model is using cuda\n",
            "------EPOCH for SGD Optimiser with Learning Rate 1e-05 10/10------\n",
            "Training: LOSS: 1.4938492251902211 | ACCURACY: 0.4997409119897959\n",
            "Testing: LOSS: 1.170583465695381 | ACCURACY: 0.58408203125\n",
            "\n",
            "\n"
          ]
        }
      ]
    },
    {
      "cell_type": "code",
      "source": [
        "!tensorboard dev upload --logdir 'runs' --name \"Optimiser Performance CIFAR 10 Data \" --description \"Optimiser Performance CIFAR10 Model\""
      ],
      "metadata": {
        "colab": {
          "base_uri": "https://localhost:8080/"
        },
        "id": "VeMhivLbyl2O",
        "outputId": "231736dd-776d-406b-f84e-c9b43b0550fd"
      },
      "execution_count": 58,
      "outputs": [
        {
          "output_type": "stream",
          "name": "stdout",
          "text": [
            "Upload started and will continue reading any new data as it's added to the logdir.\n",
            "\n",
            "To stop uploading, press Ctrl-C.\n",
            "\n",
            "New experiment created. View your TensorBoard at: https://tensorboard.dev/experiment/XL9ywNvvQtasB7fn5hyzOg/\n",
            "\n",
            "\u001b[1m[2022-06-26T09:40:37]\u001b[0m Started scanning logdir.\n",
            "\u001b[1m[2022-06-26T09:40:37]\u001b[0m Total uploaded: 400 scalars, 0 tensors, 0 binary objects\n",
            "\n",
            "\n",
            "Interrupted. View your TensorBoard at https://tensorboard.dev/experiment/XL9ywNvvQtasB7fn5hyzOg/\n",
            "Traceback (most recent call last):\n",
            "  File \"/usr/local/bin/tensorboard\", line 8, in <module>\n",
            "    sys.exit(run_main())\n",
            "  File \"/usr/local/lib/python3.7/dist-packages/tensorboard/main.py\", line 46, in run_main\n",
            "    app.run(tensorboard.main, flags_parser=tensorboard.configure)\n",
            "  File \"/usr/local/lib/python3.7/dist-packages/absl/app.py\", line 312, in run\n",
            "    _run_main(main, args)\n",
            "  File \"/usr/local/lib/python3.7/dist-packages/absl/app.py\", line 258, in _run_main\n",
            "    sys.exit(main(argv))\n",
            "  File \"/usr/local/lib/python3.7/dist-packages/tensorboard/program.py\", line 276, in main\n",
            "    return runner(self.flags) or 0\n",
            "  File \"/usr/local/lib/python3.7/dist-packages/tensorboard/uploader/uploader_subcommand.py\", line 692, in run\n",
            "    return _run(flags, self._experiment_url_callback)\n",
            "  File \"/usr/local/lib/python3.7/dist-packages/tensorboard/uploader/uploader_subcommand.py\", line 125, in _run\n",
            "    intent.execute(server_info, channel)\n",
            "  File \"/usr/local/lib/python3.7/dist-packages/grpc/_channel.py\", line 1564, in __exit__\n",
            "    self._close()\n",
            "  File \"/usr/local/lib/python3.7/dist-packages/grpc/_channel.py\", line 1550, in _close\n",
            "    self._channel.close(cygrpc.StatusCode.cancelled, 'Channel closed!')\n",
            "  File \"src/python/grpcio/grpc/_cython/_cygrpc/channel.pyx.pxi\", line 513, in grpc._cython.cygrpc.Channel.close\n",
            "  File \"src/python/grpcio/grpc/_cython/_cygrpc/channel.pyx.pxi\", line 399, in grpc._cython.cygrpc._close\n",
            "  File \"src/python/grpcio/grpc/_cython/_cygrpc/channel.pyx.pxi\", line 429, in grpc._cython.cygrpc._close\n",
            "  File \"/usr/lib/python3.7/threading.py\", line 358, in notify_all\n",
            "    def notify_all(self):\n",
            "KeyboardInterrupt\n"
          ]
        }
      ]
    },
    {
      "cell_type": "code",
      "source": [
        ""
      ],
      "metadata": {
        "id": "gxJAkDTZUU4X"
      },
      "execution_count": null,
      "outputs": []
    }
  ],
  "metadata": {
    "accelerator": "GPU",
    "colab": {
      "collapsed_sections": [],
      "name": "312486_Lab07.ipynb",
      "provenance": []
    },
    "gpuClass": "standard",
    "kernelspec": {
      "display_name": "Python 3",
      "name": "python3"
    },
    "language_info": {
      "name": "python"
    },
    "widgets": {
      "application/vnd.jupyter.widget-state+json": {
        "8503a16ee9d74a32b7c52c4f4640704d": {
          "model_module": "@jupyter-widgets/controls",
          "model_name": "HBoxModel",
          "model_module_version": "1.5.0",
          "state": {
            "_dom_classes": [],
            "_model_module": "@jupyter-widgets/controls",
            "_model_module_version": "1.5.0",
            "_model_name": "HBoxModel",
            "_view_count": null,
            "_view_module": "@jupyter-widgets/controls",
            "_view_module_version": "1.5.0",
            "_view_name": "HBoxView",
            "box_style": "",
            "children": [
              "IPY_MODEL_ad689cc9dfba440c83d0be88982acbee",
              "IPY_MODEL_b4fb1721f08b4887a136ae00b002da39",
              "IPY_MODEL_0fda1defed064f6b8ec94810bd2ccdf5"
            ],
            "layout": "IPY_MODEL_1fd5f11689bd45b8a88e5de0f734832a"
          }
        },
        "ad689cc9dfba440c83d0be88982acbee": {
          "model_module": "@jupyter-widgets/controls",
          "model_name": "HTMLModel",
          "model_module_version": "1.5.0",
          "state": {
            "_dom_classes": [],
            "_model_module": "@jupyter-widgets/controls",
            "_model_module_version": "1.5.0",
            "_model_name": "HTMLModel",
            "_view_count": null,
            "_view_module": "@jupyter-widgets/controls",
            "_view_module_version": "1.5.0",
            "_view_name": "HTMLView",
            "description": "",
            "description_tooltip": null,
            "layout": "IPY_MODEL_c17eee3f3a924f0aa36b8fd1122118d9",
            "placeholder": "​",
            "style": "IPY_MODEL_8b5977f981f4435390eca87b52693209",
            "value": ""
          }
        },
        "b4fb1721f08b4887a136ae00b002da39": {
          "model_module": "@jupyter-widgets/controls",
          "model_name": "FloatProgressModel",
          "model_module_version": "1.5.0",
          "state": {
            "_dom_classes": [],
            "_model_module": "@jupyter-widgets/controls",
            "_model_module_version": "1.5.0",
            "_model_name": "FloatProgressModel",
            "_view_count": null,
            "_view_module": "@jupyter-widgets/controls",
            "_view_module_version": "1.5.0",
            "_view_name": "ProgressView",
            "bar_style": "success",
            "description": "",
            "description_tooltip": null,
            "layout": "IPY_MODEL_659eec8ace694adea9c119a6f3e42ff4",
            "max": 170498071,
            "min": 0,
            "orientation": "horizontal",
            "style": "IPY_MODEL_46c5f060e3874976baea54bb63ec50ab",
            "value": 170498071
          }
        },
        "0fda1defed064f6b8ec94810bd2ccdf5": {
          "model_module": "@jupyter-widgets/controls",
          "model_name": "HTMLModel",
          "model_module_version": "1.5.0",
          "state": {
            "_dom_classes": [],
            "_model_module": "@jupyter-widgets/controls",
            "_model_module_version": "1.5.0",
            "_model_name": "HTMLModel",
            "_view_count": null,
            "_view_module": "@jupyter-widgets/controls",
            "_view_module_version": "1.5.0",
            "_view_name": "HTMLView",
            "description": "",
            "description_tooltip": null,
            "layout": "IPY_MODEL_4f5e5bc3cfd24aba9fcebd9c50bccf62",
            "placeholder": "​",
            "style": "IPY_MODEL_e67897736fcf41afa5588a04ce83c827",
            "value": " 170499072/? [00:13&lt;00:00, 14876023.56it/s]"
          }
        },
        "1fd5f11689bd45b8a88e5de0f734832a": {
          "model_module": "@jupyter-widgets/base",
          "model_name": "LayoutModel",
          "model_module_version": "1.2.0",
          "state": {
            "_model_module": "@jupyter-widgets/base",
            "_model_module_version": "1.2.0",
            "_model_name": "LayoutModel",
            "_view_count": null,
            "_view_module": "@jupyter-widgets/base",
            "_view_module_version": "1.2.0",
            "_view_name": "LayoutView",
            "align_content": null,
            "align_items": null,
            "align_self": null,
            "border": null,
            "bottom": null,
            "display": null,
            "flex": null,
            "flex_flow": null,
            "grid_area": null,
            "grid_auto_columns": null,
            "grid_auto_flow": null,
            "grid_auto_rows": null,
            "grid_column": null,
            "grid_gap": null,
            "grid_row": null,
            "grid_template_areas": null,
            "grid_template_columns": null,
            "grid_template_rows": null,
            "height": null,
            "justify_content": null,
            "justify_items": null,
            "left": null,
            "margin": null,
            "max_height": null,
            "max_width": null,
            "min_height": null,
            "min_width": null,
            "object_fit": null,
            "object_position": null,
            "order": null,
            "overflow": null,
            "overflow_x": null,
            "overflow_y": null,
            "padding": null,
            "right": null,
            "top": null,
            "visibility": null,
            "width": null
          }
        },
        "c17eee3f3a924f0aa36b8fd1122118d9": {
          "model_module": "@jupyter-widgets/base",
          "model_name": "LayoutModel",
          "model_module_version": "1.2.0",
          "state": {
            "_model_module": "@jupyter-widgets/base",
            "_model_module_version": "1.2.0",
            "_model_name": "LayoutModel",
            "_view_count": null,
            "_view_module": "@jupyter-widgets/base",
            "_view_module_version": "1.2.0",
            "_view_name": "LayoutView",
            "align_content": null,
            "align_items": null,
            "align_self": null,
            "border": null,
            "bottom": null,
            "display": null,
            "flex": null,
            "flex_flow": null,
            "grid_area": null,
            "grid_auto_columns": null,
            "grid_auto_flow": null,
            "grid_auto_rows": null,
            "grid_column": null,
            "grid_gap": null,
            "grid_row": null,
            "grid_template_areas": null,
            "grid_template_columns": null,
            "grid_template_rows": null,
            "height": null,
            "justify_content": null,
            "justify_items": null,
            "left": null,
            "margin": null,
            "max_height": null,
            "max_width": null,
            "min_height": null,
            "min_width": null,
            "object_fit": null,
            "object_position": null,
            "order": null,
            "overflow": null,
            "overflow_x": null,
            "overflow_y": null,
            "padding": null,
            "right": null,
            "top": null,
            "visibility": null,
            "width": null
          }
        },
        "8b5977f981f4435390eca87b52693209": {
          "model_module": "@jupyter-widgets/controls",
          "model_name": "DescriptionStyleModel",
          "model_module_version": "1.5.0",
          "state": {
            "_model_module": "@jupyter-widgets/controls",
            "_model_module_version": "1.5.0",
            "_model_name": "DescriptionStyleModel",
            "_view_count": null,
            "_view_module": "@jupyter-widgets/base",
            "_view_module_version": "1.2.0",
            "_view_name": "StyleView",
            "description_width": ""
          }
        },
        "659eec8ace694adea9c119a6f3e42ff4": {
          "model_module": "@jupyter-widgets/base",
          "model_name": "LayoutModel",
          "model_module_version": "1.2.0",
          "state": {
            "_model_module": "@jupyter-widgets/base",
            "_model_module_version": "1.2.0",
            "_model_name": "LayoutModel",
            "_view_count": null,
            "_view_module": "@jupyter-widgets/base",
            "_view_module_version": "1.2.0",
            "_view_name": "LayoutView",
            "align_content": null,
            "align_items": null,
            "align_self": null,
            "border": null,
            "bottom": null,
            "display": null,
            "flex": null,
            "flex_flow": null,
            "grid_area": null,
            "grid_auto_columns": null,
            "grid_auto_flow": null,
            "grid_auto_rows": null,
            "grid_column": null,
            "grid_gap": null,
            "grid_row": null,
            "grid_template_areas": null,
            "grid_template_columns": null,
            "grid_template_rows": null,
            "height": null,
            "justify_content": null,
            "justify_items": null,
            "left": null,
            "margin": null,
            "max_height": null,
            "max_width": null,
            "min_height": null,
            "min_width": null,
            "object_fit": null,
            "object_position": null,
            "order": null,
            "overflow": null,
            "overflow_x": null,
            "overflow_y": null,
            "padding": null,
            "right": null,
            "top": null,
            "visibility": null,
            "width": null
          }
        },
        "46c5f060e3874976baea54bb63ec50ab": {
          "model_module": "@jupyter-widgets/controls",
          "model_name": "ProgressStyleModel",
          "model_module_version": "1.5.0",
          "state": {
            "_model_module": "@jupyter-widgets/controls",
            "_model_module_version": "1.5.0",
            "_model_name": "ProgressStyleModel",
            "_view_count": null,
            "_view_module": "@jupyter-widgets/base",
            "_view_module_version": "1.2.0",
            "_view_name": "StyleView",
            "bar_color": null,
            "description_width": ""
          }
        },
        "4f5e5bc3cfd24aba9fcebd9c50bccf62": {
          "model_module": "@jupyter-widgets/base",
          "model_name": "LayoutModel",
          "model_module_version": "1.2.0",
          "state": {
            "_model_module": "@jupyter-widgets/base",
            "_model_module_version": "1.2.0",
            "_model_name": "LayoutModel",
            "_view_count": null,
            "_view_module": "@jupyter-widgets/base",
            "_view_module_version": "1.2.0",
            "_view_name": "LayoutView",
            "align_content": null,
            "align_items": null,
            "align_self": null,
            "border": null,
            "bottom": null,
            "display": null,
            "flex": null,
            "flex_flow": null,
            "grid_area": null,
            "grid_auto_columns": null,
            "grid_auto_flow": null,
            "grid_auto_rows": null,
            "grid_column": null,
            "grid_gap": null,
            "grid_row": null,
            "grid_template_areas": null,
            "grid_template_columns": null,
            "grid_template_rows": null,
            "height": null,
            "justify_content": null,
            "justify_items": null,
            "left": null,
            "margin": null,
            "max_height": null,
            "max_width": null,
            "min_height": null,
            "min_width": null,
            "object_fit": null,
            "object_position": null,
            "order": null,
            "overflow": null,
            "overflow_x": null,
            "overflow_y": null,
            "padding": null,
            "right": null,
            "top": null,
            "visibility": null,
            "width": null
          }
        },
        "e67897736fcf41afa5588a04ce83c827": {
          "model_module": "@jupyter-widgets/controls",
          "model_name": "DescriptionStyleModel",
          "model_module_version": "1.5.0",
          "state": {
            "_model_module": "@jupyter-widgets/controls",
            "_model_module_version": "1.5.0",
            "_model_name": "DescriptionStyleModel",
            "_view_count": null,
            "_view_module": "@jupyter-widgets/base",
            "_view_module_version": "1.2.0",
            "_view_name": "StyleView",
            "description_width": ""
          }
        }
      }
    }
  },
  "nbformat": 4,
  "nbformat_minor": 0
}